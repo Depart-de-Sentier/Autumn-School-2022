{
 "cells": [
  {
   "cell_type": "markdown",
   "id": "1c6c844b-622e-4e74-83b1-c8a1071aaaea",
   "metadata": {},
   "source": [
    "# Datapackages\n",
    "\n",
    "Kernel: `bw25`"
   ]
  },
  {
   "cell_type": "code",
   "execution_count": null,
   "id": "c7375df6-8326-4f36-a765-535e8f9b0576",
   "metadata": {},
   "outputs": [],
   "source": [
    "import bw_processing as bwp\n",
    "import matrix_utils as mu\n",
    "import bw2calc as bc\n",
    "import bw2data as bd\n",
    "import bw2io as bi\n",
    "import numpy as np\n",
    "import seaborn as sb\n",
    "import pandas as pd\n",
    "from pathlib import Path"
   ]
  },
  {
   "cell_type": "markdown",
   "id": "4a8c9830-d0ca-479a-9f6a-020b5dd8bc15",
   "metadata": {},
   "source": [
    "Before we dive into it, let's think about what we need to actually build a matrix. What specific data would you need? What don't you need?\n",
    "\n",
    "## Exercise\n",
    "\n",
    "Please think about the minimal set of information you would need to build a *sparse matrix* using [scipy.sparse.coo_matrix](https://docs.scipy.org/doc/scipy/reference/generated/scipy.sparse.coo_matrix.html) (sparse matrices store only non-zero values). Then, create this information as Numpy arrays and actually build a sparse matrix.\n",
    "\n",
    "Here is the matrix you should build:\n",
    "\n",
    "$$\\begin{bmatrix} 0 & 1 \\\\ 2 & 3 \\end{bmatrix}$$"
   ]
  },
  {
   "cell_type": "markdown",
   "id": "1635ef16-d33c-4663-9237-747b45a2ccde",
   "metadata": {
    "tags": []
   },
   "source": [
    "## Hint"
   ]
  },
  {
   "cell_type": "markdown",
   "id": "9b41ae23-bc12-4ddc-9292-49da20f33c32",
   "metadata": {
    "tags": []
   },
   "source": [
    "You will need three Numpy arrays: one for the data, one for the row indices, and one for the column indices."
   ]
  },
  {
   "cell_type": "markdown",
   "id": "41a9de30-1ac1-40af-9ba8-092564e31278",
   "metadata": {},
   "source": [
    "## Solution"
   ]
  },
  {
   "cell_type": "code",
   "execution_count": null,
   "id": "47d29ce0-79a9-4afd-b1db-7c76faa40bf6",
   "metadata": {
    "tags": []
   },
   "outputs": [],
   "source": [
    "from scipy import sparse\n",
    "\n",
    "data = np.array([1, 2, 3])\n",
    "rows = np.array([0, 1, 1])\n",
    "cols = np.array([1, 0, 1])\n",
    "\n",
    "matrix = sparse.coo_matrix((data, (rows, cols)), (2, 2))\n",
    "matrix.toarray()"
   ]
  },
  {
   "cell_type": "markdown",
   "id": "20404d5e-261f-4922-93e0-bd35ad0d0a15",
   "metadata": {},
   "source": [
    "## `bw_processing`\n",
    "\n",
    "We can run into difficulties when we want to store this data. The library `bw_processing` helps us create data packages, which can store this matrix-building data on variety of file systems. You can read the [`bw_processing` README](github.com/brightway-lca/bw_processing) for more information, and can see the [PyFilesystem2 Docs](https://docs.pyfilesystem.org/en/latest/) for more on the filesystems that can be used.\n",
    "\n",
    "Let's define this same matrix in `bw_processing`.\n",
    "\n",
    "Matrices by definition are two-dimensional, so we know that to build matrices we will always need to specify the row and column indices of the data. We combine these two arrays into a single Numpy [structured array](https://numpy.org/doc/stable/user/basics.rec.html), which uses the labels `row` and `col`."
   ]
  },
  {
   "cell_type": "code",
   "execution_count": null,
   "id": "04ba1424-c124-4391-805e-68588143ef72",
   "metadata": {},
   "outputs": [],
   "source": [
    "import bw_processing as bwp\n",
    "import numpy as np\n",
    "\n",
    "indices_array = np.array([(0, 1), (1, 0), (1, 1)], dtype=bwp.INDICES_DTYPE)\n",
    "indices_array"
   ]
  },
  {
   "cell_type": "code",
   "execution_count": null,
   "id": "6396041c-17bf-4a0b-b72a-7f7d73a180f0",
   "metadata": {},
   "outputs": [],
   "source": [
    "indices_array['row']"
   ]
  },
  {
   "cell_type": "code",
   "execution_count": null,
   "id": "3dcba032-da1a-4818-8126-f4ab1e418c4d",
   "metadata": {},
   "outputs": [],
   "source": [
    "bwp.INDICES_DTYPE"
   ]
  },
  {
   "cell_type": "markdown",
   "id": "1afb5959-335f-4ba0-a40b-91324cc408e0",
   "metadata": {},
   "source": [
    "The data array is the same as before:"
   ]
  },
  {
   "cell_type": "code",
   "execution_count": null,
   "id": "b43f5478-c4aa-4b00-96c2-7d06f115f9b5",
   "metadata": {},
   "outputs": [],
   "source": [
    "data_array = np.array([1, 2, 3])\n",
    "data_array"
   ]
  },
  {
   "cell_type": "markdown",
   "id": "8d887832-21d2-4ca6-aba2-d4f9e27c2c07",
   "metadata": {},
   "source": [
    "This is all we need to create a data package:"
   ]
  },
  {
   "cell_type": "code",
   "execution_count": null,
   "id": "9174a0c1-555f-4857-949f-6276d7d39bf9",
   "metadata": {},
   "outputs": [],
   "source": [
    "dp = bwp.create_datapackage()\n",
    "\n",
    "dp.add_persistent_vector(\n",
    "    matrix=\"some name\",\n",
    "    data_array=data_array,\n",
    "    name=\"some name\",\n",
    "    indices_array=indices_array,\n",
    ")"
   ]
  },
  {
   "cell_type": "markdown",
   "id": "c67db730-388f-4b92-9448-44b5b8058880",
   "metadata": {},
   "source": [
    "For such simple matrices, we can also use a shortcut:"
   ]
  },
  {
   "cell_type": "markdown",
   "id": "8081b317-4d2e-447e-a5dc-2e2485920030",
   "metadata": {},
   "source": [
    "But before this gets too abstract, let's do the same for an example:\n",
    "\n",
    "<img src='simple-graph.png' width='400'>"
   ]
  },
  {
   "cell_type": "code",
   "execution_count": null,
   "id": "7a30f9eb-8914-4273-925f-3d78893cd7bc",
   "metadata": {},
   "outputs": [],
   "source": [
    "natural_gas = 101\n",
    "carbon_fibre = 102\n",
    "bike = 103\n",
    "co2 = 201"
   ]
  },
  {
   "cell_type": "markdown",
   "id": "92f8c609-333e-4d9c-9829-1b5d6b9ed146",
   "metadata": {},
   "source": [
    "In our technosphere matrix, we will have three production exchanges (each of amount 1), and two consumption exchanges. Our biosphere matrix will only have one number, the emission of $CO_{2}$ from carbon fibre production.\n",
    "\n",
    "Our matrices should look like this:\n",
    "\n",
    "## Technosphere matrix\n",
    "\n",
    "Dimensions are products (rows) by activities (columns).\n",
    "\n",
    "$$\n",
    "\\left[\\begin{array}{ccc} \n",
    "1 & 0 & 0\\\\\n",
    "-237 & 1 & 0\\\\\n",
    "0 & -2.5 & 1\\\\\n",
    "\\end{array}\\right]\n",
    "$$\n",
    "\n",
    "## Biosphere matrix\n",
    "\n",
    "Dimensions are flows (rows) by activities (columns).\n",
    "\n",
    "$$\n",
    "\\left[\\begin{array}{ccc} \n",
    "0 & 26.6 & 0\\\\ \n",
    "\\end{array}\\right]\n",
    "$$ \n",
    "\n",
    "## Characterization matrix\n",
    "\n",
    "Dimensions are flows (rows) by flows (columns).\n",
    "\n",
    "$$\n",
    "\\left[\\begin{array}{c} \n",
    "1\\\\ \n",
    "\\end{array}\\right]\n",
    "$$"
   ]
  },
  {
   "cell_type": "markdown",
   "id": "5a2d45da-125b-40a8-a0de-a10f05af12d1",
   "metadata": {},
   "source": [
    "# A first LCA calculation\n",
    "\n",
    "To use datapackages, we need to know four thing for each point: the row and column ids, the data value, and the sign. We only need to store the non-zero points. Here is an example for the technosphere matrix:"
   ]
  },
  {
   "cell_type": "code",
   "execution_count": null,
   "id": "23951444-84a2-40b5-9687-e3cbd3053dc2",
   "metadata": {},
   "outputs": [],
   "source": [
    "t_data = np.array([\n",
    "    1,   # production of natural gas\n",
    "    1,   # production of carbon fibre\n",
    "    1,   # production of bike\n",
    "    237, # input of natural gas\n",
    "    2.5, # input of carbon fibre\n",
    "])\n",
    "t_indices = np.array([\n",
    "    (101, 101), # production of natural gas\n",
    "    (102, 102), # production of carbon fibre\n",
    "    (103, 103), # production of bike\n",
    "    (101, 102), # input of natural gas\n",
    "    (102, 103), # input of carbon fibre\n",
    "    ], \n",
    "    dtype=bwp.INDICES_DTYPE\n",
    ")\n",
    "t_flip = np.array([False, False, False, True, True]) # Numerical sign of the inputs needs to be flipped negative"
   ]
  },
  {
   "cell_type": "markdown",
   "id": "b29dcb59-79eb-4ce4-8881-024b7b0892ab",
   "metadata": {},
   "source": [
    "And similarly for the other matrices (no need to flip signs, so we skip that part):"
   ]
  },
  {
   "cell_type": "code",
   "execution_count": null,
   "id": "15eaabd8-0b91-4973-a7d6-cb6b5ed9f54e",
   "metadata": {},
   "outputs": [],
   "source": [
    "b_data = np.array([26.6])\n",
    "b_indices = np.array([\n",
    "    (201, 102), # emission of CO2\n",
    "    ], \n",
    "    dtype=bwp.INDICES_DTYPE\n",
    ")"
   ]
  },
  {
   "cell_type": "code",
   "execution_count": null,
   "id": "4e6efb7c-cac3-4536-b93e-da76fa2a49a3",
   "metadata": {},
   "outputs": [],
   "source": [
    "c_data = np.array([1])\n",
    "c_indices = np.array([\n",
    "    (201, 201), # CF of CO2\n",
    "    ], \n",
    "    dtype=bwp.INDICES_DTYPE\n",
    ")"
   ]
  },
  {
   "cell_type": "markdown",
   "id": "53f00163-c997-4555-a563-8a767e75f2fa",
   "metadata": {},
   "source": [
    "We can now create our datapackage, and add the data for all three matrices to it:"
   ]
  },
  {
   "cell_type": "code",
   "execution_count": null,
   "id": "a7fc1602-4fad-45c8-a84f-f47943bfe739",
   "metadata": {},
   "outputs": [],
   "source": [
    "dp_static = bwp.create_datapackage()"
   ]
  },
  {
   "cell_type": "code",
   "execution_count": null,
   "id": "46e9a1b2-6ec3-4627-924a-646a4e8e64a1",
   "metadata": {},
   "outputs": [],
   "source": [
    "dp_static.add_persistent_vector(\n",
    "    matrix='technosphere_matrix',\n",
    "    indices_array=t_indices,\n",
    "    data_array=t_data,\n",
    "    flip_array=t_flip,\n",
    ")\n",
    "dp_static.add_persistent_vector(\n",
    "    matrix='biosphere_matrix',\n",
    "    indices_array=b_indices,\n",
    "    data_array=b_data,\n",
    ")\n",
    "dp_static.add_persistent_vector(\n",
    "    matrix='characterization_matrix',\n",
    "    indices_array=c_indices,\n",
    "    data_array=c_data,\n",
    ")"
   ]
  },
  {
   "cell_type": "markdown",
   "id": "58cc32ba-d495-4a27-a7e6-a9c9ceaa7b85",
   "metadata": {},
   "source": [
    "This is already enough to calculate an LCA score:"
   ]
  },
  {
   "cell_type": "code",
   "execution_count": null,
   "id": "4de9b4ab-ce03-4ab3-9e56-42420875356c",
   "metadata": {},
   "outputs": [],
   "source": [
    "lca = bc.LCA(\n",
    "    demand={bike: 1},\n",
    "    data_objs=[dp_static],\n",
    ")\n",
    "lca.lci()\n",
    "lca.lcia()\n",
    "lca.score"
   ]
  },
  {
   "cell_type": "markdown",
   "id": "b771d694-bacd-4ebb-8d1e-35ec36264a54",
   "metadata": {},
   "source": [
    "# Uncertainty\n",
    "\n",
    "Datapackages allow for uncertainty to expressed in multiple ways; the classic way is LCA is with probability distribution functions, but it can also be given via population data or samples drawn from nonparameteric distributions."
   ]
  },
  {
   "cell_type": "markdown",
   "id": "8216209b-1a34-4e4c-86e6-a69862e463fe",
   "metadata": {},
   "source": [
    "# Using arrays for scenarios\n",
    "\n",
    "We can use arrays for scenarios. Let's imagine two different possibilities: a lightweight bike with 1.5 kilograms of carbon fibre, and a technology platform that allows for efficient bike sharing making each bike functionally equivalent to two bikes (I know, I find this silly as well). If we treat these as separate possibilities, we have four scenarios in total.\n",
    "\n",
    "For this to work, we will need to create **two** new arrays, one for each choice, and then tell the software to do combinatorial sampling:"
   ]
  },
  {
   "cell_type": "code",
   "execution_count": null,
   "id": "1c5af1e7-4063-46da-b3cc-3a25769e51c7",
   "metadata": {},
   "outputs": [],
   "source": [
    "dp_scenarios = bwp.create_datapackage(combinatorial=True)"
   ]
  },
  {
   "cell_type": "code",
   "execution_count": null,
   "id": "c4ad459f-29bd-4454-b51f-72dbc16a5356",
   "metadata": {},
   "outputs": [],
   "source": [
    "dp_scenarios.add_persistent_array(\n",
    "    matrix='technosphere_matrix',\n",
    "    indices_array=np.array([(102, 103)], dtype=bwp.INDICES_DTYPE),\n",
    "    data_array=np.array([(2.5, 1.5)]),\n",
    "    flip_array=np.array([True]),\n",
    "    name='cf scenario'\n",
    ")\n",
    "dp_scenarios.add_persistent_array(\n",
    "    matrix='technosphere_matrix',\n",
    "    indices_array=np.array([(103, 103)], dtype=bwp.INDICES_DTYPE),\n",
    "    data_array=np.array([(1, 2)]),\n",
    "    name='double bike'\n",
    ")"
   ]
  },
  {
   "cell_type": "code",
   "execution_count": null,
   "id": "f75e957c-077a-481f-82e6-09dfd1007bbe",
   "metadata": {},
   "outputs": [],
   "source": [
    "scenario_mapping = {\n",
    "    (0, 0): \"Original\",\n",
    "    (0, 1): \"Each bike counts double\",\n",
    "    (1, 0): \"Lightweight\",\n",
    "    (1, 1): \"Lightweight & each bike counts double\",\n",
    "}"
   ]
  },
  {
   "cell_type": "code",
   "execution_count": null,
   "id": "13c7d614-db27-47bf-844f-090f5a5306db",
   "metadata": {},
   "outputs": [],
   "source": [
    "lca = bc.LCA(\n",
    "    demand={bike: 1},\n",
    "    data_objs=[dp_static, dp_scenarios],\n",
    "    use_arrays=True,\n",
    ")\n",
    "lca.lci()\n",
    "lca.lcia()"
   ]
  },
  {
   "cell_type": "code",
   "execution_count": null,
   "id": "cf559abe-39d1-410c-9410-9ea46c0c3ef2",
   "metadata": {},
   "outputs": [],
   "source": [
    "resource_group = next(grp for grp in lca.technosphere_mm.groups if grp.label == 'double bike').indexer.indexer"
   ]
  },
  {
   "cell_type": "code",
   "execution_count": null,
   "id": "f85dcaef-f510-45c1-9a99-56436aa9c93b",
   "metadata": {},
   "outputs": [],
   "source": [
    "print(lca.score, scenario_mapping[resource_group.index])\n",
    "\n",
    "for scenario_result in lca:\n",
    "    print(lca.score, scenario_mapping[resource_group.index])"
   ]
  },
  {
   "cell_type": "markdown",
   "id": "812e2f2b-769e-4ca7-b28a-a4e048d8f011",
   "metadata": {},
   "source": [
    "# Datapackage structure\n",
    "\n",
    "Let's look at a real-world example."
   ]
  },
  {
   "cell_type": "code",
   "execution_count": null,
   "id": "ca87a581-3a48-4ef4-8a4f-5129e34c4421",
   "metadata": {},
   "outputs": [],
   "source": [
    "bd.projects.set_current(\"datapackage demo\")"
   ]
  },
  {
   "cell_type": "code",
   "execution_count": null,
   "id": "ec4304f0-4e11-4af1-99fc-710566f79ba2",
   "metadata": {},
   "outputs": [],
   "source": [
    "bi.useeio11()"
   ]
  },
  {
   "cell_type": "code",
   "execution_count": null,
   "id": "7e985a4f-8c12-4e64-a0e7-ea40151f4d64",
   "metadata": {},
   "outputs": [],
   "source": [
    "useeio = bd.Database(\"US EEIO 1.1\")"
   ]
  },
  {
   "cell_type": "code",
   "execution_count": null,
   "id": "c82f81c1-3003-4a87-a688-d2de76a965a3",
   "metadata": {},
   "outputs": [],
   "source": [
    "htox = bd.Method(('Impact Potential', 'HTOX'))"
   ]
  },
  {
   "cell_type": "code",
   "execution_count": null,
   "id": "420eed21-73db-4821-b23a-795a6651520a",
   "metadata": {},
   "outputs": [],
   "source": [
    "prod = useeio.get(id=540)\n",
    "prod, prod['type']"
   ]
  },
  {
   "cell_type": "code",
   "execution_count": null,
   "id": "e5dc7d64-b060-49e8-9b4e-146ea6d67b36",
   "metadata": {},
   "outputs": [],
   "source": [
    "lca = bc.LCA({prod.id: 1}, data_objs=[useeio.datapackage(), htox.datapackage()])\n",
    "lca.lci()\n",
    "lca.lcia()\n",
    "lca.score"
   ]
  },
  {
   "cell_type": "markdown",
   "id": "ed62988d-3072-45f5-8686-329a34d8b641",
   "metadata": {},
   "source": [
    "`metadata` attribute:"
   ]
  },
  {
   "cell_type": "code",
   "execution_count": null,
   "id": "1e28c352-567f-453e-b52b-9d0040f78f1a",
   "metadata": {},
   "outputs": [],
   "source": [
    "dp = useeio.datapackage()\n",
    "dp.metadata"
   ]
  },
  {
   "cell_type": "markdown",
   "id": "e51f105c-dd3e-4da2-878a-448df1d61b63",
   "metadata": {},
   "source": [
    "Also have `resources` (just part of the `metadata`).\n",
    "\n",
    "`data` attribute:"
   ]
  },
  {
   "cell_type": "code",
   "execution_count": null,
   "id": "dacc3345-c56f-4df5-90ad-dc6fa5d02c71",
   "metadata": {},
   "outputs": [],
   "source": [
    "dp.data"
   ]
  },
  {
   "cell_type": "markdown",
   "id": "0bca783e-26b7-463e-9275-9d6e14ca8c9c",
   "metadata": {},
   "source": [
    "## Accessing specific resources (data and resource metadata)"
   ]
  },
  {
   "cell_type": "code",
   "execution_count": null,
   "id": "1b8d1743-2982-4f01-aadf-f9b560e73734",
   "metadata": {},
   "outputs": [],
   "source": [
    "array, dict_ = dp.get_resource('US_EEIO_1.1_biosphere_matrix.data')"
   ]
  },
  {
   "cell_type": "code",
   "execution_count": null,
   "id": "1b87959c-a30e-4349-97e4-37342ae3057b",
   "metadata": {},
   "outputs": [],
   "source": [
    "array"
   ]
  },
  {
   "cell_type": "code",
   "execution_count": null,
   "id": "73bdd1c5-4d52-4742-a73c-a0ba7790a1a6",
   "metadata": {},
   "outputs": [],
   "source": [
    "dict_"
   ]
  },
  {
   "cell_type": "markdown",
   "id": "d05abd8b-12eb-4ce1-ab18-98bddd687b74",
   "metadata": {},
   "source": [
    "## Modifying existing data packages\n",
    "\n",
    "Once a datapackage is loaded (or created), you can change the arrays in place. Let's reduce the inputs of out functional unit by half:"
   ]
  },
  {
   "cell_type": "code",
   "execution_count": null,
   "id": "d9429afc-c3b5-46ff-b3f1-56489d7511e3",
   "metadata": {},
   "outputs": [],
   "source": [
    "tm_indices, _ = dp.get_resource('US_EEIO_1.1_technosphere_matrix.indices')\n",
    "tm_data, _ = dp.get_resource('US_EEIO_1.1_technosphere_matrix.data')\n",
    "tm_flip, _ = dp.get_resource('US_EEIO_1.1_technosphere_matrix.flip')"
   ]
  },
  {
   "cell_type": "code",
   "execution_count": null,
   "id": "b21f3bd3-5a12-4c1f-b25c-89b87a0f283b",
   "metadata": {},
   "outputs": [],
   "source": [
    "act = next(exc.output for exc in prod.consumers() if exc.output['name'] == exc.input['name'])"
   ]
  },
  {
   "cell_type": "code",
   "execution_count": null,
   "id": "de3a1e48-526e-4e5f-8e4e-a80e64436340",
   "metadata": {},
   "outputs": [],
   "source": [
    "mask = (tm_indices['col'] == act.id) * tm_flip\n",
    "mask.sum()"
   ]
  },
  {
   "cell_type": "code",
   "execution_count": null,
   "id": "23422a34-36fc-4079-baed-564c087b5425",
   "metadata": {},
   "outputs": [],
   "source": [
    "tm_data[mask] *= 0.5"
   ]
  },
  {
   "cell_type": "code",
   "execution_count": null,
   "id": "fdc77f9b-b931-40a1-b0a8-8037b4434eac",
   "metadata": {},
   "outputs": [],
   "source": [
    "lca2 = bc.LCA({prod.id: 1}, data_objs=[useeio.datapackage(), htox.datapackage()])\n",
    "lca2.lci()\n",
    "lca2.lcia()\n",
    "lca.score, lca2.score"
   ]
  },
  {
   "cell_type": "markdown",
   "id": "7eaeacff-a078-4130-95d8-74afae15e700",
   "metadata": {},
   "source": [
    "# Saving modified datapackages\n",
    "\n",
    "In general you should save new copies instead of saving changes to existing datapackages, especially ones stored as ZipFiles (they are just a pain to deal with)."
   ]
  },
  {
   "cell_type": "code",
   "execution_count": null,
   "id": "f26f6561-203d-4280-9632-38ad539c0087",
   "metadata": {},
   "outputs": [],
   "source": [
    "ndp = bwp.create_datapackage(\n",
    "    fs=bwp.generic_zipfile_filesystem(dirpath=Path.cwd(), filename=\"modified.zip\", write=True),\n",
    ")\n",
    "ndp.add_persistent_vector(\n",
    "    matrix=\"technosphere_matrix\",\n",
    "    indices_array=tm_indices,\n",
    "    data_array=tm_data,\n",
    "    flip_array=tm_flip\n",
    ")\n",
    "ndp.finalize_serialization()"
   ]
  },
  {
   "cell_type": "code",
   "execution_count": null,
   "id": "af63bc8b-131b-4843-bd97-13a9e91908fc",
   "metadata": {},
   "outputs": [],
   "source": [
    "lca3 = bc.LCA(\n",
    "    {prod.id: 1}, data_objs=[\n",
    "        bwp.load_datapackage(fs_or_obj=bwp.generic_zipfile_filesystem(dirpath=Path.cwd(), filename=\"modified.zip\", write=False)), \n",
    "        htox.datapackage()\n",
    "    ]\n",
    ")\n",
    "lca3.lci()\n",
    "lca3.lcia()\n",
    "lca.score, lca3.score"
   ]
  },
  {
   "cell_type": "markdown",
   "id": "562df2d0-47f8-4ef1-9651-48a5760138cc",
   "metadata": {},
   "source": [
    "# Challenge\n",
    "\n",
    "Create and use a datapackage with *just* the modified data (same method, functional unit, etc.)"
   ]
  },
  {
   "cell_type": "markdown",
   "id": "cc91f5cb-7dfe-4c47-af9c-5521e8c9302c",
   "metadata": {},
   "source": [
    "# More links:\n",
    "\n",
    "Docs: https://github.com/brightway-lca/bw_processing\n",
    "\n",
    "More simple use cases: https://github.com/brightway-lca/from-the-ground-up/blob/main/2%20-%20Building%20and%20using%20matrices%20in%20bw2calc.ipynb\n",
    "\n",
    "Interfaces: https://github.com/brightway-lca/matrix_utils/blob/main/dev/Brightway%202.5%20demonstration.ipynb\n",
    "\n",
    "Modify supply chains (more real than our example): https://github.com/brightway-lca/matrix_utils/blob/main/dev/Supply%20chain%20modification.ipynb"
   ]
  },
  {
   "cell_type": "code",
   "execution_count": null,
   "id": "e694b9d9-4034-463f-af1f-442e30e0a608",
   "metadata": {},
   "outputs": [],
   "source": []
  }
 ],
 "metadata": {
  "kernelspec": {
   "display_name": "Python [conda env:bw25]",
   "language": "python",
   "name": "conda-env-bw25-py"
  },
  "language_info": {
   "codemirror_mode": {
    "name": "ipython",
    "version": 3
   },
   "file_extension": ".py",
   "mimetype": "text/x-python",
   "name": "python",
   "nbconvert_exporter": "python",
   "pygments_lexer": "ipython3",
   "version": "3.10.6"
  }
 },
 "nbformat": 4,
 "nbformat_minor": 5
}
