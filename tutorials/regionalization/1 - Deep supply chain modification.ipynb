{
 "cells": [
  {
   "cell_type": "markdown",
   "metadata": {},
   "source": [
    "# Selecting copper providers\n",
    "\n",
    "Kernel: `bw25`"
   ]
  },
  {
   "cell_type": "code",
   "execution_count": null,
   "metadata": {},
   "outputs": [],
   "source": [
    "import bw2data as bd\n",
    "import bw2calc as bc\n",
    "import bw_processing as bwp\n",
    "import numpy as np"
   ]
  },
  {
   "cell_type": "markdown",
   "metadata": {},
   "source": [
    "Ecoinvent and base data already imported"
   ]
  },
  {
   "cell_type": "code",
   "execution_count": null,
   "metadata": {},
   "outputs": [],
   "source": [
    "if 'ei38-teaching-25' not in bd.projects:\n",
    "    bi.restore_project_directory(\"/srv/data/projects/ecoinvent38-25.tar.gz\")"
   ]
  },
  {
   "cell_type": "code",
   "execution_count": null,
   "metadata": {},
   "outputs": [],
   "source": [
    "bd.projects.set_current('ei38-teaching-25')"
   ]
  },
  {
   "cell_type": "code",
   "execution_count": null,
   "metadata": {},
   "outputs": [],
   "source": [
    "tox = ('ReCiPe Midpoint (E) V1.13', 'human toxicity', 'HTPinf')"
   ]
  },
  {
   "cell_type": "markdown",
   "metadata": {},
   "source": [
    "2.5 gets rid of the `mapping` dictionary, using instead the SQLite row ids. It exposes this value with the `.id` property."
   ]
  },
  {
   "cell_type": "code",
   "execution_count": null,
   "metadata": {},
   "outputs": [],
   "source": [
    "bd.databases"
   ]
  },
  {
   "cell_type": "code",
   "execution_count": null,
   "metadata": {},
   "outputs": [],
   "source": [
    "car = bd.get_activity(database=\"ei 3.8 cutoff\", name='transport, passenger car, electric')\n",
    "car"
   ]
  },
  {
   "cell_type": "code",
   "execution_count": null,
   "metadata": {},
   "outputs": [],
   "source": [
    "fu, data_objs, _ = bd.prepare_lca_inputs({car: 1}, method=tox)"
   ]
  },
  {
   "cell_type": "markdown",
   "metadata": {},
   "source": [
    "See [bw_processing](https://github.com/brightway-lca/bw_processing) for a description of these data packages."
   ]
  },
  {
   "cell_type": "code",
   "execution_count": null,
   "metadata": {},
   "outputs": [],
   "source": [
    "lca = bc.LCA(fu, data_objs=data_objs)"
   ]
  },
  {
   "cell_type": "code",
   "execution_count": null,
   "metadata": {},
   "outputs": [],
   "source": [
    "lca.lci()\n",
    "lca.lcia()"
   ]
  },
  {
   "cell_type": "code",
   "execution_count": null,
   "metadata": {},
   "outputs": [],
   "source": [
    "lca.score"
   ]
  },
  {
   "cell_type": "markdown",
   "metadata": {},
   "source": [
    "# Modifying the supply chain\n",
    "\n",
    "Let's test the impact of knowing specifically where our copper comes from"
   ]
  },
  {
   "cell_type": "code",
   "execution_count": null,
   "metadata": {},
   "outputs": [],
   "source": [
    "[(o.id, o.key) for o in bd.Database(\"ei 3.8 cutoff\") if o['name'] == 'market for copper concentrate, sulfide ore']"
   ]
  },
  {
   "cell_type": "code",
   "execution_count": null,
   "metadata": {},
   "outputs": [],
   "source": [
    "copper = bd.get_activity(database=\"ei 3.8 cutoff\", name='market for copper concentrate, sulfide ore')\n",
    "copper"
   ]
  },
  {
   "cell_type": "markdown",
   "metadata": {},
   "source": [
    "This is a market, with different mines (and their varying technologies, concentrations, and energy sources) over the world contributing."
   ]
  },
  {
   "cell_type": "code",
   "execution_count": null,
   "metadata": {},
   "outputs": [],
   "source": [
    "sum(exc['amount'] for exc in copper.technosphere())"
   ]
  },
  {
   "cell_type": "markdown",
   "metadata": {},
   "source": [
    "The tox impact per kilogram of copper varies a lot, though some of this is due to allocation across multiple metals."
   ]
  },
  {
   "cell_type": "code",
   "execution_count": null,
   "metadata": {},
   "outputs": [],
   "source": [
    "for exc in copper.technosphere():\n",
    "    lca.redo_lcia({exc.input.id: 1})\n",
    "    print(lca.score, exc.input)"
   ]
  },
  {
   "cell_type": "markdown",
   "metadata": {},
   "source": [
    "# Modification approach 1: Create new LCA for each possibility"
   ]
  },
  {
   "cell_type": "code",
   "execution_count": null,
   "metadata": {},
   "outputs": [],
   "source": [
    "possibles = [exc.input for exc in copper.technosphere()]"
   ]
  },
  {
   "cell_type": "code",
   "execution_count": null,
   "metadata": {},
   "outputs": [],
   "source": [
    "possibles"
   ]
  },
  {
   "cell_type": "markdown",
   "metadata": {},
   "source": [
    "Our approach here is simple: We want to set the inputs to the market to zero to everything except the one input we are considering:"
   ]
  },
  {
   "cell_type": "code",
   "execution_count": null,
   "metadata": {},
   "outputs": [],
   "source": [
    "def create_replacement_vector_dp(parent, possibles, selected):\n",
    "    modified = bwp.create_datapackage()\n",
    "    # Everything is zero...\n",
    "    data = np.zeros(len(possibles))\n",
    "    indices = np.zeros(len(possibles), dtype=bwp.INDICES_DTYPE)\n",
    "    \n",
    "    for index, obj in enumerate(possibles):\n",
    "        if obj.id == selected:\n",
    "            # ... except the one input we selected. Minus sign because it is consumed.\n",
    "            # Could also be positive, and then use a `flip` vector. See \n",
    "            # bw_processing and matrix_utils for more details.\n",
    "            data[index] = -1\n",
    "        indices[index] = (obj.id, parent)\n",
    "        \n",
    "    modified.add_persistent_vector(\n",
    "        matrix=\"technosphere_matrix\",\n",
    "        indices_array=indices,\n",
    "        name=\"Substitute global copper mix\",\n",
    "        data_array=data,\n",
    "    )\n",
    "    return modified"
   ]
  },
  {
   "cell_type": "markdown",
   "metadata": {},
   "source": [
    "To use this new substituting data package, we just add it to the list of other data packages (but at the end, so it has the final word)."
   ]
  },
  {
   "cell_type": "code",
   "execution_count": null,
   "metadata": {},
   "outputs": [],
   "source": [
    "for supplier in possibles:\n",
    "    dp = create_replacement_vector_dp(copper.id, possibles, supplier.id)\n",
    "    \n",
    "    lca = bc.LCA(fu, data_objs=data_objs + [dp])\n",
    "    lca.lci()\n",
    "    lca.lcia()\n",
    "    \n",
    "    print(lca.score, supplier)"
   ]
  },
  {
   "cell_type": "markdown",
   "metadata": {},
   "source": [
    "# Modification approach 2: Array of possible suppliers\n",
    "\n",
    "We can reuse the LCA object (though the technosphere matrix will be automatically regenerated) we use arrays instead of vectors.\n",
    "\n",
    "This is an evolution of the [presamples](https://github.com/PascalLesage/presamples/) approach. One big change versus `presamples` is that we no can add whatever rows, columns, or values we want to the matrix, without needing to create dummy values to be modified later."
   ]
  },
  {
   "cell_type": "code",
   "execution_count": null,
   "metadata": {},
   "outputs": [],
   "source": [
    "def create_replacement_array_dp(parent, possibles):\n",
    "    modified = bwp.create_datapackage(sum_intra_duplicates=True, sum_inter_duplicates=False)\n",
    "    data = np.diag(np.ones(len(possibles))) * -1\n",
    "    indices = np.zeros(len(possibles), dtype=bwp.INDICES_DTYPE)\n",
    "    \n",
    "    for index, obj in enumerate(possibles):\n",
    "        indices[index] = (obj.id, parent)\n",
    "                \n",
    "    modified.add_persistent_array(\n",
    "        matrix=\"technosphere_matrix\",\n",
    "        indices_array=indices,\n",
    "        name=\"Substitute global copper mix\",\n",
    "        data_array=data,\n",
    "    )\n",
    "    return modified"
   ]
  },
  {
   "cell_type": "markdown",
   "metadata": {},
   "source": [
    "Arrays lets us express multiple scenarios or system configurations in one data format. Each column is a different configuration."
   ]
  },
  {
   "cell_type": "code",
   "execution_count": null,
   "metadata": {},
   "outputs": [],
   "source": [
    "np.diag(np.ones(10)) * -1"
   ]
  },
  {
   "cell_type": "markdown",
   "metadata": {},
   "source": [
    "When using these configurations, we can just iterate through the LCA object with `next`. The iteration order for each data package is controlled by its [policies](https://github.com/brightway-lca/bw_processing#policies)."
   ]
  },
  {
   "cell_type": "code",
   "execution_count": null,
   "metadata": {},
   "outputs": [],
   "source": [
    "lca = bc.LCA(fu, data_objs=data_objs + [create_replacement_array_dp(copper.id, possibles)], use_arrays=True)\n",
    "lca.lci()\n",
    "lca.lcia()\n",
    "\n",
    "for supplier in possibles:\n",
    "    print(lca.score, supplier)\n",
    "    next(lca)"
   ]
  },
  {
   "cell_type": "markdown",
   "metadata": {},
   "source": [
    "The correct approach for you will depend on your problem, how imperatirve or functional you are feeling that day, your mood, etc ;)"
   ]
  }
 ],
 "metadata": {
  "kernelspec": {
   "display_name": "Python [conda env:bw25]",
   "language": "python",
   "name": "conda-env-bw25-py"
  },
  "language_info": {
   "codemirror_mode": {
    "name": "ipython",
    "version": 3
   },
   "file_extension": ".py",
   "mimetype": "text/x-python",
   "name": "python",
   "nbconvert_exporter": "python",
   "pygments_lexer": "ipython3",
   "version": "3.10.6"
  }
 },
 "nbformat": 4,
 "nbformat_minor": 4
}
