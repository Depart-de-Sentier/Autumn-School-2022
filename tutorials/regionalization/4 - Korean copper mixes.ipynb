{
 "cells": [
  {
   "cell_type": "markdown",
   "metadata": {},
   "source": [
    "# Korean specific copper mixes\n",
    "\n",
    "Kernel: `bw25`\n",
    "\n",
    "This notebook assumes you have run notebooks 2 and 3 already."
   ]
  },
  {
   "cell_type": "code",
   "execution_count": 1,
   "metadata": {},
   "outputs": [],
   "source": [
    "import pandas as pd\n",
    "import bw2data as bd\n",
    "import bw2io as bi\n",
    "import bw2analyzer as ba\n",
    "import bw2calc as bc\n",
    "import bw_processing as bwp\n",
    "from pathlib import Path\n",
    "import numpy as np\n",
    "import csv\n",
    "import sys"
   ]
  },
  {
   "cell_type": "code",
   "execution_count": 2,
   "metadata": {},
   "outputs": [],
   "source": [
    "bd.projects.set_current('ei38-teaching-25')"
   ]
  },
  {
   "cell_type": "markdown",
   "metadata": {},
   "source": [
    "Let's review our potential sources of copper, and their market fractions:"
   ]
  },
  {
   "cell_type": "code",
   "execution_count": 4,
   "metadata": {},
   "outputs": [
    {
     "data": {
      "text/plain": [
       "'market for copper concentrate, sulfide ore' (kilogram, GLO, None)"
      ]
     },
     "execution_count": 4,
     "metadata": {},
     "output_type": "execute_result"
    }
   ],
   "source": [
    "copper = bd.get_activity(database=\"ei 3.8 cutoff\", name='market for copper concentrate, sulfide ore')\n",
    "copper"
   ]
  },
  {
   "cell_type": "code",
   "execution_count": 5,
   "metadata": {},
   "outputs": [
    {
     "name": "stdout",
     "output_type": "stream",
     "text": [
      "Exchange: 0.0260899569876454 kilogram 'zinc mine operation' (kilogram, GLO, None) to 'market for copper concentrate, sulfide ore' (kilogram, GLO, None)>\n",
      "Exchange: 0.0515377913932391 kilogram 'copper mine operation and beneficiation, sulfide ore' (kilogram, AU, None) to 'market for copper concentrate, sulfide ore' (kilogram, GLO, None)>\n",
      "Exchange: 0.0385427501095062 kilogram 'copper mine operation and beneficiation, sulfide ore' (kilogram, CA, None) to 'market for copper concentrate, sulfide ore' (kilogram, GLO, None)>\n",
      "Exchange: 0.220395946156588 kilogram 'copper mine operation and beneficiation, sulfide ore' (kilogram, CL, None) to 'market for copper concentrate, sulfide ore' (kilogram, GLO, None)>\n",
      "Exchange: 0.092347757599498 kilogram 'copper mine operation and beneficiation, sulfide ore' (kilogram, CN, None) to 'market for copper concentrate, sulfide ore' (kilogram, GLO, None)>\n",
      "Exchange: 0.0317023807993413 kilogram 'copper mine operation and beneficiation, sulfide ore' (kilogram, ID, None) to 'market for copper concentrate, sulfide ore' (kilogram, GLO, None)>\n",
      "Exchange: 0.0257578324622638 kilogram 'copper mine operation and beneficiation, sulfide ore' (kilogram, KZ, None) to 'market for copper concentrate, sulfide ore' (kilogram, GLO, None)>\n",
      "Exchange: 0.0403675820590491 kilogram 'copper mine operation and beneficiation, sulfide ore' (kilogram, RU, None) to 'market for copper concentrate, sulfide ore' (kilogram, GLO, None)>\n",
      "Exchange: 0.0439619555749474 kilogram 'copper mine operation and beneficiation, sulfide ore' (kilogram, US, None) to 'market for copper concentrate, sulfide ore' (kilogram, GLO, None)>\n",
      "Exchange: 0.0304139341447462 kilogram 'copper mine operation and beneficiation, sulfide ore' (kilogram, ZM, None) to 'market for copper concentrate, sulfide ore' (kilogram, GLO, None)>\n",
      "Exchange: 0.000558972017421674 kilogram 'gold-silver mine operation and beneficiation' (kilogram, CA-QC, None) to 'market for copper concentrate, sulfide ore' (kilogram, GLO, None)>\n",
      "Exchange: 0.0904226503711535 kilogram 'molybdenite mine operation' (kilogram, GLO, None) to 'market for copper concentrate, sulfide ore' (kilogram, GLO, None)>\n",
      "Exchange: 0.00131543821211861 kilogram 'smelting and refining of nickel concentrate, 16% Ni' (kilogram, GLO, None) to 'market for copper concentrate, sulfide ore' (kilogram, GLO, None)>\n",
      "Exchange: 0.263046886729172 kilogram 'copper mine operation and beneficiation, sulfide ore' (kilogram, RoW, None) to 'market for copper concentrate, sulfide ore' (kilogram, GLO, None)>\n",
      "Exchange: 5.11005981757607e-05 kilogram 'primary zinc production from concentrate' (kilogram, RoW, None) to 'market for copper concentrate, sulfide ore' (kilogram, GLO, None)>\n",
      "Exchange: 0.0434870647851338 kilogram 'cobalt production' (kilogram, GLO, None) to 'market for copper concentrate, sulfide ore' (kilogram, GLO, None)>\n"
     ]
    }
   ],
   "source": [
    "for exc in copper.technosphere():\n",
    "    print(exc)"
   ]
  },
  {
   "cell_type": "markdown",
   "metadata": {},
   "source": [
    "Getting region-specific data on copper co-production will be difficult, as ecoinvent doesn't have much geographic details on these mines (e.g. molybdenite, zinc, gold, and nickel production). Let's see how much is produced in primarily copper mines:"
   ]
  },
  {
   "cell_type": "code",
   "execution_count": 6,
   "metadata": {},
   "outputs": [
    {
     "data": {
      "text/plain": [
       "0.8380748170283512"
      ]
     },
     "execution_count": 6,
     "metadata": {},
     "output_type": "execute_result"
    }
   ],
   "source": [
    "sum([\n",
    "    exc['amount']\n",
    "    for exc in copper.technosphere()\n",
    "    if exc.input['name'] == 'copper mine operation and beneficiation, sulfide ore'\n",
    "])"
   ]
  },
  {
   "cell_type": "markdown",
   "metadata": {},
   "source": [
    "I think that this is good enough. Now, we know that we have cooper production in Exiobase:"
   ]
  },
  {
   "cell_type": "code",
   "execution_count": 9,
   "metadata": {},
   "outputs": [],
   "source": [
    "cu_kr_exiobase = bd.get_activity(name='Copper production', database=\"EXIOBASE 3.8.1 2017 monetary\", location='KR')"
   ]
  },
  {
   "cell_type": "markdown",
   "metadata": {},
   "source": [
    "However, I am not sure that we should take this activity as the mix of copper being used in industry, and particularly in the car parts industry. Instead, let's take advantage of the fact that we have the whole Exiobase database to do an inventory calculation. For our functional unit, we can use `Manufacture of electrical machinery and apparatus n.e.c.`, and get the *respective* copper fractions from different Exiobase locations."
   ]
  },
  {
   "cell_type": "code",
   "execution_count": 11,
   "metadata": {},
   "outputs": [],
   "source": [
    "lca = bc.LCA(\n",
    "    {bd.get_activity(\n",
    "        name=\"Manufacture of electrical machinery and apparatus n.e.c.\", \n",
    "        database=\"EXIOBASE 3.8.1 2017 monetary\", \n",
    "        location='KR',\n",
    "    ): 1}\n",
    ")\n",
    "lca.lci()"
   ]
  },
  {
   "cell_type": "code",
   "execution_count": 12,
   "metadata": {},
   "outputs": [],
   "source": [
    "copper_inputs_kr_elec_machinery = sorted([\n",
    "    (lca.supply_array[lca.dicts.product[node.id]], node)\n",
    "    for node in bd.Database(\"EXIOBASE 3.8.1 2017 monetary\")\n",
    "    if node['name'] == 'Copper production'\n",
    "], reverse=True)"
   ]
  },
  {
   "cell_type": "code",
   "execution_count": 19,
   "metadata": {},
   "outputs": [
    {
     "data": {
      "text/plain": [
       "[(0.056738717215526764, 'Copper production' (million €, KR, None)),\n",
       " (0.009317991884388758, 'Copper production' (million €, WL, None)),\n",
       " (0.006975002935027911, 'Copper production' (million €, CN, None)),\n",
       " (0.003109505241170962, 'Copper production' (million €, WM, None)),\n",
       " (0.0029717316839159586, 'Copper production' (million €, JP, None)),\n",
       " (0.002742825955020737, 'Copper production' (million €, US, None)),\n",
       " (0.0017994500131776612, 'Copper production' (million €, WA, None)),\n",
       " (0.001438144712277453, 'Copper production' (million €, IN, None)),\n",
       " (0.0009033302983175338, 'Copper production' (million €, DE, None)),\n",
       " (0.000854596373371257, 'Copper production' (million €, AU, None)),\n",
       " (0.000837873645738335, 'Copper production' (million €, TW, None)),\n",
       " (0.000833554611307664, 'Copper production' (million €, ES, None)),\n",
       " (0.0006163921286590385, 'Copper production' (million €, WF, None)),\n",
       " (0.0005549428668933038, 'Copper production' (million €, MX, None)),\n",
       " (0.00048093280842529117, 'Copper production' (million €, ID, None))]"
      ]
     },
     "execution_count": 19,
     "metadata": {},
     "output_type": "execute_result"
    }
   ],
   "source": [
    "copper_inputs_kr_elec_machinery[:15]"
   ]
  },
  {
   "cell_type": "markdown",
   "metadata": {},
   "source": [
    "And here are the locations for copper production we are considering:"
   ]
  },
  {
   "cell_type": "code",
   "execution_count": 18,
   "metadata": {},
   "outputs": [
    {
     "data": {
      "text/plain": [
       "['AU', 'CA', 'CL', 'CN', 'ID', 'KZ', 'RU', 'RoW', 'US', 'ZM']"
      ]
     },
     "execution_count": 18,
     "metadata": {},
     "output_type": "execute_result"
    }
   ],
   "source": [
    "sorted([\n",
    "    x['location'] \n",
    "    for x in bd.Database(\"ei 3.8 cutoff\") \n",
    "    if x['name'] == 'copper mine operation and beneficiation, sulfide ore'\n",
    "    and x['reference product'] == 'copper concentrate, sulfide ore'\n",
    "])"
   ]
  },
  {
   "cell_type": "markdown",
   "metadata": {},
   "source": [
    "Here are the definitions of Exiobase \"RoW\" regions:\n",
    "\n",
    "* WA: Asia and Pacific. Excludes ID, JP, TW, IN, RU, CN, KR, AU\n",
    "* WL: Americas. Excludes BR, US, CA, MX\n",
    "* WE: Europe. \n",
    "* WF: Africa. Excludes ZA\n",
    "* WM: Middle East. Excludes TR\n",
    "\n",
    "We also are pretty confident that there is no copper mining in KR, TW, JP, or DE.\n",
    "\n",
    "As such, we can map the Exiobase net copper (monetary) fractions to the ecoinvent mining regions:"
   ]
  },
  {
   "cell_type": "code",
   "execution_count": 21,
   "metadata": {},
   "outputs": [],
   "source": [
    "NO_MINING = [\"KR\", \"JP\", \"TW\", \"DE\"]\n",
    "\n",
    "mapping = {\n",
    "    \"WL\": \"CL\",  \n",
    "    \"CN\": \"CN\",\n",
    "    \"WM\": \"RoW\",\n",
    "    \"US\": \"US\",\n",
    "    \"WA\": \"KZ\",  \n",
    "    \"IN\": \"RoW\",\n",
    "    \"AU\": \"AU\", \n",
    "    \"ES\": \"RoW\",\n",
    "    \"WF\": \"ZM\",\n",
    "    \"MX\": \"RoW\",\n",
    "    \"ID\": \"ID\",\n",
    "}"
   ]
  },
  {
   "cell_type": "markdown",
   "metadata": {},
   "source": [
    "The `IOTable` doesn't really support modification, so if we wanted our copper changes together with our aluminium changes the best option would be to put everything together in a single notebook and write to one database. Here, we will create a new database just for copper, following the same pattern as in notebook 3.\n",
    "\n",
    "First, we need to know how much copper to substitute with our new market mix. This isn't trivial, as the following result from `ba.print_recursive_calculation(motor, ipcc, cutoff=0.025)` makes me a bit suspicious:\n",
    "\n",
    "    Fraction of score | Absolute score | Amount | Activity\n",
    "    0001 | 9.134 |     1 | 'electric motor production, vehicle (electric powertrain)' (kilogram, \n",
    "      0.0975 | 0.8903 | 0.1349 | 'market for copper, cathode' (kilogram, GLO, None)\n",
    "        0.0726 | 0.6628 | 0.08161 | 'electrorefining of copper, anode' (kilogram, GLO, None)\n",
    "          0.052 | 0.4751 | 0.081 | 'market for copper, anode' (kilogram, GLO, None)"
   ]
  },
  {
   "cell_type": "markdown",
   "metadata": {},
   "source": [
    "We can just do an inventory calculation to get the copper needed for one kilogram of `'market for copper, cathode'`:"
   ]
  },
  {
   "cell_type": "code",
   "execution_count": 27,
   "metadata": {},
   "outputs": [
    {
     "data": {
      "text/plain": [
       "2.199497333229909"
      ]
     },
     "execution_count": 27,
     "metadata": {},
     "output_type": "execute_result"
    }
   ],
   "source": [
    "lca = bc.LCA(\n",
    "    {bd.get_activity(\n",
    "        name=\"market for copper, cathode\", \n",
    "        database=\"ei 3.8 cutoff\", \n",
    "    ): 1}\n",
    ")\n",
    "lca.lci()\n",
    "copper_mass_in_cathode = lca.supply_array[lca.dicts.product[copper.id]]\n",
    "copper_mass_in_cathode"
   ]
  },
  {
   "cell_type": "markdown",
   "metadata": {},
   "source": [
    "I guess there is a lot of waste during recycling; presumably most of this is recycled, but in cutoff system models we don't get credit for production of recyclable materials. So we then need this much copper:"
   ]
  },
  {
   "cell_type": "code",
   "execution_count": 28,
   "metadata": {},
   "outputs": [],
   "source": [
    "net_copper = copper_mass_in_cathode * 0.1349"
   ]
  },
  {
   "cell_type": "markdown",
   "metadata": {},
   "source": [
    "We can now just copy/paste the approach from notebook three; we have our net amount, our new market mix, etc."
   ]
  },
  {
   "cell_type": "code",
   "execution_count": 30,
   "metadata": {},
   "outputs": [],
   "source": [
    "from collections import defaultdict\n",
    "\n",
    "cu_market = defaultdict(float)\n",
    "\n",
    "for amount, node in copper_inputs_kr_elec_machinery[:15]:\n",
    "    if node['location'] in NO_MINING:\n",
    "        continue\n",
    "    cu_market[bd.get_activity(\n",
    "        database=\"ei 3.8 cutoff\",\n",
    "        name='copper mine operation and beneficiation, sulfide ore',\n",
    "        product='copper concentrate, sulfide ore',\n",
    "        location=mapping[node['location']]\n",
    "    )] += amount"
   ]
  },
  {
   "cell_type": "code",
   "execution_count": 31,
   "metadata": {},
   "outputs": [
    {
     "data": {
      "text/plain": [
       "{'copper mine operation and beneficiation, sulfide ore' (kilogram, CL, None): 0.3244048929180896,\n",
       " 'copper mine operation and beneficiation, sulfide ore' (kilogram, CN, None): 0.24283398272025009,\n",
       " 'copper mine operation and beneficiation, sulfide ore' (kilogram, RoW, None): 0.20666633925025507,\n",
       " 'copper mine operation and beneficiation, sulfide ore' (kilogram, US, None): 0.09549119287409931,\n",
       " 'copper mine operation and beneficiation, sulfide ore' (kilogram, KZ, None): 0.06264766014814435,\n",
       " 'copper mine operation and beneficiation, sulfide ore' (kilogram, AU, None): 0.029752681525315197,\n",
       " 'copper mine operation and beneficiation, sulfide ore' (kilogram, ZM, None): 0.02145962616990471,\n",
       " 'copper mine operation and beneficiation, sulfide ore' (kilogram, ID, None): 0.01674362439394173}"
      ]
     },
     "execution_count": 31,
     "metadata": {},
     "output_type": "execute_result"
    }
   ],
   "source": [
    "total = sum(cu_market.values())\n",
    "\n",
    "cu_market = {key: value / total for key, value in cu_market.items()}\n",
    "cu_market"
   ]
  },
  {
   "cell_type": "code",
   "execution_count": 32,
   "metadata": {},
   "outputs": [],
   "source": [
    "if \"강한 국가를 위한 영광스러운 구리\" in bd.databases:\n",
    "    del bd.databases[\"강한 국가를 위한 영광스러운 구리\"]"
   ]
  },
  {
   "cell_type": "code",
   "execution_count": 33,
   "metadata": {},
   "outputs": [
    {
     "data": {
      "text/plain": [
       "bw2data.backends.iotable.backend.IOTableBackend"
      ]
     },
     "execution_count": 33,
     "metadata": {},
     "output_type": "execute_result"
    }
   ],
   "source": [
    "kr = bd.Database(\"강한 국가를 위한 영광스러운 구리\", backend = \"iotable\")\n",
    "type(kr)"
   ]
  },
  {
   "cell_type": "code",
   "execution_count": 34,
   "metadata": {},
   "outputs": [],
   "source": [
    "kr.write({})"
   ]
  },
  {
   "cell_type": "code",
   "execution_count": 35,
   "metadata": {},
   "outputs": [],
   "source": [
    "new_motor = kr.new_activity(code=\"em-kr\", name=\"Electric motor\", location=\"KR\", unit=\"kilogram\")\n",
    "new_cu = kr.new_activity(code=\"cu-kr\", name=\"Korea-specific copper mix\", location=\"KR\", unit=\"kilogram\")"
   ]
  },
  {
   "cell_type": "code",
   "execution_count": 36,
   "metadata": {},
   "outputs": [],
   "source": [
    "new_motor.save()\n",
    "new_cu.save()"
   ]
  },
  {
   "cell_type": "code",
   "execution_count": 38,
   "metadata": {},
   "outputs": [],
   "source": [
    "edges = [\n",
    "    # Motor activity\n",
    "    {\"row\": new_motor.id, \"col\": new_motor.id, \"amount\": 1},  # production exchange,\n",
    "    {\"row\": motor.id, \"col\": new_motor.id, \"amount\": 1, \"flip\": True},   # Need the rest of the motor\n",
    "    {\"row\": new_cu.id, \"col\": new_motor.id, \"amount\": net_copper, \"flip\": True},  # Substitute this much aluminium\n",
    "] + [\n",
    "    # New copper mix\n",
    "    {\"row\": new_cu.id, \"col\": new_cu.id, \"amount\": 1},  # production exchange,\n",
    "    {\"row\": copper.id, \"col\": new_cu.id, \"amount\": 1},   # This is the substituted aluminium mix\n",
    "] + [\n",
    "    {\"row\": node.id, \"col\": new_cu.id, \"amount\": amount, \"flip\": True} for node, amount in cu_market.items()\n",
    "]"
   ]
  },
  {
   "cell_type": "code",
   "execution_count": 39,
   "metadata": {},
   "outputs": [
    {
     "name": "stdout",
     "output_type": "stream",
     "text": [
      "Starting IO table write\n",
      "Adding technosphere matrix\n",
      "Adding biosphere matrix\n",
      "Finalizing serialization\n"
     ]
    }
   ],
   "source": [
    "kr.write_exchanges(edges, [], [\"ei 3.8 cutoff\"])"
   ]
  },
  {
   "cell_type": "code",
   "execution_count": 40,
   "metadata": {},
   "outputs": [],
   "source": [
    "motor.new_edge(input=new_motor, amount=0, type=\"technosphere\").save()"
   ]
  },
  {
   "cell_type": "code",
   "execution_count": 41,
   "metadata": {},
   "outputs": [],
   "source": [
    "_, data_objs, _ = bd.prepare_lca_inputs({motor: 1}, ipcc)"
   ]
  },
  {
   "cell_type": "code",
   "execution_count": 42,
   "metadata": {},
   "outputs": [
    {
     "data": {
      "text/plain": [
       "9.134067244425337"
      ]
     },
     "execution_count": 42,
     "metadata": {},
     "output_type": "execute_result"
    }
   ],
   "source": [
    "lca = bc.LCA({motor.id: 1}, data_objs=data_objs)\n",
    "lca.lci()\n",
    "lca.lcia()\n",
    "lca.score"
   ]
  },
  {
   "cell_type": "code",
   "execution_count": 43,
   "metadata": {},
   "outputs": [
    {
     "data": {
      "text/plain": [
       "9.139341861641421"
      ]
     },
     "execution_count": 43,
     "metadata": {},
     "output_type": "execute_result"
    }
   ],
   "source": [
    "lca.lcia({new_motor.id: 1})\n",
    "lca.score"
   ]
  }
 ],
 "metadata": {
  "kernelspec": {
   "display_name": "Python [conda env:bw25]",
   "language": "python",
   "name": "conda-env-bw25-py"
  },
  "language_info": {
   "codemirror_mode": {
    "name": "ipython",
    "version": 3
   },
   "file_extension": ".py",
   "mimetype": "text/x-python",
   "name": "python",
   "nbconvert_exporter": "python",
   "pygments_lexer": "ipython3",
   "version": "3.10.6"
  }
 },
 "nbformat": 4,
 "nbformat_minor": 4
}
