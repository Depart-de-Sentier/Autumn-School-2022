{
 "cells": [
  {
   "cell_type": "markdown",
   "metadata": {},
   "source": [
    "# Regionalizing supply chains\n",
    "\n",
    "Kernel: `bw25`"
   ]
  },
  {
   "cell_type": "code",
   "execution_count": null,
   "metadata": {},
   "outputs": [],
   "source": [
    "import pandas as pd\n",
    "import bw2data as bd\n",
    "import bw2io as bi\n",
    "import bw2analyzer as ba\n",
    "import bw2calc as bc\n",
    "import bw_processing as bwp\n",
    "from pathlib import Path\n",
    "import numpy as np\n",
    "import csv\n",
    "import sys"
   ]
  },
  {
   "cell_type": "code",
   "execution_count": null,
   "metadata": {},
   "outputs": [],
   "source": [
    "if 'ei38-teaching-25' not in bd.projects:\n",
    "    bi.restore_project_directory(\"/srv/data/projects/ecoinvent38-25.tar.gz\")"
   ]
  },
  {
   "cell_type": "code",
   "execution_count": null,
   "metadata": {},
   "outputs": [],
   "source": [
    "bd.projects.set_current('ei38-teaching-25')"
   ]
  },
  {
   "cell_type": "markdown",
   "metadata": {},
   "source": [
    "We want to build a motor in S Korea - currently we only have a global one."
   ]
  },
  {
   "cell_type": "code",
   "execution_count": null,
   "metadata": {},
   "outputs": [],
   "source": [
    "motor = bd.get_activity(database=\"ei 3.8 cutoff\", name=\"electric motor production, vehicle (electric powertrain)\")\n",
    "motor"
   ]
  },
  {
   "cell_type": "markdown",
   "metadata": {},
   "source": [
    "Let's figure out the most important exchanges in the current activity:"
   ]
  },
  {
   "cell_type": "code",
   "execution_count": null,
   "metadata": {
    "tags": []
   },
   "outputs": [],
   "source": [
    "ipcc = ('IPCC 2013', 'climate change', 'GWP 100a')"
   ]
  },
  {
   "cell_type": "code",
   "execution_count": null,
   "metadata": {},
   "outputs": [],
   "source": [
    "ba.print_recursive_calculation(motor, ipcc, cutoff=0.025)"
   ]
  },
  {
   "cell_type": "markdown",
   "metadata": {},
   "source": [
    "Aluinium and steel seem important. Let's see if we have the potential to disaggregate the aluminium production (if there aren't separate ecoinvent activities, then getting trade data doesn't help...)."
   ]
  },
  {
   "cell_type": "code",
   "execution_count": null,
   "metadata": {},
   "outputs": [],
   "source": [
    "ba.print_recursive_supply_chain(bd.get_activity(database=\"ei 3.8 cutoff\", name=\"market for aluminium, wrought alloy\"))"
   ]
  },
  {
   "cell_type": "markdown",
   "metadata": {},
   "source": [
    "Yes, we can disaggregate the `'aluminium ingot, primary, to aluminium, wrought alloy market'`. The key to me is:\n",
    "\n",
    "     0.696: 'aluminium ingot, primary, to aluminium, wrought alloy market' (kilogr\n",
    "        0.541: 'market for aluminium, primary, ingot' (kilogram, RoW, None)\n",
    "        0.057: 'market for aluminium, primary, ingot' (kilogram, IAI Area, North Amer\n",
    "        0.0982: 'market for aluminium, primary, ingot' (kilogram, IAI Area, EU27 & EFT\n",
    "\n",
    "Each of these markets *could* include more specific suppliers.\n",
    "\n",
    "As this product is deep in the supply chain, we could create a copy of each link down to the wrought aluminium input. However, that seems like a lot of work; instead, how about we create a \"patch\" dataset which *subtracts* the current aluminium mix *from the motor*, and adds in our new mix of aluminium production. In this case, we won't have a correct model of the supply chain (as we will be patching the motor production), but we spare some work.\n",
    "\n",
    "We can read the above and see that we need 0.1685 kilograms of primary alimuinium production. Let's see what countries or regions produce primary aluminium:"
   ]
  },
  {
   "cell_type": "code",
   "execution_count": null,
   "metadata": {},
   "outputs": [],
   "source": [
    "[x for x in bd.Database(\"ei 3.8 cutoff\") if x['name'] == 'aluminium production, primary, ingot']"
   ]
  },
  {
   "cell_type": "markdown",
   "metadata": {},
   "source": [
    "OK, a bit annoying, there are [International Aluminium Institute](https://international-aluminium.org/) regions.\n",
    "\n",
    "Now we need some data on the specific aluminium imports of Korea. Ideally we would have this data for the specific industry of motor production, but for now we take something more general: EXIOBASE."
   ]
  },
  {
   "cell_type": "code",
   "execution_count": null,
   "metadata": {
    "tags": []
   },
   "outputs": [],
   "source": [
    "if \"EXIOBASE 3.8.1 2017 monetary\" not in bd.databases:\n",
    "    bi.exiobase_monetary()"
   ]
  },
  {
   "cell_type": "code",
   "execution_count": null,
   "metadata": {},
   "outputs": [],
   "source": [
    "exio = bd.Database(\"EXIOBASE 3.8.1 2017 monetary\")"
   ]
  },
  {
   "cell_type": "markdown",
   "metadata": {},
   "source": [
    "Get list of activities in Korea"
   ]
  },
  {
   "cell_type": "code",
   "execution_count": null,
   "metadata": {
    "tags": []
   },
   "outputs": [],
   "source": [
    "sorted([ds for ds in exio if ds['location'] == 'KR'], key=lambda x: x['name'])"
   ]
  },
  {
   "cell_type": "code",
   "execution_count": null,
   "metadata": {},
   "outputs": [],
   "source": [
    "alu = bd.get_activity(database=\"EXIOBASE 3.8.1 2017 monetary\", name='Aluminium production', location='KR')"
   ]
  },
  {
   "cell_type": "markdown",
   "metadata": {},
   "source": [
    "Aluminium importers"
   ]
  },
  {
   "cell_type": "code",
   "execution_count": null,
   "metadata": {
    "tags": []
   },
   "outputs": [],
   "source": [
    "for exc in filter(\n",
    "        lambda exc: (exc.input['name'] == exc.output['name']) & (exc['amount'] > 0.005), \n",
    "        alu.technosphere()):\n",
    "    print(exc)"
   ]
  },
  {
   "cell_type": "markdown",
   "metadata": {},
   "source": [
    "This data is monetary, but we assume that as a globally traded commodity, the price roughly corresponds to the mass. This is not perfect! To be more specific one could use e.g. the BACI trade database which has much more specific goods classifiers.\n",
    "\n",
    "Manually construct mapping between ecoinvent spatial scale and exiobase spatial scale:"
   ]
  },
  {
   "cell_type": "code",
   "execution_count": null,
   "metadata": {},
   "outputs": [],
   "source": [
    "mapping = {\n",
    "    \"US\": \"RoW\",\n",
    "    \"JP\": \"IAI Area, Asia, without China and GCC\",\n",
    "    \"CN\": \"CN\",\n",
    "    \"CA\": \"CA\",\n",
    "    \"KR\": \"IAI Area, Asia, without China and GCC\",\n",
    "    \"IN\": \"IAI Area, Asia, without China and GCC\",\n",
    "    \"RU\": \"IAI Area, Russia & RER w/o EU27 & EFTA\",\n",
    "    \"AU\": \"UN-OCEANIA\",\n",
    "    \"WA\": \"IAI Area, Asia, without China and GCC\",\n",
    "    \"WM\": \"IAI Area, Gulf Cooperation Council\",\n",
    "}"
   ]
  },
  {
   "cell_type": "markdown",
   "metadata": {},
   "source": [
    "Aggregate the exiobase data to create our Korean aluminium market mix:"
   ]
  },
  {
   "cell_type": "code",
   "execution_count": null,
   "metadata": {},
   "outputs": [],
   "source": [
    "from collections import defaultdict\n",
    "\n",
    "market = defaultdict(float)\n",
    "\n",
    "for exc in filter(\n",
    "        lambda exc: (exc.input['name'] == exc.output['name']) & (exc['amount'] > 0.005), \n",
    "        alu.technosphere()):\n",
    "    market[bd.get_activity(\n",
    "        database=\"ei 3.8 cutoff\",\n",
    "        name=\"aluminium production, primary, ingot\",\n",
    "        location=mapping[exc.input['location']]\n",
    "    )] += exc['amount']"
   ]
  },
  {
   "cell_type": "markdown",
   "metadata": {},
   "source": [
    "Normalize to create a market with a total of 1 kilogram of production"
   ]
  },
  {
   "cell_type": "code",
   "execution_count": null,
   "metadata": {},
   "outputs": [],
   "source": [
    "total = sum(market.values())\n",
    "\n",
    "market = {key: value / total for key, value in market.items()}\n",
    "market"
   ]
  },
  {
   "cell_type": "markdown",
   "metadata": {},
   "source": [
    "OK, so we are almost done. We have 0.1309 kilograms of aluminium to substitute. In a real research project you should do this in a new `Database` and `Activity` (or activities); for now, we can just create a temporary datapackage.\n",
    "\n",
    "To avoid changing the global motor production, we will create a new activity node, but one which doesn't have an ID in the relational database. This can be any integer, but shouldn't overlap with the ids we already have. 1.000.000 should be safe enough :)"
   ]
  },
  {
   "cell_type": "code",
   "execution_count": null,
   "metadata": {},
   "outputs": [],
   "source": [
    "alu_demanded = 0.1685\n",
    "gangnam_style = 1_000_000\n",
    "\n",
    "indices = np.array(\n",
    "    [\n",
    "        (gangnam_style, gangnam_style), # Production exchange for new motor\n",
    "        (motor.id, gangnam_style),  # Need the motor\n",
    "        (bd.get_activity(database=\"ei 3.8 cutoff\", name='aluminium ingot, primary, to aluminium, wrought alloy market').id, gangnam_style),\n",
    "    ] + [\n",
    "        (node.id, gangnam_style) for node in market\n",
    "    ], dtype=bwp.INDICES_DTYPE\n",
    ")\n",
    "data = np.array([\n",
    "        1,\n",
    "        1,\n",
    "        alu_demanded,\n",
    "    ] + [\n",
    "        value * alu_demanded for value in market.values()\n",
    "    ]\n",
    ") \n",
    "flip = np.array(\n",
    "    [False, True, False] + [True for _ in market]\n",
    ")"
   ]
  },
  {
   "cell_type": "code",
   "execution_count": null,
   "metadata": {},
   "outputs": [],
   "source": [
    "dp = bwp.create_datapackage()\n",
    "\n",
    "dp.add_persistent_vector(\n",
    "    matrix=\"technosphere_matrix\",\n",
    "    data_array=data,\n",
    "    indices_array=indices,\n",
    "    flip_array=flip,\n",
    "    name=\"Korean motor\",\n",
    ")"
   ]
  },
  {
   "cell_type": "code",
   "execution_count": null,
   "metadata": {},
   "outputs": [],
   "source": [
    "_, data_objs, _ = bd.prepare_lca_inputs({motor: 1}, ipcc)"
   ]
  },
  {
   "cell_type": "code",
   "execution_count": null,
   "metadata": {},
   "outputs": [],
   "source": [
    "lca = bc.LCA({motor.id: 1}, data_objs=data_objs + [dp])\n",
    "lca.lci()\n",
    "lca.lcia()\n",
    "lca.score"
   ]
  },
  {
   "cell_type": "code",
   "execution_count": null,
   "metadata": {},
   "outputs": [],
   "source": [
    "lca.lcia({gangnam_style: 1})\n",
    "lca.score"
   ]
  },
  {
   "cell_type": "markdown",
   "metadata": {},
   "source": [
    "## Challenges:\n",
    "\n",
    "* There is also some recycled aluminium. Can you change the electricity used in this recycling to come from the Korean market mix?\n",
    "* Copper is also important. Could you combine this notebook with notebook 1 and come up with a Korea-specific copper mix for motor production?"
   ]
  },
  {
   "cell_type": "code",
   "execution_count": null,
   "metadata": {},
   "outputs": [],
   "source": []
  }
 ],
 "metadata": {
  "kernelspec": {
   "display_name": "Python [conda env:bw25]",
   "language": "python",
   "name": "conda-env-bw25-py"
  },
  "language_info": {
   "codemirror_mode": {
    "name": "ipython",
    "version": 3
   },
   "file_extension": ".py",
   "mimetype": "text/x-python",
   "name": "python",
   "nbconvert_exporter": "python",
   "pygments_lexer": "ipython3",
   "version": "3.10.6"
  }
 },
 "nbformat": 4,
 "nbformat_minor": 4
}
