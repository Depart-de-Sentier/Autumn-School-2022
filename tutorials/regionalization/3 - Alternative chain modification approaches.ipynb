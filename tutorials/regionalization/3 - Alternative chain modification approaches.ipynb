{
 "cells": [
  {
   "cell_type": "markdown",
   "metadata": {},
   "source": [
    "# Alternative chain modification approaches\n",
    "\n",
    "Kernel: `bw25`\n",
    "\n",
    "In notebook 2, we made the following graph, though we didn't store any activities in the database, just in the datapackage, with the \"magic\" id 1.000.000:\n",
    "\n",
    "<img src=\"notebook-2.png\">\n",
    "\n",
    "I think this can be improved, or at least changed, in two ways. First, we can separate out the mass-balanced new aluminium mix to be more explicit, and secondly, we can store the data in the database using the `IOTable` backend.\n",
    "\n",
    "<img src=\"alternative.png\">\n",
    "\n",
    "I leave everything the same (but with deleted comments) up to writing the new data."
   ]
  },
  {
   "cell_type": "code",
   "execution_count": 4,
   "metadata": {},
   "outputs": [],
   "source": [
    "import pandas as pd\n",
    "import bw2data as bd\n",
    "import bw2io as bi\n",
    "import bw2analyzer as ba\n",
    "import bw2calc as bc\n",
    "import bw_processing as bwp\n",
    "from pathlib import Path\n",
    "import numpy as np\n",
    "import csv\n",
    "import sys"
   ]
  },
  {
   "cell_type": "code",
   "execution_count": 6,
   "metadata": {},
   "outputs": [],
   "source": [
    "bd.projects.set_current('ei38-teaching-25')"
   ]
  },
  {
   "cell_type": "code",
   "execution_count": 7,
   "metadata": {},
   "outputs": [
    {
     "data": {
      "text/plain": [
       "'electric motor production, vehicle (electric powertrain)' (kilogram, GLO, None)"
      ]
     },
     "execution_count": 7,
     "metadata": {},
     "output_type": "execute_result"
    }
   ],
   "source": [
    "motor = bd.get_activity(\n",
    "    database=\"ei 3.8 cutoff\", \n",
    "    name=\"electric motor production, vehicle (electric powertrain)\"\n",
    ")\n",
    "motor"
   ]
  },
  {
   "cell_type": "code",
   "execution_count": 8,
   "metadata": {
    "tags": []
   },
   "outputs": [],
   "source": [
    "ipcc = ('IPCC 2013', 'climate change', 'GWP 100a')"
   ]
  },
  {
   "cell_type": "code",
   "execution_count": 9,
   "metadata": {},
   "outputs": [],
   "source": [
    "exio = bd.Database(\"EXIOBASE 3.8.1 2017 monetary\")"
   ]
  },
  {
   "cell_type": "code",
   "execution_count": 10,
   "metadata": {},
   "outputs": [],
   "source": [
    "alu = bd.get_activity(database=\"EXIOBASE 3.8.1 2017 monetary\", name='Aluminium production', location='KR')"
   ]
  },
  {
   "cell_type": "code",
   "execution_count": 11,
   "metadata": {},
   "outputs": [],
   "source": [
    "mapping = {\n",
    "    \"US\": \"RoW\",\n",
    "    \"JP\": \"IAI Area, Asia, without China and GCC\",\n",
    "    \"CN\": \"CN\",\n",
    "    \"CA\": \"CA\",\n",
    "    \"KR\": \"IAI Area, Asia, without China and GCC\",\n",
    "    \"IN\": \"IAI Area, Asia, without China and GCC\",\n",
    "    \"RU\": \"IAI Area, Russia & RER w/o EU27 & EFTA\",\n",
    "    \"AU\": \"UN-OCEANIA\",\n",
    "    \"WA\": \"IAI Area, Asia, without China and GCC\",\n",
    "    \"WM\": \"IAI Area, Gulf Cooperation Council\",\n",
    "}"
   ]
  },
  {
   "cell_type": "code",
   "execution_count": 12,
   "metadata": {},
   "outputs": [],
   "source": [
    "from collections import defaultdict\n",
    "\n",
    "market = defaultdict(float)\n",
    "\n",
    "for exc in filter(\n",
    "        lambda exc: (exc.input['name'] == exc.output['name']) & (exc['amount'] > 0.005), \n",
    "        alu.technosphere()):\n",
    "    market[bd.get_activity(\n",
    "        database=\"ei 3.8 cutoff\",\n",
    "        name=\"aluminium production, primary, ingot\",\n",
    "        location=mapping[exc.input['location']]\n",
    "    )] += exc['amount']"
   ]
  },
  {
   "cell_type": "code",
   "execution_count": 13,
   "metadata": {},
   "outputs": [
    {
     "data": {
      "text/plain": [
       "{'aluminium production, primary, ingot' (kilogram, RoW, None): 0.09830303704098431,\n",
       " 'aluminium production, primary, ingot' (kilogram, IAI Area, Asia, without China and GCC, None): 0.5318724848084075,\n",
       " 'aluminium production, primary, ingot' (kilogram, CN, None): 0.12994627606388362,\n",
       " 'aluminium production, primary, ingot' (kilogram, CA, None): 0.03721291048095496,\n",
       " 'aluminium production, primary, ingot' (kilogram, IAI Area, Russia & RER w/o EU27 & EFTA, None): 0.05416918993148255,\n",
       " 'aluminium production, primary, ingot' (kilogram, UN-OCEANIA, None): 0.08051082401382031,\n",
       " 'aluminium production, primary, ingot' (kilogram, IAI Area, Gulf Cooperation Council, None): 0.06798527766046675}"
      ]
     },
     "execution_count": 13,
     "metadata": {},
     "output_type": "execute_result"
    }
   ],
   "source": [
    "total = sum(market.values())\n",
    "\n",
    "market = {key: value / total for key, value in market.items()}\n",
    "market"
   ]
  },
  {
   "cell_type": "markdown",
   "metadata": {},
   "source": [
    "# IOTable to the rescue\n",
    "\n",
    "Let's create a new database to store our region-specific data:"
   ]
  },
  {
   "cell_type": "code",
   "execution_count": 16,
   "metadata": {},
   "outputs": [
    {
     "data": {
      "text/plain": [
       "bw2data.backends.iotable.backend.IOTableBackend"
      ]
     },
     "execution_count": 16,
     "metadata": {},
     "output_type": "execute_result"
    }
   ],
   "source": [
    "kr = bd.Database(\"Korean Motors Chaebol\", backend = \"iotable\")\n",
    "type(kr)"
   ]
  },
  {
   "cell_type": "markdown",
   "metadata": {},
   "source": [
    "To make this database known to Brightway, it needs to get registered. The easiest way to is to write an empty database:"
   ]
  },
  {
   "cell_type": "code",
   "execution_count": 21,
   "metadata": {},
   "outputs": [],
   "source": [
    "kr.write({})"
   ]
  },
  {
   "cell_type": "markdown",
   "metadata": {},
   "source": [
    "And our activities:"
   ]
  },
  {
   "cell_type": "code",
   "execution_count": 22,
   "metadata": {},
   "outputs": [],
   "source": [
    "new_motor = kr.new_activity(code=\"em-kr\", name=\"Electric motor\", location=\"KR\", unit=\"kilogram\")\n",
    "new_alu = kr.new_activity(code=\"alu-kr\", name=\"Korea-specific aluminium mix\", location=\"KR\", unit=\"kilogram\")"
   ]
  },
  {
   "cell_type": "markdown",
   "metadata": {},
   "source": [
    "`IOTable` backends behave differently - we don't call `write` on them, but instead first save the `Activity` objects manually, and then write the exchanges to a datapackage. First save the activities:"
   ]
  },
  {
   "cell_type": "code",
   "execution_count": 23,
   "metadata": {},
   "outputs": [],
   "source": [
    "new_motor.save()\n",
    "new_alu.save()"
   ]
  },
  {
   "cell_type": "markdown",
   "metadata": {},
   "source": [
    "We are actually almost done. Let's assemble the edges we need. We will call the method `kr.write_exchanges()`, which has the docstring:\n",
    "\n",
    "     Write IO data directly to processed arrays.\n",
    "\n",
    "    Product data is stored in SQLite as normal activities.\n",
    "    Exchange data is written directly to NumPy structured arrays.\n",
    "\n",
    "    Technosphere and biosphere data are dicts with keys ``row``, ``col``, ``amount``, and ``flip``.\n",
    "    \n",
    "We don't have any biosphere edges, but we do have technosphere ones."
   ]
  },
  {
   "cell_type": "code",
   "execution_count": 29,
   "metadata": {},
   "outputs": [],
   "source": [
    "edges = [\n",
    "    # Motor activity\n",
    "    {\"row\": new_motor.id, \"col\": new_motor.id, \"amount\": 1},  # production exchange,\n",
    "    {\"row\": motor.id, \"col\": new_motor.id, \"amount\": 1, \"flip\": True},   # Need the rest of the motor\n",
    "    {\"row\": new_alu.id, \"col\": new_motor.id, \"amount\": 0.1685, \"flip\": True},  # Substitute this much aluminium\n",
    "] + [\n",
    "    # New alu mix\n",
    "    {\"row\": new_alu.id, \"col\": new_alu.id, \"amount\": 1},  # production exchange,\n",
    "    {\n",
    "        \"row\": bd.get_activity(\n",
    "            database=\"ei 3.8 cutoff\", \n",
    "            name='aluminium ingot, primary, to aluminium, wrought alloy market'\n",
    "        ).id, \n",
    "        \"col\": new_alu.id, \n",
    "        \"amount\": 1\n",
    "    },   # This is the substituted aluminium mix\n",
    "] + [\n",
    "    {\"row\": node.id, \"col\": new_alu.id, \"amount\": amount, \"flip\": True} for node, amount in market.items()\n",
    "]"
   ]
  },
  {
   "cell_type": "code",
   "execution_count": 30,
   "metadata": {},
   "outputs": [
    {
     "name": "stdout",
     "output_type": "stream",
     "text": [
      "Starting IO table write\n",
      "Adding technosphere matrix\n",
      "Adding biosphere matrix\n",
      "Finalizing serialization\n"
     ]
    }
   ],
   "source": [
    "kr.write_exchanges(edges, [], [\"ei 3.8 cutoff\"])"
   ]
  },
  {
   "cell_type": "markdown",
   "metadata": {},
   "source": [
    "We do one more trick to make sure that the `Korean Motors Chaebol` database is always included when we do calculations with ecoinvent: we create a reverse edge from ecoinvent to our new database. This can have a value of zero, it just needs to be there for `Korean Motors Chaebol` to be considered a dependency of ecoinvent."
   ]
  },
  {
   "cell_type": "code",
   "execution_count": 32,
   "metadata": {},
   "outputs": [],
   "source": [
    "motor.new_edge(input=new_motor, amount=0, type=\"technosphere\").save()"
   ]
  },
  {
   "cell_type": "code",
   "execution_count": 33,
   "metadata": {},
   "outputs": [],
   "source": [
    "_, data_objs, _ = bd.prepare_lca_inputs({motor: 1}, ipcc)"
   ]
  },
  {
   "cell_type": "code",
   "execution_count": 34,
   "metadata": {},
   "outputs": [
    {
     "data": {
      "text/plain": [
       "9.134067244425333"
      ]
     },
     "execution_count": 34,
     "metadata": {},
     "output_type": "execute_result"
    }
   ],
   "source": [
    "lca = bc.LCA({motor.id: 1}, data_objs=data_objs)\n",
    "lca.lci()\n",
    "lca.lcia()\n",
    "lca.score"
   ]
  },
  {
   "cell_type": "code",
   "execution_count": 35,
   "metadata": {},
   "outputs": [
    {
     "data": {
      "text/plain": [
       "9.888587631052365"
      ]
     },
     "execution_count": 35,
     "metadata": {},
     "output_type": "execute_result"
    }
   ],
   "source": [
    "lca.lcia({new_motor.id: 1})\n",
    "lca.score"
   ]
  },
  {
   "cell_type": "markdown",
   "metadata": {},
   "source": [
    "This seems to be working, but let's check to make sure our dependencies are set correctly:"
   ]
  },
  {
   "cell_type": "code",
   "execution_count": 36,
   "metadata": {},
   "outputs": [
    {
     "data": {
      "text/plain": [
       "['Korean Motors Chaebol', 'biosphere3']"
      ]
     },
     "execution_count": 36,
     "metadata": {},
     "output_type": "execute_result"
    }
   ],
   "source": [
    "bd.Database(\"ei 3.8 cutoff\").metadata['depends']"
   ]
  },
  {
   "cell_type": "code",
   "execution_count": 38,
   "metadata": {},
   "outputs": [
    {
     "data": {
      "text/plain": [
       "['ei 3.8 cutoff']"
      ]
     },
     "execution_count": 38,
     "metadata": {},
     "output_type": "execute_result"
    }
   ],
   "source": [
    "bd.Database('Korean Motors Chaebol').metadata['depends']"
   ]
  },
  {
   "cell_type": "markdown",
   "metadata": {},
   "source": [
    "# One more thing\n",
    "\n",
    "This is a bit hacky, but you can abuse the `IOTable` databases to force the inclusion of datapackage data. It won't work for complicated datapackage functionality, but if it is a simple datapackage, the `write_exchanges` function **does not check** that the edge data is specific to the `IOTable` database. So, you could use the same procedure to make changes to base ecoinvent, and turn them on or off by optionally including a dummy activity from your `IOTable` backend (with an amount of zero) in your LCA calculations."
   ]
  },
  {
   "cell_type": "code",
   "execution_count": null,
   "metadata": {},
   "outputs": [],
   "source": []
  }
 ],
 "metadata": {
  "kernelspec": {
   "display_name": "Python [conda env:bw25]",
   "language": "python",
   "name": "conda-env-bw25-py"
  },
  "language_info": {
   "codemirror_mode": {
    "name": "ipython",
    "version": 3
   },
   "file_extension": ".py",
   "mimetype": "text/x-python",
   "name": "python",
   "nbconvert_exporter": "python",
   "pygments_lexer": "ipython3",
   "version": "3.10.6"
  }
 },
 "nbformat": 4,
 "nbformat_minor": 4
}
