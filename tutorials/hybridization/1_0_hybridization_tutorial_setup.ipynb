{
 "cells": [
  {
   "cell_type": "markdown",
   "metadata": {},
   "source": [
    "## 0.0. setup\n",
    "\n",
    "1. [set up your Conda environment](https://conda.io/projects/conda/en/latest/user-guide/getting-started.html) using the provided environment file `conda_env_hybridization.yml`:\n",
    "\n",
    "```\n",
    "conda env create -f <path to environment yaml file>\n",
    "```\n",
    "\n",
    "2. create directories and copy database files from the shared drive (`/srv/data/autumn_school/hybridization/`)"
   ]
  },
  {
   "cell_type": "code",
   "execution_count": 1,
   "metadata": {},
   "outputs": [],
   "source": [
    "# ensures that we start with a fresh directory, since ecospold2matrix can mess up Ecoinvent files\n",
    "!rm -rf ~/hybridization_data/databases_raw \n",
    "!mkdir -p ~/hybridization_data/databases_raw\n",
    "!cp -a /srv/data/autumn_school/hybridization/databases_raw/* ~/hybridization_data/databases_raw"
   ]
  },
  {
   "cell_type": "code",
   "execution_count": 2,
   "metadata": {},
   "outputs": [],
   "source": [
    "!mkdir -p ~/hybridization_data/databases_pickle"
   ]
  },
  {
   "cell_type": "markdown",
   "metadata": {},
   "source": [
    "## 0.1. imports\n",
    "### 0.1.1. regular imports"
   ]
  },
  {
   "cell_type": "code",
   "execution_count": 3,
   "metadata": {},
   "outputs": [
    {
     "name": "stdout",
     "output_type": "stream",
     "text": [
      "Using environment variable BRIGHTWAY2_DIR for data directory:\n",
      "/home/weinold/bw_data\n"
     ]
    }
   ],
   "source": [
    "# i/o\n",
    "import sys\n",
    "import os\n",
    "from pathlib import Path\n",
    "import gzip\n",
    "import pickle\n",
    "# lca\n",
    "import ecospold2matrix as e2m\n",
    "import pymrio\n",
    "import brightway2 as bw\n",
    "# data science\n",
    "import pandas as pd"
   ]
  },
  {
   "cell_type": "markdown",
   "metadata": {},
   "source": [
    "### 0.1.2. local imports"
   ]
  },
  {
   "cell_type": "code",
   "execution_count": 6,
   "metadata": {},
   "outputs": [],
   "source": [
    "%%capture\n",
    "pylcaio_directory = os.path.join(Path.home(), 'pylcaio')\n",
    "!git clone https://github.com/michaelweinold/pylcaio_integration_with_brightway.git $pylcaio_directory # this is a fork with various fixes"
   ]
  },
  {
   "cell_type": "code",
   "execution_count": 5,
   "metadata": {},
   "outputs": [],
   "source": [
    "sys.path.append(os.path.join(Path.home(), 'pylcaio', 'src')) # required for local import of pylcaio\n",
    "import pylcaio"
   ]
  },
  {
   "cell_type": "markdown",
   "metadata": {},
   "source": [
    "## 0.2. file paths\n",
    "\n",
    "set location of databases (Ecoinvent and Exiobase) for use by the appropriate Python packages\n",
    "\n",
    "### 0.2.1. directories"
   ]
  },
  {
   "cell_type": "code",
   "execution_count": 6,
   "metadata": {},
   "outputs": [],
   "source": [
    "%%capture\n",
    "print(path_dir_databases_raw := os.path.join(Path.home(), 'hybridization_data/databases_raw'))\n",
    "print(path_dir_databases_pickle := os.path.join(Path.home(), 'hybridization_data/databases_pickle'))"
   ]
  },
  {
   "cell_type": "markdown",
   "metadata": {},
   "source": [
    "### 0.2.2. databases"
   ]
  },
  {
   "cell_type": "code",
   "execution_count": 11,
   "metadata": {},
   "outputs": [],
   "source": [
    "%%capture\n",
    "# Exiobase\n",
    "print(path_file_exiobase_input := os.path.join(path_dir_databases_raw, 'IOT_2012_pxp.zip'))\n",
    "print(path_file_exiobase_output := os.path.join(path_dir_databases_pickle, 'exiobase_monetary_pxp_2012.pickle'))\n",
    "# Ecoinvent\n",
    "print(path_dir_ecoinvent_input := os.path.join(path_dir_databases_raw, 'ecoinvent-3.5-cutoff'))\n",
    "print(path_file_ecoinvent_characterisation := os.path.join(path_dir_databases_raw, 'LCIA_implementation_3.5.xlsx'))"
   ]
  },
  {
   "cell_type": "markdown",
   "metadata": {},
   "source": [
    "## 1.1. read databases and save to disk\n",
    "### 1.1.1 read Exiobase database and save `pickle` to disk\n",
    "\n",
    "❔ creates `pymrio.IOSystem` class instance (collection of pd.DataFrames etc.) \\\n",
    "⏳ ~1min"
   ]
  },
  {
   "cell_type": "code",
   "execution_count": 8,
   "metadata": {},
   "outputs": [
    {
     "name": "stdout",
     "output_type": "stream",
     "text": [
      "CPU times: user 1min 1s, sys: 2.31 s, total: 1min 4s\n",
      "Wall time: 1min 5s\n"
     ]
    }
   ],
   "source": [
    "%%time\n",
    "exiobase: pymrio.IOSystem = pymrio.parse_exiobase3(path_file_exiobase_input)\n",
    "with open(path_file_exiobase_output, 'wb') as file_handle:    \n",
    "    pickle.dump(obj = exiobase, file = file_handle, protocol=pickle.HIGHEST_PROTOCOL)"
   ]
  },
  {
   "cell_type": "markdown",
   "metadata": {},
   "source": [
    "### 1.1.2 read Ecoinvent database and save `pickle` to disk\n",
    "\n",
    "❔ creates e2m.Ecospold2Matrix class instance \\\n",
    "⏳ ~12min"
   ]
  },
  {
   "cell_type": "code",
   "execution_count": 10,
   "metadata": {},
   "outputs": [],
   "source": [
    "%%capture\n",
    "print(e2m_project_name := 'ecoinvent_3_5_cutoff')\n",
    "print(tmp_dir_e2m := os.path.join(path_dir_databases_pickle, str(e2m_project_name + '_log')))\n",
    "print(tmp_pattern_e2m := '*.db')"
   ]
  },
  {
   "cell_type": "markdown",
   "metadata": {},
   "source": [
    "#### 1.1.2.1. run `ecospold2matrix`"
   ]
  },
  {
   "cell_type": "code",
   "execution_count": 13,
   "metadata": {},
   "outputs": [
    {
     "name": "stderr",
     "output_type": "stream",
     "text": [
      "2022-10-22 08:11:12,619 - ecoinvent_3_5_cutoff - INFO - Ecospold2Matrix Processing\n",
      "INFO:ecoinvent_3_5_cutoff:Ecospold2Matrix Processing\n",
      "2022-10-22 08:11:12,621 - ecoinvent_3_5_cutoff - INFO - Current git commit: df4b52cf0ef8bafafa69e933ddd512ee51431e38\n",
      "INFO:ecoinvent_3_5_cutoff:Current git commit: df4b52cf0ef8bafafa69e933ddd512ee51431e38\n",
      "2022-10-22 08:11:12,622 - ecoinvent_3_5_cutoff - INFO - Project name: ecoinvent_3_5_cutoff\n",
      "INFO:ecoinvent_3_5_cutoff:Project name: ecoinvent_3_5_cutoff\n",
      "2022-10-22 08:11:12,622 - ecoinvent_3_5_cutoff - INFO - Unit process and Master data directory: /home/weinold/hybridization_data/databases_raw/ecoinvent-3.5-cutoff\n",
      "INFO:ecoinvent_3_5_cutoff:Unit process and Master data directory: /home/weinold/hybridization_data/databases_raw/ecoinvent-3.5-cutoff\n",
      "2022-10-22 08:11:12,623 - ecoinvent_3_5_cutoff - INFO - Data saved in: /home/weinold/hybridization_data/databases_pickle\n",
      "INFO:ecoinvent_3_5_cutoff:Data saved in: /home/weinold/hybridization_data/databases_pickle\n",
      "2022-10-22 08:11:12,624 - ecoinvent_3_5_cutoff - INFO - Replace Not-a-Number instances with 0.0 in all matrices\n",
      "INFO:ecoinvent_3_5_cutoff:Replace Not-a-Number instances with 0.0 in all matrices\n",
      "2022-10-22 08:11:12,624 - ecoinvent_3_5_cutoff - INFO - Pickle intermediate results to files\n",
      "INFO:ecoinvent_3_5_cutoff:Pickle intermediate results to files\n",
      "2022-10-22 08:11:12,625 - ecoinvent_3_5_cutoff - INFO - Order processes based on: ISIC, activityName\n",
      "INFO:ecoinvent_3_5_cutoff:Order processes based on: ISIC, activityName\n",
      "2022-10-22 08:11:12,626 - ecoinvent_3_5_cutoff - INFO - Order elementary exchanges based on: comp, name, subcomp\n",
      "INFO:ecoinvent_3_5_cutoff:Order elementary exchanges based on: comp, name, subcomp\n",
      "2022-10-22 08:11:12,637 - ecoinvent_3_5_cutoff - WARNING - obs2char_subcomps constraints temporarily relaxed because not full recipe parsed\n",
      "WARNING:ecoinvent_3_5_cutoff:obs2char_subcomps constraints temporarily relaxed because not full recipe parsed\n"
     ]
    }
   ],
   "source": [
    "parser = e2m.Ecospold2Matrix(\n",
    "    sys_dir = path_dir_ecoinvent_input,\n",
    "    project_name = e2m_project_name,\n",
    "    characterisation_file = path_file_ecoinvent_characterisation,\n",
    "    out_dir = path_dir_databases_pickle,\n",
    "    positive_waste = False,\n",
    "    nan2null = True\n",
    ")"
   ]
  },
  {
   "cell_type": "code",
   "execution_count": 14,
   "metadata": {},
   "outputs": [
    {
     "name": "stderr",
     "output_type": "stream",
     "text": [
      "2022-10-22 08:11:16,393 - ecoinvent_3_5_cutoff - INFO - Products extracted from IntermediateExchanges.xml with SHA-1 of b2c87a5bf5982a60515a6e1160e43c620a218369\n",
      "INFO:ecoinvent_3_5_cutoff:Products extracted from IntermediateExchanges.xml with SHA-1 of b2c87a5bf5982a60515a6e1160e43c620a218369\n",
      "2022-10-22 08:11:25,341 - ecoinvent_3_5_cutoff - WARNING - Removed 1148 duplicate rows from activity_list, see duplicate_activity_list.csv.\n",
      "WARNING:ecoinvent_3_5_cutoff:Removed 1148 duplicate rows from activity_list, see duplicate_activity_list.csv.\n",
      "2022-10-22 08:11:25,473 - ecoinvent_3_5_cutoff - INFO - Activities extracted from ActivityIndex.xml with SHA-1 of 3ac94e9826a9a031ff2e0bfbdceeecaeb72a9117\n",
      "INFO:ecoinvent_3_5_cutoff:Activities extracted from ActivityIndex.xml with SHA-1 of 3ac94e9826a9a031ff2e0bfbdceeecaeb72a9117\n",
      "2022-10-22 08:11:25,495 - ecoinvent_3_5_cutoff - INFO - Processing 16022 files in /home/weinold/hybridization_data/databases_raw/ecoinvent-3.5-cutoff/datasets\n",
      "INFO:ecoinvent_3_5_cutoff:Processing 16022 files in /home/weinold/hybridization_data/databases_raw/ecoinvent-3.5-cutoff/datasets\n",
      "2022-10-22 08:12:24,700 - ecoinvent_3_5_cutoff - INFO - Flows saved in /home/weinold/hybridization_data/databases_raw/ecoinvent-3.5-cutoff/flows.pickle with SHA-1 of cc46592ef24fcf45f7acc935b4fc76a8acbd062c\n",
      "INFO:ecoinvent_3_5_cutoff:Flows saved in /home/weinold/hybridization_data/databases_raw/ecoinvent-3.5-cutoff/flows.pickle with SHA-1 of cc46592ef24fcf45f7acc935b4fc76a8acbd062c\n",
      "2022-10-22 08:12:24,778 - ecoinvent_3_5_cutoff - INFO - Processing 16022 files - this may take a while ...\n",
      "INFO:ecoinvent_3_5_cutoff:Processing 16022 files - this may take a while ...\n",
      "2022-10-22 08:13:33,666 - ecoinvent_3_5_cutoff - INFO - Elementary flows extracted from ElementaryExchanges.xml with SHA-1 of 0caa74a71870c1432557a91516a6da63d319b594\n",
      "INFO:ecoinvent_3_5_cutoff:Elementary flows extracted from ElementaryExchanges.xml with SHA-1 of 0caa74a71870c1432557a91516a6da63d319b594\n",
      "2022-10-22 08:13:33,709 - ecoinvent_3_5_cutoff - INFO - Labels saved in /home/weinold/hybridization_data/databases_raw/ecoinvent-3.5-cutoff/rawlabels.pickle with SHA-1 of 8bc41809cd42bb043ce5c69ae0ab324f16a25bc8\n",
      "INFO:ecoinvent_3_5_cutoff:Labels saved in /home/weinold/hybridization_data/databases_raw/ecoinvent-3.5-cutoff/rawlabels.pickle with SHA-1 of 8bc41809cd42bb043ce5c69ae0ab324f16a25bc8\n",
      "2022-10-22 08:13:33,720 - ecoinvent_3_5_cutoff - INFO - OK.   No untraceable flows.\n",
      "INFO:ecoinvent_3_5_cutoff:OK.   No untraceable flows.\n",
      "2022-10-22 08:13:33,917 - ecoinvent_3_5_cutoff - INFO - OK. Source activities seem in order. Each product traceable to an activity that actually does produce or distribute this product.\n",
      "INFO:ecoinvent_3_5_cutoff:OK. Source activities seem in order. Each product traceable to an activity that actually does produce or distribute this product.\n",
      "2022-10-22 08:13:34,256 - ecoinvent_3_5_cutoff - INFO - Starting to assemble the matrices\n",
      "INFO:ecoinvent_3_5_cutoff:Starting to assemble the matrices\n",
      "2022-10-22 08:13:35,650 - ecoinvent_3_5_cutoff - INFO - fillna\n",
      "INFO:ecoinvent_3_5_cutoff:fillna\n",
      "2022-10-22 08:13:40,721 - ecoinvent_3_5_cutoff - INFO - Starting normalizing matrices\n",
      "INFO:ecoinvent_3_5_cutoff:Starting normalizing matrices\n",
      "2022-10-22 08:13:50,977 - ecoinvent_3_5_cutoff - INFO - Characterisation file seems to be ecoinvent LCIA implementation. Will apply simple name matching\n",
      "INFO:ecoinvent_3_5_cutoff:Characterisation file seems to be ecoinvent LCIA implementation. Will apply simple name matching\n"
     ]
    },
    {
     "name": "stdout",
     "output_type": "stream",
     "text": [
      "starting characterisation\n"
     ]
    },
    {
     "name": "stderr",
     "output_type": "stream",
     "text": [
      "2022-10-22 08:14:03,979 - ecoinvent_3_5_cutoff - INFO - Will use column 7, named CF_35, for characterisation factors\n",
      "INFO:ecoinvent_3_5_cutoff:Will use column 7, named CF_35, for characterisation factors\n",
      "2022-10-22 08:14:03,980 - ecoinvent_3_5_cutoff - INFO - Starting characterisation matching\n",
      "INFO:ecoinvent_3_5_cutoff:Starting characterisation matching\n",
      "2022-10-22 08:14:08,272 - ecoinvent_3_5_cutoff - INFO - Characterisation matching done. C matrix created\n",
      "INFO:ecoinvent_3_5_cutoff:Characterisation matching done. C matrix created\n",
      "2022-10-22 08:14:08,273 - ecoinvent_3_5_cutoff - INFO - Starting to export to file\n",
      "INFO:ecoinvent_3_5_cutoff:Starting to export to file\n",
      "2022-10-22 08:14:08,274 - ecoinvent_3_5_cutoff - INFO - about to write to file\n",
      "INFO:ecoinvent_3_5_cutoff:about to write to file\n",
      "2022-10-22 08:16:59,033 - ecoinvent_3_5_cutoff - INFO - Final, symmetric, normalized matrices saved in /home/weinold/hybridization_data/databases_pickle/ecoinvent_3_5_cutoffPandas_symmNorm.gz.pickle with SHA-1 of 608a91215719cdd6869291ab4b7b1a797e667333\n",
      "INFO:ecoinvent_3_5_cutoff:Final, symmetric, normalized matrices saved in /home/weinold/hybridization_data/databases_pickle/ecoinvent_3_5_cutoffPandas_symmNorm.gz.pickle with SHA-1 of 608a91215719cdd6869291ab4b7b1a797e667333\n",
      "2022-10-22 08:19:57,685 - ecoinvent_3_5_cutoff - INFO - Final, symmetric, scaled-up flow matrices saved in /home/weinold/hybridization_data/databases_pickle/ecoinvent_3_5_cutoffPandas_symmScale.gz.pickle with SHA-1 of bbcc333b957971bee0d905c704cab235a766dd90\n",
      "INFO:ecoinvent_3_5_cutoff:Final, symmetric, scaled-up flow matrices saved in /home/weinold/hybridization_data/databases_pickle/ecoinvent_3_5_cutoffPandas_symmScale.gz.pickle with SHA-1 of bbcc333b957971bee0d905c704cab235a766dd90\n",
      "2022-10-22 08:19:57,686 - ecoinvent_3_5_cutoff - INFO - Done running ecospold2matrix.ecospold_to_Leontief\n",
      "INFO:ecoinvent_3_5_cutoff:Done running ecospold2matrix.ecospold_to_Leontief\n"
     ]
    }
   ],
   "source": [
    "parser.ecospold_to_Leontief(\n",
    "    fileformats = 'Pandas',\n",
    "    with_absolute_flows=True)"
   ]
  },
  {
   "cell_type": "markdown",
   "metadata": {},
   "source": [
    "#### 1.1.2.2. clean up temporary files\n",
    "\n",
    "unfortunately, `ecospold2matrix` creates lots of files (`.log, .db`) where the output directory can be not set. they are not cleaned up automatically. they might interfere with repeated runs of the code. this is why we must clean up these files."
   ]
  },
  {
   "cell_type": "code",
   "execution_count": null,
   "metadata": {},
   "outputs": [],
   "source": [
    "def delete_e2m_files(list_string: list) -> None:\n",
    "    for i in list_string:\n",
    "        !rm -rf $i\n",
    "    pass"
   ]
  },
  {
   "cell_type": "code",
   "execution_count": null,
   "metadata": {},
   "outputs": [],
   "source": [
    "delete_e2m_files(\n",
    "        [\n",
    "            tmp_dir_e2m,\n",
    "            tmp_pattern_e2m,\n",
    "        ]\n",
    ")"
   ]
  }
 ],
 "metadata": {
  "kernelspec": {
   "display_name": "Python 3.10.6 ('hybridization': conda)",
   "language": "python",
   "name": "python3"
  },
  "language_info": {
   "codemirror_mode": {
    "name": "ipython",
    "version": 3
   },
   "file_extension": ".py",
   "mimetype": "text/x-python",
   "name": "python",
   "nbconvert_exporter": "python",
   "pygments_lexer": "ipython3",
   "version": "3.8.13"
  },
  "orig_nbformat": 4,
  "vscode": {
   "interpreter": {
    "hash": "238e8c5baa9133d16a7cbc63d75f9f668e90e2677c7196b282498abda24b1689"
   }
  }
 },
 "nbformat": 4,
 "nbformat_minor": 2
}
