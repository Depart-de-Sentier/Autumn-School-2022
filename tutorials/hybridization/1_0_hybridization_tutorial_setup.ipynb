{
 "cells": [
  {
   "cell_type": "markdown",
   "metadata": {},
   "source": [
    "## 0.0. setup\n",
    "\n",
    "1. if there is not already a _hybridization_ `conda` environment set up, [create a new `conda` environment](https://conda.io/projects/conda/en/latest/user-guide/getting-started.html) using the provided environment file `conda_env_hybridization.yml`:\n",
    "\n",
    "```\n",
    "conda env create -f <path to environment yaml file>\n",
    "```\n",
    "\n",
    "2. create directories and copy database files from the shared drive (`/srv/data/autumn_school/hybridization/`)"
   ]
  },
  {
   "cell_type": "code",
   "execution_count": 3,
   "metadata": {},
   "outputs": [],
   "source": [
    "# ensures that we start with a fresh directory, since ecospold2matrix can mess up Ecoinvent files\n",
    "!rm -rf ~/hybridization_data/databases_raw \n",
    "!mkdir -p ~/hybridization_data/databases_raw\n",
    "!cp -a /srv/data/autumn_school/hybridization/databases_raw/* ~/hybridization_data/databases_raw"
   ]
  },
  {
   "cell_type": "code",
   "execution_count": 4,
   "metadata": {},
   "outputs": [],
   "source": [
    "!mkdir -p ~/hybridization_data/databases_pickle"
   ]
  },
  {
   "cell_type": "markdown",
   "metadata": {},
   "source": [
    "## 0.1. imports\n",
    "### 0.1.1. regular imports"
   ]
  },
  {
   "cell_type": "code",
   "execution_count": 5,
   "metadata": {},
   "outputs": [
    {
     "name": "stdout",
     "output_type": "stream",
     "text": [
      "Using environment variable BRIGHTWAY2_DIR for data directory:\n",
      "/home/weinold/bw_data\n"
     ]
    }
   ],
   "source": [
    "# i/o\n",
    "import sys\n",
    "import os\n",
    "from pathlib import Path\n",
    "import gzip\n",
    "import pickle\n",
    "# lca\n",
    "import ecospold2matrix as e2m\n",
    "import pymrio\n",
    "import brightway2 as bw\n",
    "# data science\n",
    "import pandas as pd"
   ]
  },
  {
   "cell_type": "markdown",
   "metadata": {},
   "source": [
    "### 0.1.2. local imports"
   ]
  },
  {
   "cell_type": "code",
   "execution_count": 6,
   "metadata": {},
   "outputs": [],
   "source": [
    "%%capture\n",
    "pylcaio_directory = os.path.join(Path.home(), 'pylcaio')\n",
    "!git clone https://github.com/michaelweinold/pylcaio.git $pylcaio_directory # this is a fork with various fixes"
   ]
  },
  {
   "cell_type": "code",
   "execution_count": 7,
   "metadata": {},
   "outputs": [],
   "source": [
    "sys.path.append(os.path.join(Path.home(), 'pylcaio', 'src')) # required for local import of pylcaio\n",
    "import pylcaio"
   ]
  },
  {
   "cell_type": "markdown",
   "metadata": {},
   "source": [
    "## 0.2. file paths\n",
    "\n",
    "set location of databases (Ecoinvent and Exiobase) for use by the appropriate Python packages\n",
    "\n",
    "### 0.2.1. directories"
   ]
  },
  {
   "cell_type": "code",
   "execution_count": 8,
   "metadata": {},
   "outputs": [],
   "source": [
    "%%capture\n",
    "print(path_dir_databases_raw := os.path.join(Path.home(), 'hybridization_data/databases_raw'))\n",
    "print(path_dir_databases_pickle := os.path.join(Path.home(), 'hybridization_data/databases_pickle'))"
   ]
  },
  {
   "cell_type": "markdown",
   "metadata": {},
   "source": [
    "### 0.2.2. databases (Ecoinvent 3.5, Exiobase 3.X)"
   ]
  },
  {
   "cell_type": "code",
   "execution_count": 9,
   "metadata": {},
   "outputs": [],
   "source": [
    "%%capture\n",
    "# Exiobase\n",
    "print(path_file_exiobase_input := os.path.join(path_dir_databases_raw, 'IOT_2012_pxp.zip'))\n",
    "print(path_file_exiobase_output := os.path.join(path_dir_databases_pickle, 'exiobase_monetary_pxp_2012.pickle'))\n",
    "# Ecoinvent\n",
    "print(path_dir_ecoinvent_input := os.path.join(path_dir_databases_raw, 'ecoinvent-3.5-cutoff'))\n",
    "print(path_file_ecoinvent_characterisation := os.path.join(path_dir_databases_raw, 'LCIA_Implementation_v3.5.xlsx'))"
   ]
  },
  {
   "cell_type": "markdown",
   "metadata": {},
   "source": [
    "### 0.2.3. databases (Ecoinvent 3.8, Exiobase 3.8)"
   ]
  },
  {
   "cell_type": "code",
   "execution_count": 23,
   "metadata": {},
   "outputs": [],
   "source": [
    "%%capture\n",
    "# Exiobase\n",
    "print(path_file_exiobase_input := os.path.join(path_dir_databases_raw, 'IOT_2011_pxp.zip'))\n",
    "print(path_file_exiobase_output := os.path.join(path_dir_databases_pickle, 'exiobase_3_8_monetary_pxp_2011.pickle'))\n",
    "# Ecoinvent\n",
    "print(path_dir_ecoinvent_input := os.path.join(path_dir_databases_raw, 'ecoinvent-3.8-cutoff'))\n",
    "print(path_file_ecoinvent_characterisation := os.path.join(path_dir_databases_raw, 'LCIA_Implementation_v3.8.xlsx'))"
   ]
  },
  {
   "cell_type": "markdown",
   "metadata": {},
   "source": [
    "## 1.1. read databases and save to disk\n",
    "### 1.1.1 download the latest version of the Exiobase database and save `pickle` to disk\n",
    "\n",
    "❔ creates `pymrio.IOSystem` class instance (collection of pd.DataFrames etc.) \\\n",
    "⏳ ~1min"
   ]
  },
  {
   "cell_type": "code",
   "execution_count": 15,
   "metadata": {},
   "outputs": [],
   "source": [
    "exio_meta = pymrio.download_exiobase3(\n",
    "    storage_folder = path_dir_databases_raw,\n",
    "    system = 'pxp',\n",
    "    years = [2011]\n",
    ")"
   ]
  },
  {
   "cell_type": "code",
   "execution_count": 16,
   "metadata": {},
   "outputs": [
    {
     "name": "stdout",
     "output_type": "stream",
     "text": [
      "CPU times: user 1min 4s, sys: 2.14 s, total: 1min 6s\n",
      "Wall time: 1min 6s\n"
     ]
    }
   ],
   "source": [
    "%%time\n",
    "exiobase: pymrio.IOSystem = pymrio.parse_exiobase3(path_file_exiobase_input)\n",
    "with open(path_file_exiobase_output, 'wb') as file_handle:    \n",
    "    pickle.dump(obj = exiobase, file = file_handle, protocol=pickle.HIGHEST_PROTOCOL)"
   ]
  },
  {
   "cell_type": "markdown",
   "metadata": {},
   "source": [
    "### 1.1.2 read Ecoinvent database and save `pickle` to disk\n",
    "\n",
    "❔ creates e2m.Ecospold2Matrix class instance \\\n",
    "⏳ ~12min"
   ]
  },
  {
   "cell_type": "code",
   "execution_count": 17,
   "metadata": {},
   "outputs": [],
   "source": [
    "%%capture\n",
    "print(e2m_project_name := 'ecoinvent_3_8_cutoff')\n",
    "print(tmp_dir_e2m := os.path.join(path_dir_databases_pickle, str(e2m_project_name + '_log')))\n",
    "print(tmp_pattern_e2m := '*.db')"
   ]
  },
  {
   "cell_type": "markdown",
   "metadata": {},
   "source": [
    "#### 1.1.2.1. run `ecospold2matrix`"
   ]
  },
  {
   "cell_type": "code",
   "execution_count": 28,
   "metadata": {},
   "outputs": [
    {
     "name": "stderr",
     "output_type": "stream",
     "text": [
      "2022-10-26 20:43:07,993 - ecoinvent_3_8_cutoff - INFO - Ecospold2Matrix Processing\n",
      "INFO:ecoinvent_3_8_cutoff:Ecospold2Matrix Processing\n",
      "2022-10-26 20:43:08,160 - ecoinvent_3_8_cutoff - INFO - Current git commit: 3dfc1ab7df1057f40fb75f9b6457cd40b2022c29\n",
      "INFO:ecoinvent_3_8_cutoff:Current git commit: 3dfc1ab7df1057f40fb75f9b6457cd40b2022c29\n",
      "2022-10-26 20:43:08,161 - ecoinvent_3_8_cutoff - INFO - Project name: ecoinvent_3_8_cutoff\n",
      "INFO:ecoinvent_3_8_cutoff:Project name: ecoinvent_3_8_cutoff\n",
      "2022-10-26 20:43:08,162 - ecoinvent_3_8_cutoff - INFO - Unit process and Master data directory: /home/weinold/hybridization_data/databases_raw/ecoinvent-3.8-cutoff\n",
      "INFO:ecoinvent_3_8_cutoff:Unit process and Master data directory: /home/weinold/hybridization_data/databases_raw/ecoinvent-3.8-cutoff\n",
      "2022-10-26 20:43:08,163 - ecoinvent_3_8_cutoff - INFO - Data saved in: /home/weinold/hybridization_data/databases_pickle\n",
      "INFO:ecoinvent_3_8_cutoff:Data saved in: /home/weinold/hybridization_data/databases_pickle\n",
      "2022-10-26 20:43:08,164 - ecoinvent_3_8_cutoff - INFO - Official rolled-up life cycle inventories in: /home/weinold/hybridization_data/databases_raw/ecoinvent-3.8-cutoff/datasets\n",
      "INFO:ecoinvent_3_8_cutoff:Official rolled-up life cycle inventories in: /home/weinold/hybridization_data/databases_raw/ecoinvent-3.8-cutoff/datasets\n",
      "2022-10-26 20:43:08,165 - ecoinvent_3_8_cutoff - INFO - Replace Not-a-Number instances with 0.0 in all matrices\n",
      "INFO:ecoinvent_3_8_cutoff:Replace Not-a-Number instances with 0.0 in all matrices\n",
      "2022-10-26 20:43:08,166 - ecoinvent_3_8_cutoff - INFO - Pickle intermediate results to files\n",
      "INFO:ecoinvent_3_8_cutoff:Pickle intermediate results to files\n",
      "2022-10-26 20:43:08,166 - ecoinvent_3_8_cutoff - INFO - Order processes based on: ISIC, activityName\n",
      "INFO:ecoinvent_3_8_cutoff:Order processes based on: ISIC, activityName\n",
      "2022-10-26 20:43:08,167 - ecoinvent_3_8_cutoff - INFO - Order elementary exchanges based on: comp, name, subcomp\n",
      "INFO:ecoinvent_3_8_cutoff:Order elementary exchanges based on: comp, name, subcomp\n",
      "2022-10-26 20:43:08,179 - ecoinvent_3_8_cutoff - WARNING - obs2char_subcomps constraints temporarily relaxed because not full recipe parsed\n",
      "WARNING:ecoinvent_3_8_cutoff:obs2char_subcomps constraints temporarily relaxed because not full recipe parsed\n"
     ]
    }
   ],
   "source": [
    "parser = e2m.Ecospold2Matrix(\n",
    "    sys_dir = path_dir_ecoinvent_input,\n",
    "    lci_dir = os.path.join(path_dir_ecoinvent_input, 'datasets'),\n",
    "    project_name = e2m_project_name,\n",
    "    characterisation_file = path_file_ecoinvent_characterisation,\n",
    "    out_dir = path_dir_databases_pickle,\n",
    "    positive_waste = False,\n",
    "    nan2null = True\n",
    ")"
   ]
  },
  {
   "cell_type": "code",
   "execution_count": 29,
   "metadata": {},
   "outputs": [
    {
     "name": "stderr",
     "output_type": "stream",
     "text": [
      "2022-10-26 20:43:10,127 - ecoinvent_3_8_cutoff - INFO - Products extracted from IntermediateExchanges.xml with SHA-1 of 1da23bc8fd24d97422a2a21ba3626d2cdfa6a428\n",
      "INFO:ecoinvent_3_8_cutoff:Products extracted from IntermediateExchanges.xml with SHA-1 of 1da23bc8fd24d97422a2a21ba3626d2cdfa6a428\n",
      "2022-10-26 20:43:30,454 - ecoinvent_3_8_cutoff - WARNING - Removed 162 duplicate rows from activity_list, see duplicate_activity_list.csv.\n",
      "WARNING:ecoinvent_3_8_cutoff:Removed 162 duplicate rows from activity_list, see duplicate_activity_list.csv.\n",
      "2022-10-26 20:43:30,534 - ecoinvent_3_8_cutoff - INFO - Activities extracted from ActivityIndex.xml with SHA-1 of 03403c01ac6f74a5d6cc5ca8820593f7e516b709\n",
      "INFO:ecoinvent_3_8_cutoff:Activities extracted from ActivityIndex.xml with SHA-1 of 03403c01ac6f74a5d6cc5ca8820593f7e516b709\n",
      "2022-10-26 20:43:30,566 - ecoinvent_3_8_cutoff - INFO - Processing 19565 files in /home/weinold/hybridization_data/databases_raw/ecoinvent-3.8-cutoff/datasets\n",
      "INFO:ecoinvent_3_8_cutoff:Processing 19565 files in /home/weinold/hybridization_data/databases_raw/ecoinvent-3.8-cutoff/datasets\n",
      "2022-10-26 20:44:57,397 - ecoinvent_3_8_cutoff - INFO - Flows saved in /home/weinold/hybridization_data/databases_raw/ecoinvent-3.8-cutoff/flows.pickle with SHA-1 of fbf9908e10ef315cea2e9b77602edc801c83a8a1\n",
      "INFO:ecoinvent_3_8_cutoff:Flows saved in /home/weinold/hybridization_data/databases_raw/ecoinvent-3.8-cutoff/flows.pickle with SHA-1 of fbf9908e10ef315cea2e9b77602edc801c83a8a1\n",
      "2022-10-26 20:44:57,457 - ecoinvent_3_8_cutoff - INFO - Processing 19565 files - this may take a while ...\n",
      "INFO:ecoinvent_3_8_cutoff:Processing 19565 files - this may take a while ...\n",
      "2022-10-26 20:46:32,481 - ecoinvent_3_8_cutoff - INFO - Elementary flows extracted from ElementaryExchanges.xml with SHA-1 of f65edb9180cc5fb6df99289157b5aab92d30c0d1\n",
      "INFO:ecoinvent_3_8_cutoff:Elementary flows extracted from ElementaryExchanges.xml with SHA-1 of f65edb9180cc5fb6df99289157b5aab92d30c0d1\n",
      "2022-10-26 20:46:32,542 - ecoinvent_3_8_cutoff - INFO - Labels saved in /home/weinold/hybridization_data/databases_raw/ecoinvent-3.8-cutoff/rawlabels.pickle with SHA-1 of 6f44eae4ae2ce86d603d7d39e9b4485439745160\n",
      "INFO:ecoinvent_3_8_cutoff:Labels saved in /home/weinold/hybridization_data/databases_raw/ecoinvent-3.8-cutoff/rawlabels.pickle with SHA-1 of 6f44eae4ae2ce86d603d7d39e9b4485439745160\n",
      "2022-10-26 20:46:32,555 - ecoinvent_3_8_cutoff - INFO - OK.   No untraceable flows.\n",
      "INFO:ecoinvent_3_8_cutoff:OK.   No untraceable flows.\n",
      "2022-10-26 20:46:32,909 - ecoinvent_3_8_cutoff - INFO - OK. Source activities seem in order. Each product traceable to an activity that actually does produce or distribute this product.\n",
      "INFO:ecoinvent_3_8_cutoff:OK. Source activities seem in order. Each product traceable to an activity that actually does produce or distribute this product.\n",
      "2022-10-26 20:46:33,242 - ecoinvent_3_8_cutoff - INFO - Starting to assemble the matrices\n",
      "INFO:ecoinvent_3_8_cutoff:Starting to assemble the matrices\n",
      "2022-10-26 20:46:36,545 - ecoinvent_3_8_cutoff - INFO - fillna\n",
      "INFO:ecoinvent_3_8_cutoff:fillna\n",
      "2022-10-26 20:46:44,146 - ecoinvent_3_8_cutoff - INFO - Starting normalizing matrices\n",
      "INFO:ecoinvent_3_8_cutoff:Starting normalizing matrices\n"
     ]
    },
    {
     "name": "stdout",
     "output_type": "stream",
     "text": [
      "starting characterisation\n",
      "            cas                                        aName     bad_cas  \\\n",
      "0       93-65-2                                     mecoprop   7085-19-0   \n",
      "1   107534-96-3                                 tebuconazole  80443-41-0   \n",
      "2      302-04-5                                          NaN  71048-69-6   \n",
      "3   138261-41-3                                          NaN  38261-41-3   \n",
      "4      108-62-3                                  metaldehyde   9002-91-9   \n",
      "5      107-15-3                                          NaN    117-15-3   \n",
      "6       74-89-5                                 methyl amine     75-89-5   \n",
      "7    17428-41-0                                 arsenic, ion   7440-38-2   \n",
      "8    22537-48-0                                 cadmium, ion   7440-43-9   \n",
      "9    18540-29-9                                  chromium vi   7440-47-3   \n",
      "10   17493-86-6                                  Copper, ion   7440-50-8   \n",
      "11   14701-22-5                                  Nickel, ion   7440-02-0   \n",
      "12   14701-22-5                                    Nickel II   7440-02-0   \n",
      "13   14701-21-4                                  silver, ion   7440-22-4   \n",
      "14   22537-50-4                                     tin, ion   7440-31-5   \n",
      "15   22541-77-1                                vanadium, ion   7440-62-2   \n",
      "16   23713-49-7                                    zinc, ion   7440-66-6   \n",
      "17    2764-72-9                                       diquat    231-36-7   \n",
      "18      56-35-9                        tributyltin compounds  56573-85-4   \n",
      "19    7429-90-5  Aluminium, 24% in bauxite, 11% in crude ore   1318-16-7   \n",
      "20   20193-67-3                                   %hfe-236fa         NaN   \n",
      "21   57041-67-5                                  %hfe-236ea2         NaN   \n",
      "22  160620-20-2                                    %356pcc3%         NaN   \n",
      "23   50807-77-7                                     %356pcf2         NaN   \n",
      "24   35042-99-0                                    %356pcf3%         NaN   \n",
      "25     382-34-3                                    %356mec3%         NaN   \n",
      "26   22410-44-2                                     %245cb2%         NaN   \n",
      "27   84011-15-4                                     %245fa1%         NaN   \n",
      "28     375-03-1                                    %347mcc3%         NaN   \n",
      "29      74-82-8          Methane, from soil or biomass stock         NaN   \n",
      "30     678-26-2                             Perfluoropentane         NaN   \n",
      "31     298-00-0                             Methyl parathion         NaN   \n",
      "32     630-08-0  Carbon monoxide, from soil or biomass stock         NaN   \n",
      "33          NaN     Gas, mine, off-gas, process, coal mining   8006-14-2   \n",
      "\n",
      "                                              comment  \n",
      "0                                      deprecated CAS  \n",
      "1                                      deprecated cas  \n",
      "2                      deprecated cas for thiocyanate  \n",
      "3                        invalid cas for imidacloprid  \n",
      "4            was cas of the polymer, not the molecule  \n",
      "5               invalid cas, typo for ethylenediamine  \n",
      "6                                 invalid CAS (typo?)  \n",
      "7               scifinder CAS for arsenic ion, As(5+)  \n",
      "8                       scifinder CAS for cadmium ion  \n",
      "9   scifinder CAS for chromium VI, no need to use ...  \n",
      "10                       scifinder CAS for copper ion  \n",
      "11                        scifinder CAS for Nickel II  \n",
      "12                        scifinder CAS for Nickel II  \n",
      "13                           scifinder CAS for Ag(+1)  \n",
      "14                           scifinder CAS for Sn(4+)  \n",
      "15                     scifinder CAS for vanadium ion  \n",
      "16                           scifinder cas for Zn(2+)  \n",
      "17  was cas of ion, not neutral molecule, caused c...  \n",
      "18  both cas numbers tributyltin based. picked cas...  \n",
      "19     Use CAS of Aluminium, not the bauxite it is in  \n",
      "20                                      scifinder CAS  \n",
      "21  Desflurane: see http://www.ecfr.gov/cgi-bin/te...  \n",
      "22                                      Scifinder CAS  \n",
      "23  see http://www.ecfr.gov/cgi-bin/text-idx?  SID...  \n",
      "24  see http://www.ecfr.gov/cgi-bin/text-idx?  SID...  \n",
      "25  see http://www.ecfr.gov/cgi-bin/text-idx?  SID...  \n",
      "26  see http://www.ecfr.gov/cgi-bin/text-idx?  SID...  \n",
      "27  see http://www.ecfr.gov/cgi-bin/text-idx?  SID...  \n",
      "28  see http://www.ecfr.gov/cgi-bin/text-idx?  SID...  \n",
      "29                Methane is methane, should have CAS  \n",
      "30                                     Missing CAS!!!  \n",
      "31                                     Missing CAS!!!  \n",
      "32                                        Missing CAS  \n",
      "33  Different resource depletion than normal natur...  \n",
      "    approximationLevel                                              aName  \\\n",
      "0                    0                                           Chloride   \n",
      "1                    0                     Occupation, urban, green areas   \n",
      "2                    0                 Cyclohexane (for all cycloalkanes)   \n",
      "3                    0                             Fresh water (obsolete)   \n",
      "4                    0             Occupation, annual crop, non-irrigated   \n",
      "5                    0                                 Occupation, arable   \n",
      "6                    0                     Transformation, to unspecified   \n",
      "7                    0                   Transformation, from unspecified   \n",
      "8                    0                                         Occupation   \n",
      "9                    1                                            Cadmium   \n",
      "10                   1                                             Indium   \n",
      "11                   1                                               Zinc   \n",
      "12                   1                                               Iron   \n",
      "13                   1                                                Tin   \n",
      "14                   1                                          Aluminium   \n",
      "15                   2                                Cyhalothrin, gamma-   \n",
      "16                   2                                  Zeta-cypermethrin   \n",
      "17                   2  Occupation, annual crop, non-irrigated, intensive   \n",
      "18                   2                        Transformation, from forest   \n",
      "19                   2                        Transformation, from forest   \n",
      "20                   2  NMVOC, non-methane volatile organic compounds,...   \n",
      "21                   3                          Transformation, to forest   \n",
      "22                   3                                 Occupation, arable   \n",
      "23                   3                                 Occupation, arable   \n",
      "24                   3                         Occupation, permanent crop   \n",
      "\n",
      "                                          anotherName  \\\n",
      "0                                           Chlorides   \n",
      "1                       Occupation, urban, green area   \n",
      "2            Hydrocarbons, aliphatic, alkanes, cyclic   \n",
      "3                                        Water, fresh   \n",
      "4                   Occupation, arable, non-irrigated   \n",
      "5            Occupation, arable land, unspecified use   \n",
      "6                          Transformation, to unknown   \n",
      "7                        Transformation, from unknown   \n",
      "8                                 Occupation, unknown   \n",
      "9   Cadmium, 0.30% in sulfide, Cd 0.18%, Pb, Zn, A...   \n",
      "10  Indium, 0.005% in sulfide, In 0.003%, Pb, Zn, ...   \n",
      "11     Zinc, 9.0% in sulfide, Zn 5.3%, Pb, Ag, Cd, In   \n",
      "12           Iron, 72% in magnetite, 14% in crude ore   \n",
      "13         Tin, 79% in cassiterite, 0.1% in crude ore   \n",
      "14        Aluminium, 24% in bauxite, 11% in crude ore   \n",
      "15                                 Lambda-cyhalothrin   \n",
      "16                                       Cypermethrin   \n",
      "17  Occupation, arable, non-irrigated, monotone-in...   \n",
      "18     Transformation, from forest, primary (non-use)   \n",
      "19   Transformation, from forest, secondary (non-use)   \n",
      "20  VOC, volatile organic compounds, unspecified o...   \n",
      "21                         Transformation, to forest%   \n",
      "22                                Occupation, arable%   \n",
      "23                           Occupation, annual crop%   \n",
      "24                        Occupation, permanent crop%   \n",
      "\n",
      "                                              comment  \n",
      "0                                     Singular/plural  \n",
      "1                                     Singular/plural  \n",
      "2                                                 NaN  \n",
      "3                                                 NaN  \n",
      "4                                                 NaN  \n",
      "5                                                 NaN  \n",
      "6                                                 NaN  \n",
      "7                                                 NaN  \n",
      "8                                                 NaN  \n",
      "9                                                 NaN  \n",
      "10                                                NaN  \n",
      "11                                                NaN  \n",
      "12                                                NaN  \n",
      "13                                                NaN  \n",
      "14                                                NaN  \n",
      "15  wikipedia: Gamma-cyhalothrin is the most insec...  \n",
      "16                                                NaN  \n",
      "17                                                NaN  \n",
      "18                                                NaN  \n",
      "19                                                NaN  \n",
      "20                                                NaN  \n",
      "21                                                NaN  \n",
      "22                                                NaN  \n",
      "23                                                NaN  \n",
      "24                                                NaN  \n",
      "   factorValue impactID                                           aName  \\\n",
      "0          0.0    WDP20  Water, turbine use, unspecified natural origin   \n",
      "1          0.0   WDP100  Water, turbine use, unspecified natural origin   \n",
      "2          0.0   WDPInf  Water, turbine use, unspecified natural origin   \n",
      "\n",
      "       comp      subcomp unit  \n",
      "0  resource  unspecified   m3  \n",
      "1  resource  unspecified   m3  \n",
      "2  resource  unspecified   m3  \n"
     ]
    },
    {
     "name": "stderr",
     "output_type": "stream",
     "text": [
      "/home/weinold/miniconda3/envs/hybridization_bw_241/lib/python3.9/site-packages/ecospold2matrix/ecospold2matrix.py:2799: FutureWarning: The default value of regex will change from True to False in a future version.\n",
      "  self.STR.cas = self.STR.cas.str.replace('^[0]*','')\n"
     ]
    },
    {
     "ename": "OperationalError",
     "evalue": "duplicate column name: id",
     "output_type": "error",
     "traceback": [
      "\u001b[0;31m---------------------------------------------------------------------------\u001b[0m",
      "\u001b[0;31mOperationalError\u001b[0m                          Traceback (most recent call last)",
      "Cell \u001b[0;32mIn [29], line 1\u001b[0m\n\u001b[0;32m----> 1\u001b[0m parser\u001b[39m.\u001b[39;49mecospold_to_Leontief(\n\u001b[1;32m      2\u001b[0m     fileformats \u001b[39m=\u001b[39;49m \u001b[39m'\u001b[39;49m\u001b[39mPandas\u001b[39;49m\u001b[39m'\u001b[39;49m,\n\u001b[1;32m      3\u001b[0m     with_absolute_flows\u001b[39m=\u001b[39;49m\u001b[39mTrue\u001b[39;49;00m\n\u001b[1;32m      4\u001b[0m )\n",
      "File \u001b[0;32m~/miniconda3/envs/hybridization_bw_241/lib/python3.9/site-packages/ecospold2matrix/ecospold2matrix.py:425\u001b[0m, in \u001b[0;36mEcospold2Matrix.ecospold_to_Leontief\u001b[0;34m(self, fileformats, with_absolute_flows, lci_check, rtol, atol, imax, characterisation_file, ardaidmatching_file)\u001b[0m\n\u001b[1;32m    423\u001b[0m \u001b[39melse\u001b[39;00m:\n\u001b[1;32m    424\u001b[0m     \u001b[39mself\u001b[39m\u001b[39m.\u001b[39mprepare_matching_load_parameters()\n\u001b[0;32m--> 425\u001b[0m     \u001b[39mself\u001b[39;49m\u001b[39m.\u001b[39;49mprocess_inventory_elementary_flows()\n\u001b[1;32m    426\u001b[0m     \u001b[39mself\u001b[39m\u001b[39m.\u001b[39mread_characterisation()\n\u001b[1;32m    427\u001b[0m     \u001b[39mself\u001b[39m\u001b[39m.\u001b[39mpopulate_complementary_tables()\n",
      "File \u001b[0;32m~/miniconda3/envs/hybridization_bw_241/lib/python3.9/site-packages/ecospold2matrix/ecospold2matrix.py:2803\u001b[0m, in \u001b[0;36mEcospold2Matrix.process_inventory_elementary_flows\u001b[0;34m(self)\u001b[0m\n\u001b[1;32m   2801\u001b[0m \u001b[39m# export to tmp SQL table\u001b[39;00m\n\u001b[1;32m   2802\u001b[0m c \u001b[39m=\u001b[39m \u001b[39mself\u001b[39m\u001b[39m.\u001b[39mconn\u001b[39m.\u001b[39mcursor()\n\u001b[0;32m-> 2803\u001b[0m \u001b[39mself\u001b[39;49m\u001b[39m.\u001b[39;49mSTR\u001b[39m.\u001b[39;49mto_sql(\u001b[39m'\u001b[39;49m\u001b[39mdirty_inventory\u001b[39;49m\u001b[39m'\u001b[39;49m,\n\u001b[1;32m   2804\u001b[0m                 \u001b[39mself\u001b[39;49m\u001b[39m.\u001b[39;49mconn,\n\u001b[1;32m   2805\u001b[0m                 index_label\u001b[39m=\u001b[39;49m\u001b[39m'\u001b[39;49m\u001b[39mid\u001b[39;49m\u001b[39m'\u001b[39;49m,\n\u001b[1;32m   2806\u001b[0m                 if_exists\u001b[39m=\u001b[39;49m\u001b[39m'\u001b[39;49m\u001b[39mreplace\u001b[39;49m\u001b[39m'\u001b[39;49m)\n\u001b[1;32m   2807\u001b[0m c\u001b[39m.\u001b[39mexecute( \u001b[39m\"\"\"\u001b[39m\n\u001b[1;32m   2808\u001b[0m \u001b[39mINSERT INTO raw_inventory(id, name, comp, subcomp, unit, cas)\u001b[39m\n\u001b[1;32m   2809\u001b[0m \u001b[39mSELECT DISTINCT id, name, comp, subcomp, unit, cas\u001b[39m\n\u001b[1;32m   2810\u001b[0m \u001b[39mFROM dirty_inventory;\u001b[39m\n\u001b[1;32m   2811\u001b[0m \u001b[39m\u001b[39m\u001b[39m\"\"\"\u001b[39m)\n\u001b[1;32m   2813\u001b[0m \u001b[39mself\u001b[39m\u001b[39m.\u001b[39mclean_label(\u001b[39m'\u001b[39m\u001b[39mraw_inventory\u001b[39m\u001b[39m'\u001b[39m)\n",
      "File \u001b[0;32m~/miniconda3/envs/hybridization_bw_241/lib/python3.9/site-packages/pandas/core/generic.py:2987\u001b[0m, in \u001b[0;36mNDFrame.to_sql\u001b[0;34m(self, name, con, schema, if_exists, index, index_label, chunksize, dtype, method)\u001b[0m\n\u001b[1;32m   2830\u001b[0m \u001b[39m\"\"\"\u001b[39;00m\n\u001b[1;32m   2831\u001b[0m \u001b[39mWrite records stored in a DataFrame to a SQL database.\u001b[39;00m\n\u001b[1;32m   2832\u001b[0m \n\u001b[0;32m   (...)\u001b[0m\n\u001b[1;32m   2983\u001b[0m \u001b[39m[(1,), (None,), (2,)]\u001b[39;00m\n\u001b[1;32m   2984\u001b[0m \u001b[39m\"\"\"\u001b[39;00m  \u001b[39m# noqa:E501\u001b[39;00m\n\u001b[1;32m   2985\u001b[0m \u001b[39mfrom\u001b[39;00m \u001b[39mpandas\u001b[39;00m\u001b[39m.\u001b[39;00m\u001b[39mio\u001b[39;00m \u001b[39mimport\u001b[39;00m sql\n\u001b[0;32m-> 2987\u001b[0m \u001b[39mreturn\u001b[39;00m sql\u001b[39m.\u001b[39;49mto_sql(\n\u001b[1;32m   2988\u001b[0m     \u001b[39mself\u001b[39;49m,\n\u001b[1;32m   2989\u001b[0m     name,\n\u001b[1;32m   2990\u001b[0m     con,\n\u001b[1;32m   2991\u001b[0m     schema\u001b[39m=\u001b[39;49mschema,\n\u001b[1;32m   2992\u001b[0m     if_exists\u001b[39m=\u001b[39;49mif_exists,\n\u001b[1;32m   2993\u001b[0m     index\u001b[39m=\u001b[39;49mindex,\n\u001b[1;32m   2994\u001b[0m     index_label\u001b[39m=\u001b[39;49mindex_label,\n\u001b[1;32m   2995\u001b[0m     chunksize\u001b[39m=\u001b[39;49mchunksize,\n\u001b[1;32m   2996\u001b[0m     dtype\u001b[39m=\u001b[39;49mdtype,\n\u001b[1;32m   2997\u001b[0m     method\u001b[39m=\u001b[39;49mmethod,\n\u001b[1;32m   2998\u001b[0m )\n",
      "File \u001b[0;32m~/miniconda3/envs/hybridization_bw_241/lib/python3.9/site-packages/pandas/io/sql.py:695\u001b[0m, in \u001b[0;36mto_sql\u001b[0;34m(frame, name, con, schema, if_exists, index, index_label, chunksize, dtype, method, engine, **engine_kwargs)\u001b[0m\n\u001b[1;32m    690\u001b[0m \u001b[39melif\u001b[39;00m \u001b[39mnot\u001b[39;00m \u001b[39misinstance\u001b[39m(frame, DataFrame):\n\u001b[1;32m    691\u001b[0m     \u001b[39mraise\u001b[39;00m \u001b[39mNotImplementedError\u001b[39;00m(\n\u001b[1;32m    692\u001b[0m         \u001b[39m\"\u001b[39m\u001b[39m'\u001b[39m\u001b[39mframe\u001b[39m\u001b[39m'\u001b[39m\u001b[39m argument should be either a Series or a DataFrame\u001b[39m\u001b[39m\"\u001b[39m\n\u001b[1;32m    693\u001b[0m     )\n\u001b[0;32m--> 695\u001b[0m \u001b[39mreturn\u001b[39;00m pandas_sql\u001b[39m.\u001b[39;49mto_sql(\n\u001b[1;32m    696\u001b[0m     frame,\n\u001b[1;32m    697\u001b[0m     name,\n\u001b[1;32m    698\u001b[0m     if_exists\u001b[39m=\u001b[39;49mif_exists,\n\u001b[1;32m    699\u001b[0m     index\u001b[39m=\u001b[39;49mindex,\n\u001b[1;32m    700\u001b[0m     index_label\u001b[39m=\u001b[39;49mindex_label,\n\u001b[1;32m    701\u001b[0m     schema\u001b[39m=\u001b[39;49mschema,\n\u001b[1;32m    702\u001b[0m     chunksize\u001b[39m=\u001b[39;49mchunksize,\n\u001b[1;32m    703\u001b[0m     dtype\u001b[39m=\u001b[39;49mdtype,\n\u001b[1;32m    704\u001b[0m     method\u001b[39m=\u001b[39;49mmethod,\n\u001b[1;32m    705\u001b[0m     engine\u001b[39m=\u001b[39;49mengine,\n\u001b[1;32m    706\u001b[0m     \u001b[39m*\u001b[39;49m\u001b[39m*\u001b[39;49mengine_kwargs,\n\u001b[1;32m    707\u001b[0m )\n",
      "File \u001b[0;32m~/miniconda3/envs/hybridization_bw_241/lib/python3.9/site-packages/pandas/io/sql.py:2187\u001b[0m, in \u001b[0;36mSQLiteDatabase.to_sql\u001b[0;34m(self, frame, name, if_exists, index, index_label, schema, chunksize, dtype, method, **kwargs)\u001b[0m\n\u001b[1;32m   2176\u001b[0m             \u001b[39mraise\u001b[39;00m \u001b[39mValueError\u001b[39;00m(\u001b[39mf\u001b[39m\u001b[39m\"\u001b[39m\u001b[39m{\u001b[39;00mcol\u001b[39m}\u001b[39;00m\u001b[39m (\u001b[39m\u001b[39m{\u001b[39;00mmy_type\u001b[39m}\u001b[39;00m\u001b[39m) not a string\u001b[39m\u001b[39m\"\u001b[39m)\n\u001b[1;32m   2178\u001b[0m table \u001b[39m=\u001b[39m SQLiteTable(\n\u001b[1;32m   2179\u001b[0m     name,\n\u001b[1;32m   2180\u001b[0m     \u001b[39mself\u001b[39m,\n\u001b[0;32m   (...)\u001b[0m\n\u001b[1;32m   2185\u001b[0m     dtype\u001b[39m=\u001b[39mdtype,\n\u001b[1;32m   2186\u001b[0m )\n\u001b[0;32m-> 2187\u001b[0m table\u001b[39m.\u001b[39;49mcreate()\n\u001b[1;32m   2188\u001b[0m \u001b[39mreturn\u001b[39;00m table\u001b[39m.\u001b[39minsert(chunksize, method)\n",
      "File \u001b[0;32m~/miniconda3/envs/hybridization_bw_241/lib/python3.9/site-packages/pandas/io/sql.py:838\u001b[0m, in \u001b[0;36mSQLTable.create\u001b[0;34m(self)\u001b[0m\n\u001b[1;32m    836\u001b[0m         \u001b[39mraise\u001b[39;00m \u001b[39mValueError\u001b[39;00m(\u001b[39mf\u001b[39m\u001b[39m\"\u001b[39m\u001b[39m'\u001b[39m\u001b[39m{\u001b[39;00m\u001b[39mself\u001b[39m\u001b[39m.\u001b[39mif_exists\u001b[39m}\u001b[39;00m\u001b[39m'\u001b[39m\u001b[39m is not valid for if_exists\u001b[39m\u001b[39m\"\u001b[39m)\n\u001b[1;32m    837\u001b[0m \u001b[39melse\u001b[39;00m:\n\u001b[0;32m--> 838\u001b[0m     \u001b[39mself\u001b[39;49m\u001b[39m.\u001b[39;49m_execute_create()\n",
      "File \u001b[0;32m~/miniconda3/envs/hybridization_bw_241/lib/python3.9/site-packages/pandas/io/sql.py:1871\u001b[0m, in \u001b[0;36mSQLiteTable._execute_create\u001b[0;34m(self)\u001b[0m\n\u001b[1;32m   1869\u001b[0m \u001b[39mwith\u001b[39;00m \u001b[39mself\u001b[39m\u001b[39m.\u001b[39mpd_sql\u001b[39m.\u001b[39mrun_transaction() \u001b[39mas\u001b[39;00m conn:\n\u001b[1;32m   1870\u001b[0m     \u001b[39mfor\u001b[39;00m stmt \u001b[39min\u001b[39;00m \u001b[39mself\u001b[39m\u001b[39m.\u001b[39mtable:\n\u001b[0;32m-> 1871\u001b[0m         conn\u001b[39m.\u001b[39;49mexecute(stmt)\n",
      "\u001b[0;31mOperationalError\u001b[0m: duplicate column name: id"
     ]
    }
   ],
   "source": [
    "parser.ecospold_to_Leontief(\n",
    "    fileformats = 'Pandas',\n",
    "    with_absolute_flows=True\n",
    ")"
   ]
  },
  {
   "cell_type": "markdown",
   "metadata": {},
   "source": [
    "#### 1.1.2.2. clean up temporary files\n",
    "\n",
    "unfortunately, `ecospold2matrix` creates lots of files (`.log, .db`) where the output directory can be not set. they are not cleaned up automatically. they might interfere with repeated runs of the code. this is why we must clean up these files."
   ]
  },
  {
   "cell_type": "code",
   "execution_count": null,
   "metadata": {},
   "outputs": [],
   "source": [
    "def delete_e2m_files(list_string: list) -> None:\n",
    "    for i in list_string:\n",
    "        !rm -rf $i\n",
    "    pass"
   ]
  },
  {
   "cell_type": "code",
   "execution_count": null,
   "metadata": {},
   "outputs": [],
   "source": [
    "delete_e2m_files(\n",
    "        [\n",
    "            tmp_dir_e2m,\n",
    "            tmp_pattern_e2m,\n",
    "        ]\n",
    ")"
   ]
  }
 ],
 "metadata": {
  "kernelspec": {
   "display_name": "Python 3.9.13 ('hybridization_bw_241': conda)",
   "language": "python",
   "name": "python3"
  },
  "language_info": {
   "codemirror_mode": {
    "name": "ipython",
    "version": 3
   },
   "file_extension": ".py",
   "mimetype": "text/x-python",
   "name": "python",
   "nbconvert_exporter": "python",
   "pygments_lexer": "ipython3",
   "version": "3.9.13"
  },
  "orig_nbformat": 4,
  "vscode": {
   "interpreter": {
    "hash": "3f01dd12f3c6007c4b1c7525c6a6a32617ed1ff99e6a4746d26d179c79c5c20e"
   }
  }
 },
 "nbformat": 4,
 "nbformat_minor": 2
}
