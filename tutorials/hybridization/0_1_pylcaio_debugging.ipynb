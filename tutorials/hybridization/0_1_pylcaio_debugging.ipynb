{
 "cells": [
  {
   "cell_type": "markdown",
   "metadata": {},
   "source": [
    "## 0.0. setup\n",
    "\n",
    "1. follow the setup instructions in `1_0_hybridization_setup.ipynb`\n",
    "\n",
    "## 0.1. imports\n",
    "### 0.1.1. regular imports"
   ]
  },
  {
   "cell_type": "code",
   "execution_count": 1,
   "metadata": {},
   "outputs": [],
   "source": [
    "# i/o\n",
    "import sys\n",
    "import os\n",
    "from pathlib import Path\n",
    "import gzip\n",
    "import pickle\n",
    "# os specific settings\n",
    "import platform\n",
    "# configuration\n",
    "import yaml\n",
    "# lca\n",
    "import ecospold2matrix as e2m\n",
    "import pymrio\n",
    "#import brightway2 as bw\n",
    "# type hints\n",
    "from ecospold2matrix import ecospold2matrix\n",
    "from pymrio import IOSystem\n",
    "# data science\n",
    "import pandas as pd\n",
    "# deep copy\n",
    "import copy"
   ]
  },
  {
   "cell_type": "markdown",
   "metadata": {},
   "source": [
    "### 0.1.3. load `pylcaio`"
   ]
  },
  {
   "cell_type": "code",
   "execution_count": 2,
   "metadata": {},
   "outputs": [
    {
     "name": "stdout",
     "output_type": "stream",
     "text": [
      "Using environment variable BRIGHTWAY2_DIR for data directory:\n",
      "/home/weinold/bw_data\n"
     ]
    }
   ],
   "source": [
    "sys.path.append(os.path.join(Path.home(), 'pylcaio', 'src')) # required for local import of pylcaio\n",
    "import pylcaio"
   ]
  },
  {
   "cell_type": "markdown",
   "metadata": {},
   "source": [
    "## 0.2. file paths\n",
    "### 0.2.1. directories"
   ]
  },
  {
   "cell_type": "code",
   "execution_count": 3,
   "metadata": {},
   "outputs": [],
   "source": [
    "%%capture\n",
    "print(path_dir_databases_pickle := os.path.join(Path.home(), 'hybridization_data/databases_pickle'))\n",
    "print(path_dir_databases_hybrid := os.path.join(Path.home(), 'hybridization_data/databases_hybrid'))"
   ]
  },
  {
   "cell_type": "markdown",
   "metadata": {},
   "source": [
    "### 0.2.2. files"
   ]
  },
  {
   "cell_type": "code",
   "execution_count": 4,
   "metadata": {},
   "outputs": [],
   "source": [
    "%%capture\n",
    "# Exiobase\n",
    "print(path_file_exiobase := os.path.join(path_dir_databases_pickle, 'exiobase_monetary_pxp_2012.pickle'))\n",
    "# Ecoinvent\n",
    "print(path_file_ecoinvent := os.path.join(path_dir_databases_pickle, 'ecoinvent_3_5_cutoffPandas_symmNorm.gz.pickle'))\n",
    "# Hybrid\n",
    "print(name_file_hybrid := 'hybrid_ecoinvent_3_5_exiobase_monetary_pxp_2012.pickle')\n",
    "print(path_file_hybrid := os.path.join(path_dir_databases_hybrid, name_file_hybrid))"
   ]
  },
  {
   "cell_type": "markdown",
   "metadata": {},
   "source": [
    "## 1.1. debugging/investigation"
   ]
  },
  {
   "cell_type": "code",
   "execution_count": 5,
   "metadata": {},
   "outputs": [],
   "source": [
    "analysis_object = pylcaio.Analysis(path_file_hybrid)"
   ]
  },
  {
   "cell_type": "code",
   "execution_count": 6,
   "metadata": {},
   "outputs": [
    {
     "name": "stdout",
     "output_type": "stream",
     "text": [
      "/home/weinold/hybridization_data/databases_raw\n",
      "/home/weinold/hybridization_data/databases_raw/ecoinvent-3.5-cutoff/datasets/\n"
     ]
    }
   ],
   "source": [
    "print(path_dir_databases_raw := os.path.join(Path.home(), 'hybridization_data/databases_raw'))\n",
    "print(path_dir_ecoinvent_input := os.path.join(path_dir_databases_raw, 'ecoinvent-3.5-cutoff/datasets/'))"
   ]
  },
  {
   "cell_type": "code",
   "execution_count": 8,
   "metadata": {},
   "outputs": [
    {
     "name": "stdout",
     "output_type": "stream",
     "text": [
      "Biosphere database already present!!! No setup is needed\n",
      "Extracting XML data from 16022 datasets\n",
      "Extracted 16022 datasets in 8.38 seconds\n",
      "Applying strategy: normalize_units\n",
      "Applying strategy: update_ecoinvent_locations\n",
      "Applying strategy: remove_zero_amount_coproducts\n",
      "Applying strategy: remove_zero_amount_inputs_with_no_activity\n",
      "Applying strategy: remove_unnamed_parameters\n",
      "Applying strategy: es2_assign_only_product_with_amount_as_reference_product\n",
      "Applying strategy: assign_single_product_as_activity\n",
      "Applying strategy: create_composite_code\n",
      "Applying strategy: drop_unspecified_subcategories\n",
      "Applying strategy: fix_ecoinvent_flows_pre35\n",
      "Applying strategy: drop_temporary_outdated_biosphere_flows\n",
      "Applying strategy: link_biosphere_by_flow_uuid\n",
      "Applying strategy: link_internal_technosphere_by_composite_code\n",
      "Applying strategy: delete_exchanges_missing_activity\n",
      "Applying strategy: delete_ghost_exchanges\n",
      "Applying strategy: remove_uncertainty_from_negative_loss_exchanges\n",
      "Applying strategy: fix_unreasonably_high_lognormal_uncertainties\n",
      "Applying strategy: set_lognormal_loc_value\n",
      "Applying strategy: convert_activity_parameters_to_list\n",
      "Applying strategy: add_cpc_classification_from_single_reference_product\n",
      "Applying strategy: delete_none_synonyms\n",
      "Applied 21 strategies in 3.78 seconds\n",
      "Warning: No valid output stream.\n"
     ]
    },
    {
     "ename": "InvalidExchange",
     "evalue": "",
     "output_type": "error",
     "traceback": [
      "\u001b[0;31m---------------------------------------------------------------------------\u001b[0m",
      "\u001b[0;31mInvalidExchange\u001b[0m                           Traceback (most recent call last)",
      "Cell \u001b[0;32mIn [8], line 1\u001b[0m\n\u001b[0;32m----> 1\u001b[0m analysis_object\u001b[39m.\u001b[39;49mexport_to_brightway2(\n\u001b[1;32m      2\u001b[0m     bw2_project_name \u001b[39m=\u001b[39;49m \u001b[39m'\u001b[39;49m\u001b[39mmy_project\u001b[39;49m\u001b[39m'\u001b[39;49m,\n\u001b[1;32m      3\u001b[0m     created_database_name \u001b[39m=\u001b[39;49m \u001b[39m'\u001b[39;49m\u001b[39mhybrid-ecoinvent\u001b[39;49m\u001b[39m'\u001b[39;49m,\n\u001b[1;32m      4\u001b[0m     path_to_ecoinvent_ecospold_datasets \u001b[39m=\u001b[39;49m path_dir_ecoinvent_input,\n\u001b[1;32m      5\u001b[0m     aggregated \u001b[39m=\u001b[39;49m \u001b[39mFalse\u001b[39;49;00m\n\u001b[1;32m      6\u001b[0m )\n",
      "File \u001b[0;32m~/pylcaio/src/pylcaio.py:2174\u001b[0m, in \u001b[0;36mAnalysis.export_to_brightway2\u001b[0;34m(self, bw2_project_name, created_database_name, path_to_ecoinvent_ecospold_datasets, aggregated)\u001b[0m\n\u001b[1;32m   2172\u001b[0m eco_importer \u001b[39m=\u001b[39m SingleOutputEcospold2Importer(path_to_ecoinvent_ecospold_datasets, \u001b[39m'\u001b[39m\u001b[39mhybrid-ecoinvent\u001b[39m\u001b[39m'\u001b[39m)\n\u001b[1;32m   2173\u001b[0m eco_importer\u001b[39m.\u001b[39mapply_strategies()\n\u001b[0;32m-> 2174\u001b[0m eco_importer\u001b[39m.\u001b[39;49mwrite_database()\n\u001b[1;32m   2176\u001b[0m \u001b[39mif\u001b[39;00m \u001b[39mnot\u001b[39;00m aggregated:\n\u001b[1;32m   2177\u001b[0m     \u001b[39m# importing exiobase into the project\u001b[39;00m\n\u001b[1;32m   2178\u001b[0m     \u001b[39mself\u001b[39m\u001b[39m.\u001b[39mimport_exiobase_into_brightway2()\n",
      "File \u001b[0;32m~/miniconda3/envs/hybridization/lib/python3.10/site-packages/bw2io/importers/base_lci.py:269\u001b[0m, in \u001b[0;36mLCIImporter.write_database\u001b[0;34m(self, data, delete_existing, backend, activate_parameters, **kwargs)\u001b[0m\n\u001b[1;32m    266\u001b[0m \u001b[39mself\u001b[39m\u001b[39m.\u001b[39mwrite_database_parameters(activate_parameters, delete_existing)\n\u001b[1;32m    268\u001b[0m existing\u001b[39m.\u001b[39mupdate(data)\n\u001b[0;32m--> 269\u001b[0m db\u001b[39m.\u001b[39;49mwrite(existing)\n\u001b[1;32m    271\u001b[0m \u001b[39mif\u001b[39;00m activate_parameters:\n\u001b[1;32m    272\u001b[0m     \u001b[39mself\u001b[39m\u001b[39m.\u001b[39m_write_activity_parameters(activity_parameters)\n",
      "File \u001b[0;32m~/miniconda3/envs/hybridization/lib/python3.10/site-packages/bw2data/project.py:358\u001b[0m, in \u001b[0;36mwritable_project\u001b[0;34m(wrapped, instance, args, kwargs)\u001b[0m\n\u001b[1;32m    356\u001b[0m \u001b[39mif\u001b[39;00m projects\u001b[39m.\u001b[39mread_only:\n\u001b[1;32m    357\u001b[0m     \u001b[39mraise\u001b[39;00m ReadOnlyProject(READ_ONLY_PROJECT)\n\u001b[0;32m--> 358\u001b[0m \u001b[39mreturn\u001b[39;00m wrapped(\u001b[39m*\u001b[39;49margs, \u001b[39m*\u001b[39;49m\u001b[39m*\u001b[39;49mkwargs)\n",
      "File \u001b[0;32m~/miniconda3/envs/hybridization/lib/python3.10/site-packages/bw2data/backends/peewee/database.py:260\u001b[0m, in \u001b[0;36mSQLiteBackend.write\u001b[0;34m(self, data, process)\u001b[0m\n\u001b[1;32m    258\u001b[0m \u001b[39mif\u001b[39;00m data:\n\u001b[1;32m    259\u001b[0m     \u001b[39mtry\u001b[39;00m:\n\u001b[0;32m--> 260\u001b[0m         \u001b[39mself\u001b[39;49m\u001b[39m.\u001b[39;49m_efficient_write_many_data(data)\n\u001b[1;32m    261\u001b[0m     \u001b[39mexcept\u001b[39;00m:\n\u001b[1;32m    262\u001b[0m         \u001b[39m# Purge all data from database, then reraise\u001b[39;00m\n\u001b[1;32m    263\u001b[0m         \u001b[39mself\u001b[39m\u001b[39m.\u001b[39mdelete(warn\u001b[39m=\u001b[39m\u001b[39mFalse\u001b[39;00m)\n",
      "File \u001b[0;32m~/miniconda3/envs/hybridization/lib/python3.10/site-packages/bw2data/backends/peewee/database.py:204\u001b[0m, in \u001b[0;36mSQLiteBackend._efficient_write_many_data\u001b[0;34m(self, data, indices)\u001b[0m\n\u001b[1;32m    197\u001b[0m     \u001b[39mself\u001b[39m\u001b[39m.\u001b[39mpbar \u001b[39m=\u001b[39m pyprind\u001b[39m.\u001b[39mProgBar(\n\u001b[1;32m    198\u001b[0m         \u001b[39mlen\u001b[39m(data),\n\u001b[1;32m    199\u001b[0m         title\u001b[39m=\u001b[39m\u001b[39m\"\u001b[39m\u001b[39mWriting activities to SQLite3 database:\u001b[39m\u001b[39m\"\u001b[39m,\n\u001b[1;32m    200\u001b[0m         monitor\u001b[39m=\u001b[39m\u001b[39mTrue\u001b[39;00m\n\u001b[1;32m    201\u001b[0m     )\n\u001b[1;32m    203\u001b[0m \u001b[39mfor\u001b[39;00m index, (key, ds) \u001b[39min\u001b[39;00m \u001b[39menumerate\u001b[39m(data\u001b[39m.\u001b[39mitems()):\n\u001b[0;32m--> 204\u001b[0m     exchanges, activities \u001b[39m=\u001b[39m \u001b[39mself\u001b[39;49m\u001b[39m.\u001b[39;49m_efficient_write_dataset(\n\u001b[1;32m    205\u001b[0m         index, key, ds, exchanges, activities\n\u001b[1;32m    206\u001b[0m     )\n\u001b[1;32m    208\u001b[0m \u001b[39mif\u001b[39;00m \u001b[39mnot\u001b[39;00m \u001b[39mgetattr\u001b[39m(config, \u001b[39m\"\u001b[39m\u001b[39mis_test\u001b[39m\u001b[39m\"\u001b[39m, \u001b[39mNone\u001b[39;00m):\n\u001b[1;32m    209\u001b[0m     \u001b[39mprint\u001b[39m(\u001b[39mself\u001b[39m\u001b[39m.\u001b[39mpbar)\n",
      "File \u001b[0;32m~/miniconda3/envs/hybridization/lib/python3.10/site-packages/bw2data/backends/peewee/database.py:156\u001b[0m, in \u001b[0;36mSQLiteBackend._efficient_write_dataset\u001b[0;34m(self, index, key, ds, exchanges, activities)\u001b[0m\n\u001b[1;32m    154\u001b[0m \u001b[39mfor\u001b[39;00m exchange \u001b[39min\u001b[39;00m ds\u001b[39m.\u001b[39mget(\u001b[39m'\u001b[39m\u001b[39mexchanges\u001b[39m\u001b[39m'\u001b[39m, []):\n\u001b[1;32m    155\u001b[0m     \u001b[39mif\u001b[39;00m \u001b[39m'\u001b[39m\u001b[39minput\u001b[39m\u001b[39m'\u001b[39m \u001b[39mnot\u001b[39;00m \u001b[39min\u001b[39;00m exchange \u001b[39mor\u001b[39;00m \u001b[39m'\u001b[39m\u001b[39mamount\u001b[39m\u001b[39m'\u001b[39m \u001b[39mnot\u001b[39;00m \u001b[39min\u001b[39;00m exchange:\n\u001b[0;32m--> 156\u001b[0m         \u001b[39mraise\u001b[39;00m InvalidExchange\n\u001b[1;32m    157\u001b[0m     \u001b[39mif\u001b[39;00m \u001b[39m'\u001b[39m\u001b[39mtype\u001b[39m\u001b[39m'\u001b[39m \u001b[39mnot\u001b[39;00m \u001b[39min\u001b[39;00m exchange:\n\u001b[1;32m    158\u001b[0m         \u001b[39mraise\u001b[39;00m UntypedExchange\n",
      "\u001b[0;31mInvalidExchange\u001b[0m: "
     ]
    }
   ],
   "source": [
    "analysis_object.export_to_brightway2(\n",
    "    bw2_project_name = 'my_project',\n",
    "    created_database_name = 'hybrid-ecoinvent',\n",
    "    path_to_ecoinvent_ecospold_datasets = path_dir_ecoinvent_input,\n",
    "    aggregated = False\n",
    ")"
   ]
  }
 ],
 "metadata": {
  "kernelspec": {
   "display_name": "Python 3.10.6 ('hybridization': conda)",
   "language": "python",
   "name": "python3"
  },
  "language_info": {
   "codemirror_mode": {
    "name": "ipython",
    "version": 3
   },
   "file_extension": ".py",
   "mimetype": "text/x-python",
   "name": "python",
   "nbconvert_exporter": "python",
   "pygments_lexer": "ipython3",
   "version": "3.8.13"
  },
  "orig_nbformat": 4,
  "vscode": {
   "interpreter": {
    "hash": "238e8c5baa9133d16a7cbc63d75f9f668e90e2677c7196b282498abda24b1689"
   }
  }
 },
 "nbformat": 4,
 "nbformat_minor": 2
}
