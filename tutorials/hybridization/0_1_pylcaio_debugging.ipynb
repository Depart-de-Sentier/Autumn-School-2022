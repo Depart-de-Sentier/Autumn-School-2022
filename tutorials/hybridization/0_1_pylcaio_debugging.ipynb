{
 "cells": [
  {
   "cell_type": "markdown",
   "metadata": {},
   "source": [
    "## 0.0. setup\n",
    "\n",
    "1. follow the setup instructions in `1_0_hybridization_setup.ipynb`\n",
    "\n",
    "## 0.1. imports\n",
    "### 0.1.1. regular imports"
   ]
  },
  {
   "cell_type": "code",
   "execution_count": 1,
   "metadata": {},
   "outputs": [],
   "source": [
    "# i/o\n",
    "import sys\n",
    "import os\n",
    "from pathlib import Path\n",
    "import gzip\n",
    "import pickle\n",
    "# os specific settings\n",
    "import platform\n",
    "# configuration\n",
    "import yaml\n",
    "# lca\n",
    "import ecospold2matrix as e2m\n",
    "import pymrio\n",
    "#import brightway2 as bw\n",
    "# type hints\n",
    "from ecospold2matrix import ecospold2matrix\n",
    "from pymrio import IOSystem\n",
    "# data science\n",
    "import pandas as pd\n",
    "# deep copy\n",
    "import copy"
   ]
  },
  {
   "cell_type": "markdown",
   "metadata": {},
   "source": [
    "### 0.1.3. load `pylcaio`"
   ]
  },
  {
   "cell_type": "code",
   "execution_count": 2,
   "metadata": {},
   "outputs": [
    {
     "name": "stdout",
     "output_type": "stream",
     "text": [
      "Using environment variable BRIGHTWAY2_DIR for data directory:\n",
      "/home/weinold/bw_data\n"
     ]
    }
   ],
   "source": [
    "sys.path.append(os.path.join(Path.home(), 'pylcaio', 'src')) # required for local import of pylcaio\n",
    "import pylcaio"
   ]
  },
  {
   "cell_type": "markdown",
   "metadata": {},
   "source": [
    "## 0.2. file paths\n",
    "### 0.2.1. directories"
   ]
  },
  {
   "cell_type": "code",
   "execution_count": 3,
   "metadata": {},
   "outputs": [],
   "source": [
    "%%capture\n",
    "print(path_dir_databases_raw := os.path.join(Path.home(), 'hybridization_data/databases_raw'))\n",
    "print(path_dir_databases_pickle := os.path.join(Path.home(), 'hybridization_data/databases_pickle'))\n",
    "print(path_dir_databases_hybrid := os.path.join(Path.home(), 'hybridization_data/databases_hybrid'))"
   ]
  },
  {
   "cell_type": "markdown",
   "metadata": {},
   "source": [
    "### 0.2.2. files"
   ]
  },
  {
   "cell_type": "code",
   "execution_count": 4,
   "metadata": {},
   "outputs": [],
   "source": [
    "%%capture\n",
    "# Exiobase\n",
    "print(path_file_exiobase := os.path.join(path_dir_databases_pickle, 'exiobase_monetary_pxp_2012.pickle'))\n",
    "# Ecoinvent\n",
    "print(path_file_ecoinvent := os.path.join(path_dir_databases_pickle, 'ecoinvent_3_5_cutoffPandas_symmNorm.gz.pickle'))\n",
    "print(path_dir_ecoinvent_input := os.path.join(path_dir_databases_pickle, 'ecoinvent-3.5-cutoff/datasets'))\n",
    "# Hybrid\n",
    "print(name_file_hybrid := 'hybrid_ecoinvent_3_5_exiobase_monetary_pxp_2012.pickle')\n",
    "print(path_file_hybrid := os.path.join(path_dir_databases_hybrid, name_file_hybrid))"
   ]
  },
  {
   "cell_type": "markdown",
   "metadata": {},
   "source": [
    "## 1.1. debugging/investigation"
   ]
  },
  {
   "cell_type": "code",
   "execution_count": 5,
   "metadata": {},
   "outputs": [],
   "source": [
    "analysis_object = pylcaio.Analysis(path_file_hybrid)"
   ]
  },
  {
   "cell_type": "code",
   "execution_count": 8,
   "metadata": {},
   "outputs": [
    {
     "name": "stdout",
     "output_type": "stream",
     "text": [
      "Biosphere database already present!!! No setup is needed\n"
     ]
    },
    {
     "ename": "AssertionError",
     "evalue": "",
     "output_type": "error",
     "traceback": [
      "\u001b[0;31m---------------------------------------------------------------------------\u001b[0m",
      "\u001b[0;31mAssertionError\u001b[0m                            Traceback (most recent call last)",
      "\u001b[1;32m/home/weinold/github/Autumn-School-2022/tutorials/hybridization/0_1_pylcaio_debugging.ipynb Cell 13\u001b[0m in \u001b[0;36m<cell line: 1>\u001b[0;34m()\u001b[0m\n\u001b[0;32m----> <a href='vscode-notebook-cell://ssh-remote%2Bhetzner/home/weinold/github/Autumn-School-2022/tutorials/hybridization/0_1_pylcaio_debugging.ipynb#X14sdnNjb2RlLXJlbW90ZQ%3D%3D?line=0'>1</a>\u001b[0m analysis_object\u001b[39m.\u001b[39;49mexport_to_brightway2(\n\u001b[1;32m      <a href='vscode-notebook-cell://ssh-remote%2Bhetzner/home/weinold/github/Autumn-School-2022/tutorials/hybridization/0_1_pylcaio_debugging.ipynb#X14sdnNjb2RlLXJlbW90ZQ%3D%3D?line=1'>2</a>\u001b[0m     bw2_project_name \u001b[39m=\u001b[39;49m \u001b[39m'\u001b[39;49m\u001b[39mapples\u001b[39;49m\u001b[39m'\u001b[39;49m,\n\u001b[1;32m      <a href='vscode-notebook-cell://ssh-remote%2Bhetzner/home/weinold/github/Autumn-School-2022/tutorials/hybridization/0_1_pylcaio_debugging.ipynb#X14sdnNjb2RlLXJlbW90ZQ%3D%3D?line=2'>3</a>\u001b[0m     created_database_name \u001b[39m=\u001b[39;49m \u001b[39m'\u001b[39;49m\u001b[39mhybrid-ecoinvent\u001b[39;49m\u001b[39m'\u001b[39;49m,\n\u001b[1;32m      <a href='vscode-notebook-cell://ssh-remote%2Bhetzner/home/weinold/github/Autumn-School-2022/tutorials/hybridization/0_1_pylcaio_debugging.ipynb#X14sdnNjb2RlLXJlbW90ZQ%3D%3D?line=3'>4</a>\u001b[0m     path_to_ecoinvent_ecospold_datasets \u001b[39m=\u001b[39;49m path_dir_ecoinvent_input,\n\u001b[1;32m      <a href='vscode-notebook-cell://ssh-remote%2Bhetzner/home/weinold/github/Autumn-School-2022/tutorials/hybridization/0_1_pylcaio_debugging.ipynb#X14sdnNjb2RlLXJlbW90ZQ%3D%3D?line=4'>5</a>\u001b[0m     aggregated \u001b[39m=\u001b[39;49m \u001b[39mTrue\u001b[39;49;00m\n\u001b[1;32m      <a href='vscode-notebook-cell://ssh-remote%2Bhetzner/home/weinold/github/Autumn-School-2022/tutorials/hybridization/0_1_pylcaio_debugging.ipynb#X14sdnNjb2RlLXJlbW90ZQ%3D%3D?line=5'>6</a>\u001b[0m )\n",
      "File \u001b[0;32m~/pylcaio/src/pylcaio.py:2177\u001b[0m, in \u001b[0;36mAnalysis.export_to_brightway2\u001b[0;34m(self, bw2_project_name, created_database_name, path_to_ecoinvent_ecospold_datasets, aggregated)\u001b[0m\n\u001b[1;32m   2172\u001b[0m BW2Package\u001b[39m.\u001b[39mimport_file(pkg_resources\u001b[39m.\u001b[39mresource_stream(\u001b[39m__name__\u001b[39m, \u001b[39m'\u001b[39m\u001b[39m/Data/for_export_in_brightway2/\u001b[39m\u001b[39m'\u001b[39m\n\u001b[1;32m   2173\u001b[0m                                                                \u001b[39m'\u001b[39m\u001b[39mlaurepatou-IMPACT-World-in-Brightway-d949b33/\u001b[39m\u001b[39m'\u001b[39m\n\u001b[1;32m   2174\u001b[0m                                                                \u001b[39m'\u001b[39m\u001b[39mBrightway_IW_damage_1_46_and_midpoint_1_28.bw2package\u001b[39m\u001b[39m'\u001b[39m))\n\u001b[1;32m   2176\u001b[0m \u001b[39m# importing hybrid-ecoinvent into the project\u001b[39;00m\n\u001b[0;32m-> 2177\u001b[0m eco_importer \u001b[39m=\u001b[39m SingleOutputEcospold2Importer(path_to_ecoinvent_ecospold_datasets, \u001b[39m'\u001b[39;49m\u001b[39mhybrid-ecoinvent\u001b[39;49m\u001b[39m'\u001b[39;49m)\n\u001b[1;32m   2178\u001b[0m eco_importer\u001b[39m.\u001b[39mapply_strategies()\n\u001b[1;32m   2179\u001b[0m eco_importer\u001b[39m.\u001b[39mwrite_database()\n",
      "File \u001b[0;32m~/miniconda3/envs/hybridization/lib/python3.8/site-packages/bw2io/importers/ecospold2.py:71\u001b[0m, in \u001b[0;36mSingleOutputEcospold2Importer.__init__\u001b[0;34m(self, dirpath, db_name, extractor, use_mp, signal)\u001b[0m\n\u001b[1;32m     69\u001b[0m start \u001b[39m=\u001b[39m time()\n\u001b[1;32m     70\u001b[0m \u001b[39mtry\u001b[39;00m:\n\u001b[0;32m---> 71\u001b[0m     \u001b[39mself\u001b[39m\u001b[39m.\u001b[39mdata \u001b[39m=\u001b[39m extractor\u001b[39m.\u001b[39;49mextract(dirpath, db_name, use_mp\u001b[39m=\u001b[39;49muse_mp)\n\u001b[1;32m     72\u001b[0m \u001b[39mexcept\u001b[39;00m \u001b[39mRuntimeError\u001b[39;00m \u001b[39mas\u001b[39;00m e:\n\u001b[1;32m     73\u001b[0m     \u001b[39mraise\u001b[39;00m MultiprocessingError(\n\u001b[1;32m     74\u001b[0m         \u001b[39m\"\u001b[39m\u001b[39mMultiprocessing error; re-run using `use_mp=False`\u001b[39m\u001b[39m\"\u001b[39m\n\u001b[1;32m     75\u001b[0m     )\u001b[39m.\u001b[39mwith_traceback(e\u001b[39m.\u001b[39m__traceback__)\n",
      "File \u001b[0;32m~/miniconda3/envs/hybridization/lib/python3.8/site-packages/bw2io/extractors/ecospold2.py:61\u001b[0m, in \u001b[0;36mEcospold2DataExtractor.extract\u001b[0;34m(cls, dirpath, db_name, use_mp)\u001b[0m\n\u001b[1;32m     59\u001b[0m \u001b[39m@classmethod\u001b[39m\n\u001b[1;32m     60\u001b[0m \u001b[39mdef\u001b[39;00m \u001b[39mextract\u001b[39m(\u001b[39mcls\u001b[39m, dirpath, db_name, use_mp\u001b[39m=\u001b[39m\u001b[39mTrue\u001b[39;00m):\n\u001b[0;32m---> 61\u001b[0m     \u001b[39massert\u001b[39;00m os\u001b[39m.\u001b[39mpath\u001b[39m.\u001b[39mexists(dirpath)\n\u001b[1;32m     62\u001b[0m     \u001b[39mif\u001b[39;00m os\u001b[39m.\u001b[39mpath\u001b[39m.\u001b[39misdir(dirpath):\n\u001b[1;32m     63\u001b[0m         filelist \u001b[39m=\u001b[39m [\n\u001b[1;32m     64\u001b[0m             filename\n\u001b[1;32m     65\u001b[0m             \u001b[39mfor\u001b[39;00m filename \u001b[39min\u001b[39;00m os\u001b[39m.\u001b[39mlistdir(dirpath)\n\u001b[1;32m     66\u001b[0m             \u001b[39mif\u001b[39;00m os\u001b[39m.\u001b[39mpath\u001b[39m.\u001b[39misfile(os\u001b[39m.\u001b[39mpath\u001b[39m.\u001b[39mjoin(dirpath, filename))\n\u001b[1;32m     67\u001b[0m             \u001b[39mand\u001b[39;00m filename\u001b[39m.\u001b[39msplit(\u001b[39m\"\u001b[39m\u001b[39m.\u001b[39m\u001b[39m\"\u001b[39m)[\u001b[39m-\u001b[39m\u001b[39m1\u001b[39m]\u001b[39m.\u001b[39mlower() \u001b[39m==\u001b[39m \u001b[39m\"\u001b[39m\u001b[39mspold\u001b[39m\u001b[39m\"\u001b[39m\n\u001b[1;32m     68\u001b[0m         ]\n",
      "\u001b[0;31mAssertionError\u001b[0m: "
     ]
    }
   ],
   "source": [
    "analysis_object.export_to_brightway2(\n",
    "    bw2_project_name = 'apples',\n",
    "    created_database_name = 'hybrid-ecoinvent',\n",
    "    path_to_ecoinvent_ecospold_datasets = path_dir_ecoinvent_input,\n",
    "    aggregated = True\n",
    ")"
   ]
  }
 ],
 "metadata": {
  "kernelspec": {
   "display_name": "Python 3.10.6 ('hybridization': conda)",
   "language": "python",
   "name": "python3"
  },
  "language_info": {
   "codemirror_mode": {
    "name": "ipython",
    "version": 3
   },
   "file_extension": ".py",
   "mimetype": "text/x-python",
   "name": "python",
   "nbconvert_exporter": "python",
   "pygments_lexer": "ipython3",
   "version": "3.8.13"
  },
  "orig_nbformat": 4,
  "vscode": {
   "interpreter": {
    "hash": "238e8c5baa9133d16a7cbc63d75f9f668e90e2677c7196b282498abda24b1689"
   }
  }
 },
 "nbformat": 4,
 "nbformat_minor": 2
}
