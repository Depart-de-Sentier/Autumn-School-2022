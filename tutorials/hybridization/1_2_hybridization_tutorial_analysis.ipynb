{
 "cells": [
  {
   "cell_type": "markdown",
   "metadata": {},
   "source": [
    "## 0.0 setup\n",
    "\n",
    "1. follow the setup instructions in `1_0_hybridization_setup.ipynb`\n",
    "\n",
    "2. create directories and copy database files from the shared drive (`/srv/data/autumn_school/hybridization/`)"
   ]
  },
  {
   "cell_type": "code",
   "execution_count": 1,
   "metadata": {},
   "outputs": [],
   "source": [
    "!rm -rf ~/hybridization_data/databases_hybrid_from_shared_drive \n",
    "!mkdir -p ~/hybridization_data/databases_hybrid_from_shared_drive\n",
    "!mkdir -p ~/hybridization_data/databases_hybrid\n",
    "!cp -a /srv/data/autumn_school/hybridization/databases_hybrid/* ~/hybridization_data/databases_hybrid_from_shared_drive"
   ]
  },
  {
   "cell_type": "markdown",
   "metadata": {},
   "source": [
    "## 0.1. imports\n",
    "### 0.1.1. regular imports"
   ]
  },
  {
   "cell_type": "code",
   "execution_count": 2,
   "metadata": {},
   "outputs": [
    {
     "name": "stdout",
     "output_type": "stream",
     "text": [
      "Using environment variable BRIGHTWAY2_DIR for data directory:\n",
      "/home/weinold/bw_data\n"
     ]
    }
   ],
   "source": [
    "# i/o\n",
    "import sys\n",
    "import os\n",
    "from pathlib import Path\n",
    "import gzip\n",
    "import pickle\n",
    "# configuration\n",
    "import yaml\n",
    "# lca\n",
    "import brightway2 as bw\n",
    "import ecospold2matrix as e2m\n",
    "import pymrio\n",
    "# data science\n",
    "import pandas as pd"
   ]
  },
  {
   "cell_type": "markdown",
   "metadata": {},
   "source": [
    "### 0.1.2. local imports"
   ]
  },
  {
   "cell_type": "code",
   "execution_count": 3,
   "metadata": {},
   "outputs": [],
   "source": [
    "sys.path.append(os.path.join(Path.home(), 'pylcaio', 'src')) # required for local import of pylcaio\n",
    "import pylcaio"
   ]
  },
  {
   "cell_type": "markdown",
   "metadata": {},
   "source": [
    "## 0.2. file paths\n",
    "### 0.2.1. directories"
   ]
  },
  {
   "cell_type": "code",
   "execution_count": 4,
   "metadata": {},
   "outputs": [],
   "source": [
    "%%capture\n",
    "print(path_dir_databases_hybrid := os.path.join(Path.home(), 'hybridization_data/databases_hybrid'))\n",
    "print(path_dir_databases_hybrid_from_shared_drive := os.path.join(Path.home(), 'hybridization_data/databases_hybrid_from_shared_drive'))"
   ]
  },
  {
   "cell_type": "markdown",
   "metadata": {},
   "source": [
    "### 0.2.2. databases"
   ]
  },
  {
   "cell_type": "code",
   "execution_count": 5,
   "metadata": {},
   "outputs": [],
   "source": [
    "%%capture\n",
    "print(path_file_hybrid := os.path.join(path_dir_databases_hybrid, 'hybrid_ecoinvent_3_5_exiobase_monetary_pxp_2012.pickle'))\n",
    "print(path_file_hybrid_from_shared_drive := os.path.join(path_dir_databases_hybrid_from_shared_drive, 'pylcaio_class_instance_after_hybrid.pkl'))"
   ]
  },
  {
   "cell_type": "markdown",
   "metadata": {},
   "source": [
    "## 1.1. analysis"
   ]
  },
  {
   "cell_type": "code",
   "execution_count": 8,
   "metadata": {},
   "outputs": [],
   "source": [
    "Analysis = pylcaio.Analysis(path_file_hybrid)"
   ]
  }
 ],
 "metadata": {
  "kernelspec": {
   "display_name": "Python 3.10.6 ('hybridization': conda)",
   "language": "python",
   "name": "python3"
  },
  "language_info": {
   "codemirror_mode": {
    "name": "ipython",
    "version": 3
   },
   "file_extension": ".py",
   "mimetype": "text/x-python",
   "name": "python",
   "nbconvert_exporter": "python",
   "pygments_lexer": "ipython3",
   "version": "3.10.6"
  },
  "orig_nbformat": 4,
  "vscode": {
   "interpreter": {
    "hash": "238e8c5baa9133d16a7cbc63d75f9f668e90e2677c7196b282498abda24b1689"
   }
  }
 },
 "nbformat": 4,
 "nbformat_minor": 2
}
