{
 "cells": [
  {
   "cell_type": "markdown",
   "metadata": {},
   "source": [
    "## 0.0 setup\n",
    "\n",
    "follow the setup instructions in `1_0_hybridization_setup.ipynb`\n",
    "\n",
    "## 0.1. imports\n",
    "### 0.1.1. regular imports"
   ]
  },
  {
   "cell_type": "code",
   "execution_count": 1,
   "metadata": {},
   "outputs": [],
   "source": [
    "# i/o\n",
    "import sys\n",
    "import os\n",
    "from pathlib import Path\n",
    "import gzip\n",
    "import pickle\n",
    "# configuration\n",
    "import yaml\n",
    "# lca\n",
    "import ecospold2matrix as e2m\n",
    "import pymrio\n",
    "#import brightway2 as bw\n",
    "# type hints\n",
    "from ecospold2matrix import ecospold2matrix\n",
    "from pymrio import IOSystem\n",
    "# data science\n",
    "import pandas as pd\n",
    "# deep copy\n",
    "import copy"
   ]
  },
  {
   "cell_type": "markdown",
   "metadata": {},
   "source": [
    "### 0.1.2. local imports"
   ]
  },
  {
   "cell_type": "code",
   "execution_count": null,
   "metadata": {},
   "outputs": [],
   "source": [
    "path_pylcaio: str = '~/github/pylcaio/'\n",
    "sys.path.append(os.path.join(Path.home(), path_pylcaio)) # required for local import of pylcaio\n",
    "import pylcaio"
   ]
  },
  {
   "cell_type": "markdown",
   "metadata": {},
   "source": [
    "## 0.2. file paths\n",
    "### 0.2.1. directories"
   ]
  },
  {
   "cell_type": "code",
   "execution_count": 5,
   "metadata": {},
   "outputs": [],
   "source": [
    "%%capture\n",
    "# home directory\n",
    "print(path_dir_home := Path.home())\n",
    "# input directory\n",
    "print(path_dir_databases := os.path.join(path_dir_home, config['path_dir_databases']))\n",
    "# output directories\n",
    "print(path_dir_data := os.path.join(path_dir_home, config['path_dir_data']))\n",
    "print(path_dir_pylcaio := os.path.join(path_dir_home, path_dir_data, config['path_dir_pylcaio']))\n",
    "print(path_dir_pymrio := os.path.join(path_dir_home, path_dir_data, config['path_dir_pymrio']))\n",
    "print(path_dir_e2m := os.path.join(path_dir_home, path_dir_data, config['path_dir_e2m']))"
   ]
  },
  {
   "cell_type": "markdown",
   "metadata": {},
   "source": [
    "### 0.2.2. files"
   ]
  },
  {
   "cell_type": "code",
   "execution_count": 6,
   "metadata": {},
   "outputs": [],
   "source": [
    "%%capture\n",
    "# databases\n",
    "print(path_exiobase := os.path.join(path_dir_home, path_dir_databases, config['exiobase']))\n",
    "print(path_dir_ecoinvent := os.path.join(path_dir_home, path_dir_databases, config['ecoinvent']))\n",
    "# pylcaio output\n",
    "print(path_pylcaio_database_loader_class_instance := os.path.join(path_dir_pylcaio, config['pylcaio_database_loader_class_instance']))\n",
    "print(path_pylcaio_class_instance_before_hybrid := os.path.join(path_dir_pylcaio, config['pylcaio_class_instance_before_hybrid']))\n",
    "print(path_pylcaio_class_instance_after_hybrid := os.path.join(path_dir_pylcaio, config['pylcaio_class_instance_after_hybrid']))\n",
    "# pymrio output\n",
    "print(path_pymrio_class_instance := os.path.join(path_dir_pymrio, config['pymrio_class_instance']))"
   ]
  },
  {
   "cell_type": "code",
   "execution_count": null,
   "metadata": {},
   "outputs": [],
   "source": [
    "!mkdir -p $path_dir_data\n",
    "!mkdir -p $path_dir_e2m\n",
    "!mkdir -p $path_dir_ecoinvent && cp -ru /srv/data/ecoinvent-3.5-cutoff/* $path_dir_ecoinvent\n",
    "#!mkdir -p $path_exiobase && cp -ru /srv/data/exiobase_monetary_pxp/* $path_exiobase"
   ]
  },
  {
   "cell_type": "markdown",
   "metadata": {},
   "source": [
    "## 1.1. read dataframes created by `pymrio` and `ecospold2matrix`"
   ]
  },
  {
   "cell_type": "code",
   "execution_count": null,
   "metadata": {},
   "outputs": [],
   "source": [
    "with open(path_pymrio_class_instance, 'rb') as filestream:\n",
    "    exiobase: pymrio.core.mriosystem.IOSystem = pd.read_pickle(filestream)"
   ]
  },
  {
   "cell_type": "code",
   "execution_count": null,
   "metadata": {},
   "outputs": [],
   "source": [
    "if load_from_disk == True:\n",
    "    ecoinvent: dict = read_ecoinvent_pickle(path_file_e2m_pickle)"
   ]
  },
  {
   "cell_type": "markdown",
   "metadata": {},
   "source": [
    "### 2.1. main `pylcaio` functionality\n",
    "\n",
    "note that hardcopy might be necessary, because: XXX"
   ]
  },
  {
   "cell_type": "code",
   "execution_count": 19,
   "metadata": {},
   "outputs": [],
   "source": [
    "database_loader: pylcaio.DatabaseLoader  = pylcaio.DatabaseLoader(\n",
    "    lca_database_processed = ecoinvent,\n",
    "    io_database_processed = exiobase,\n",
    "    lca_database_name_and_version = 'ecoinvent3.5',\n",
    "    io_database_name_and_version = 'exiobase3')"
   ]
  },
  {
   "cell_type": "code",
   "execution_count": 14,
   "metadata": {},
   "outputs": [
    {
     "ename": "NameError",
     "evalue": "name 'path_pylcaio_database_loader_class_instance' is not defined",
     "output_type": "error",
     "traceback": [
      "\u001b[0;31m---------------------------------------------------------------------------\u001b[0m",
      "\u001b[0;31mNameError\u001b[0m                                 Traceback (most recent call last)",
      "Cell \u001b[0;32mIn [14], line 1\u001b[0m\n\u001b[0;32m----> 1\u001b[0m \u001b[39mwith\u001b[39;00m \u001b[39mopen\u001b[39m(path_pylcaio_database_loader_class_instance, \u001b[39m'\u001b[39m\u001b[39mwb\u001b[39m\u001b[39m'\u001b[39m) \u001b[39mas\u001b[39;00m file_handle:\n\u001b[1;32m      2\u001b[0m     pickle\u001b[39m.\u001b[39mdump(obj \u001b[39m=\u001b[39m database_loader, file \u001b[39m=\u001b[39m file_handle, protocol\u001b[39m=\u001b[39mpickle\u001b[39m.\u001b[39mHIGHEST_PROTOCOL)\n",
      "\u001b[0;31mNameError\u001b[0m: name 'path_pylcaio_database_loader_class_instance' is not defined"
     ]
    }
   ],
   "source": [
    "with open(path_pylcaio_database_loader_class_instance, 'wb') as file_handle:\n",
    "    pickle.dump(obj = database_loader, file = file_handle, protocol=pickle.HIGHEST_PROTOCOL)"
   ]
  },
  {
   "cell_type": "code",
   "execution_count": 21,
   "metadata": {},
   "outputs": [
    {
     "name": "stdout",
     "output_type": "stream",
     "text": [
      "No path for the capital folder was provided. Capitals will not be endogenized\n"
     ]
    }
   ],
   "source": [
    "lcaio_object: pylcaio.LCAIO = database_loader.combine_ecoinvent_exiobase(\n",
    "    complete_extensions = False,\n",
    "    impact_world = False,\n",
    "    regionalized = False)"
   ]
  },
  {
   "cell_type": "code",
   "execution_count": 22,
   "metadata": {},
   "outputs": [],
   "source": [
    "with open(path_pylcaio_class_instance_before_hybrid, 'wb') as file_handle:\n",
    "    pickle.dump(obj = lcaio_object, file = file_handle, protocol=pickle.HIGHEST_PROTOCOL)"
   ]
  },
  {
   "cell_type": "code",
   "execution_count": 23,
   "metadata": {},
   "outputs": [
    {
     "name": "stdout",
     "output_type": "stream",
     "text": [
      "Indentifying Rest of World regions...\n",
      "Updating electricity prices...\n",
      "Calculating productions volumes...\n",
      "Adjusting low production volume processes...\n",
      "Extending inventory...\n",
      "Building H matrix...\n"
     ]
    },
    {
     "name": "stderr",
     "output_type": "stream",
     "text": [
      "/home/weinold/github/pylcaio_integration_with_brightway/src/pylcaio.py:877: FutureWarning: The frame.append method is deprecated and will be removed from pandas in a future version. Use pandas.concat instead.\n",
      "  self.H = self.H.append([self.H] * (self.number_of_countries_IO + self.number_of_RoW_IO - 1))\n"
     ]
    },
    {
     "name": "stdout",
     "output_type": "stream",
     "text": [
      "Building geography concordance...\n",
      "Filter H matrix...\n",
      "Build Cut-off matrix...\n",
      "Add processes with 'priceless scaling' to Cut-off matrix...\n"
     ]
    }
   ],
   "source": [
    "lcaio_object.hybridize(\n",
    "    price_neutral_cut_off_matrix = 'STAM',\n",
    "    capitals = False,\n",
    "    priceless_scaling = True)"
   ]
  },
  {
   "cell_type": "code",
   "execution_count": 24,
   "metadata": {},
   "outputs": [],
   "source": [
    "with open(path_pylcaio_class_instance_after_hybrid, 'wb') as file_handle:\n",
    "    pickle.dump(obj = lcaio_object, file = file_handle, protocol=pickle.HIGHEST_PROTOCOL)"
   ]
  }
 ],
 "metadata": {
  "kernelspec": {
   "display_name": "Python 3.10.6 ('hybridization': conda)",
   "language": "python",
   "name": "python3"
  },
  "language_info": {
   "codemirror_mode": {
    "name": "ipython",
    "version": 3
   },
   "file_extension": ".py",
   "mimetype": "text/x-python",
   "name": "python",
   "nbconvert_exporter": "python",
   "pygments_lexer": "ipython3",
   "version": "3.10.6"
  },
  "orig_nbformat": 4,
  "vscode": {
   "interpreter": {
    "hash": "238e8c5baa9133d16a7cbc63d75f9f668e90e2677c7196b282498abda24b1689"
   }
  }
 },
 "nbformat": 4,
 "nbformat_minor": 2
}
