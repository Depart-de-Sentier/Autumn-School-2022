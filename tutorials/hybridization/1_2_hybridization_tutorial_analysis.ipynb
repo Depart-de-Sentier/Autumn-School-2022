{
 "cells": [
  {
   "cell_type": "markdown",
   "metadata": {},
   "source": [
    "## 0.0 setup\n",
    "\n",
    "1. follow the setup instructions in `1_0_hybridization_setup.ipynb`\n",
    "\n",
    "2. create directories and copy database files from the shared drive (`/srv/data/autumn_school/hybridization/`)"
   ]
  },
  {
   "cell_type": "code",
   "execution_count": 1,
   "metadata": {},
   "outputs": [],
   "source": [
    "!rm -rf ~/hybridization_data/databases_hybrid_from_shared_drive \n",
    "!mkdir -p ~/hybridization_data/databases_hybrid_from_shared_drive\n",
    "!mkdir -p ~/hybridization_data/databases_hybrid\n",
    "!cp -a /srv/data/autumn_school/hybridization/databases_hybrid/* ~/hybridization_data/databases_hybrid_from_shared_drive"
   ]
  },
  {
   "cell_type": "markdown",
   "metadata": {},
   "source": [
    "## 0.1. imports\n",
    "### 0.1.1. regular imports"
   ]
  },
  {
   "cell_type": "code",
   "execution_count": 2,
   "metadata": {},
   "outputs": [
    {
     "name": "stdout",
     "output_type": "stream",
     "text": [
      "Using environment variable BRIGHTWAY2_DIR for data directory:\n",
      "/home/weinold/bw_data\n"
     ]
    }
   ],
   "source": [
    "# i/o\n",
    "import sys\n",
    "import os\n",
    "from pathlib import Path\n",
    "import gzip\n",
    "import pickle\n",
    "# configuration\n",
    "import yaml\n",
    "# lca\n",
    "import brightway2 as bw\n",
    "import ecospold2matrix as e2m\n",
    "import pymrio\n",
    "# data science\n",
    "import pandas as pd"
   ]
  },
  {
   "cell_type": "markdown",
   "metadata": {},
   "source": [
    "### 0.1.2. local imports"
   ]
  },
  {
   "cell_type": "code",
   "execution_count": 3,
   "metadata": {},
   "outputs": [],
   "source": [
    "sys.path.append(os.path.join(Path.home(), 'pylcaio_integration_with_brightway', 'src')) # required for local import of pylcaio\n",
    "import pylcaio"
   ]
  },
  {
   "cell_type": "markdown",
   "metadata": {},
   "source": [
    "## 0.2. file paths\n",
    "### 0.2.1. directories"
   ]
  },
  {
   "cell_type": "code",
   "execution_count": 4,
   "metadata": {},
   "outputs": [],
   "source": [
    "%%capture\n",
    "print(path_dir_databases_raw := os.path.join(Path.home(), 'hybridization_data/databases_raw'))\n",
    "print(path_dir_databases_hybrid := os.path.join(Path.home(), 'hybridization_data/databases_hybrid'))\n",
    "print(path_dir_databases_hybrid_from_shared_drive := os.path.join(Path.home(), 'hybridization_data/databases_hybrid_from_shared_drive'))"
   ]
  },
  {
   "cell_type": "markdown",
   "metadata": {},
   "source": [
    "### 0.2.2. databases"
   ]
  },
  {
   "cell_type": "code",
   "execution_count": 5,
   "metadata": {},
   "outputs": [],
   "source": [
    "%%capture\n",
    "print(path_dir_ecoinvent_input := os.path.join(path_dir_databases_raw, 'ecoinvent-3.5-cutoff'))\n",
    "print(path_file_hybrid := os.path.join(path_dir_databases_hybrid, 'hybrid_ecoinvent_3_5_exiobase_monetary_pxp_2012.pickle'))\n",
    "print(path_file_hybrid_from_shared_drive := os.path.join(path_dir_databases_hybrid_from_shared_drive, 'pylcaio_class_instance_after_hybrid.pkl'))"
   ]
  },
  {
   "cell_type": "markdown",
   "metadata": {},
   "source": [
    "## 1.1. analysis"
   ]
  },
  {
   "cell_type": "code",
   "execution_count": 6,
   "metadata": {},
   "outputs": [],
   "source": [
    "analysis_object = pylcaio.Analysis(path_file_hybrid)"
   ]
  },
  {
   "cell_type": "code",
   "execution_count": 7,
   "metadata": {},
   "outputs": [],
   "source": [
    "#analysis_object.calc_lifecycle()"
   ]
  },
  {
   "cell_type": "code",
   "execution_count": 8,
   "metadata": {},
   "outputs": [
    {
     "name": "stdout",
     "output_type": "stream",
     "text": [
      "Creating default biosphere\n",
      "\n",
      "Applying strategy: normalize_units\n",
      "Applying strategy: drop_unspecified_subcategories\n",
      "Applying strategy: ensure_categories_are_tuples\n",
      "Applied 3 strategies in 0.00 seconds\n",
      "Warning: No valid output stream.\n",
      "Title: Writing activities to SQLite3 database:\n",
      "  Started: 10/22/2022 15:27:18\n",
      "  Finished: 10/22/2022 15:27:18\n",
      "  Total time elapsed: 00:00:00\n",
      "  CPU %: 100.40\n",
      "  Memory %: 0.57\n",
      "Created database: biosphere3\n",
      "Creating default LCIA methods\n",
      "\n",
      "Wrote 762 LCIA methods with 227223 characterization factors\n",
      "Creating core data migrations\n",
      "\n",
      "Extracting XML data from 0 datasets\n",
      "Extracted 0 datasets in 0.17 seconds\n",
      "Applying strategy: normalize_units\n",
      "Applying strategy: update_ecoinvent_locations\n",
      "Applying strategy: remove_zero_amount_coproducts\n",
      "Applying strategy: remove_zero_amount_inputs_with_no_activity\n",
      "Applying strategy: remove_unnamed_parameters\n",
      "Applying strategy: es2_assign_only_product_with_amount_as_reference_product\n",
      "Applying strategy: assign_single_product_as_activity\n",
      "Applying strategy: create_composite_code\n",
      "Applying strategy: drop_unspecified_subcategories\n",
      "Applying strategy: fix_ecoinvent_flows_pre35\n",
      "Applying strategy: drop_temporary_outdated_biosphere_flows\n",
      "Applying strategy: link_biosphere_by_flow_uuid\n",
      "Applying strategy: link_internal_technosphere_by_composite_code\n",
      "Applying strategy: delete_exchanges_missing_activity\n",
      "Applying strategy: delete_ghost_exchanges\n",
      "Applying strategy: remove_uncertainty_from_negative_loss_exchanges\n",
      "Applying strategy: fix_unreasonably_high_lognormal_uncertainties\n",
      "Applying strategy: set_lognormal_loc_value\n",
      "Applying strategy: convert_activity_parameters_to_list\n",
      "Applying strategy: add_cpc_classification_from_single_reference_product\n",
      "Applying strategy: delete_none_synonyms\n",
      "Applied 21 strategies in 0.00 seconds\n"
     ]
    },
    {
     "ename": "WrongDatabase",
     "evalue": "Activity database must be hybrid-ecoinvent, but set() was also found",
     "output_type": "error",
     "traceback": [
      "\u001b[0;31m---------------------------------------------------------------------------\u001b[0m",
      "\u001b[0;31mWrongDatabase\u001b[0m                             Traceback (most recent call last)",
      "File \u001b[0;32m<timed eval>:1\u001b[0m, in \u001b[0;36m<module>\u001b[0;34m\u001b[0m\n",
      "File \u001b[0;32m~/pylcaio/src/pylcaio.py:2174\u001b[0m, in \u001b[0;36mAnalysis.export_to_brightway2\u001b[0;34m(self, bw2_project_name, created_database_name, path_to_ecoinvent_ecospold_datasets, aggregated)\u001b[0m\n\u001b[1;32m   2172\u001b[0m eco_importer \u001b[39m=\u001b[39m SingleOutputEcospold2Importer(path_to_ecoinvent_ecospold_datasets, \u001b[39m'\u001b[39m\u001b[39mhybrid-ecoinvent\u001b[39m\u001b[39m'\u001b[39m)\n\u001b[1;32m   2173\u001b[0m eco_importer\u001b[39m.\u001b[39mapply_strategies()\n\u001b[0;32m-> 2174\u001b[0m eco_importer\u001b[39m.\u001b[39;49mwrite_database()\n\u001b[1;32m   2176\u001b[0m \u001b[39mif\u001b[39;00m \u001b[39mnot\u001b[39;00m aggregated:\n\u001b[1;32m   2177\u001b[0m     \u001b[39m# importing exiobase into the project\u001b[39;00m\n\u001b[1;32m   2178\u001b[0m     \u001b[39mself\u001b[39m\u001b[39m.\u001b[39mimport_exiobase_into_brightway2()\n",
      "File \u001b[0;32m~/miniconda3/envs/hybridization/lib/python3.8/site-packages/bw2io/importers/base_lci.py:237\u001b[0m, in \u001b[0;36mLCIImporter.write_database\u001b[0;34m(self, data, delete_existing, backend, activate_parameters, **kwargs)\u001b[0m\n\u001b[1;32m    233\u001b[0m \u001b[39mif\u001b[39;00m {o[\u001b[39m\"\u001b[39m\u001b[39mdatabase\u001b[39m\u001b[39m\"\u001b[39m] \u001b[39mfor\u001b[39;00m o \u001b[39min\u001b[39;00m data} \u001b[39m!=\u001b[39m {\u001b[39mself\u001b[39m\u001b[39m.\u001b[39mdb_name}:\n\u001b[1;32m    234\u001b[0m     error \u001b[39m=\u001b[39m \u001b[39m\"\u001b[39m\u001b[39mActivity database must be \u001b[39m\u001b[39m{}\u001b[39;00m\u001b[39m, but \u001b[39m\u001b[39m{}\u001b[39;00m\u001b[39m was also found\u001b[39m\u001b[39m\"\u001b[39m\u001b[39m.\u001b[39mformat(\n\u001b[1;32m    235\u001b[0m         \u001b[39mself\u001b[39m\u001b[39m.\u001b[39mdb_name, {o[\u001b[39m\"\u001b[39m\u001b[39mdatabase\u001b[39m\u001b[39m\"\u001b[39m] \u001b[39mfor\u001b[39;00m o \u001b[39min\u001b[39;00m data}\u001b[39m.\u001b[39mdifference({\u001b[39mself\u001b[39m\u001b[39m.\u001b[39mdb_name})\n\u001b[1;32m    236\u001b[0m     )\n\u001b[0;32m--> 237\u001b[0m     \u001b[39mraise\u001b[39;00m WrongDatabase(error)\n\u001b[1;32m    238\u001b[0m \u001b[39mif\u001b[39;00m \u001b[39mlen\u001b[39m({o[\u001b[39m\"\u001b[39m\u001b[39mcode\u001b[39m\u001b[39m\"\u001b[39m] \u001b[39mfor\u001b[39;00m o \u001b[39min\u001b[39;00m data}) \u001b[39m<\u001b[39m \u001b[39mlen\u001b[39m(data):\n\u001b[1;32m    239\u001b[0m     seen, duplicates \u001b[39m=\u001b[39m \u001b[39mset\u001b[39m(), []\n",
      "\u001b[0;31mWrongDatabase\u001b[0m: Activity database must be hybrid-ecoinvent, but set() was also found"
     ]
    }
   ],
   "source": [
    "%%time\n",
    "analysis_object.export_to_brightway2(\n",
    "    bw2_project_name = 'banana',\n",
    "    created_database_name = 'apple',\n",
    "    path_to_ecoinvent_ecospold_datasets = path_dir_ecoinvent_input,\n",
    "    aggregated = True\n",
    ")"
   ]
  },
  {
   "cell_type": "code",
   "execution_count": 11,
   "metadata": {},
   "outputs": [
    {
     "ename": "ValueError",
     "evalue": "dimension mismatch",
     "output_type": "error",
     "traceback": [
      "\u001b[0;31m---------------------------------------------------------------------------\u001b[0m",
      "\u001b[0;31mValueError\u001b[0m                                Traceback (most recent call last)",
      "File \u001b[0;32m<timed eval>:1\u001b[0m\n",
      "File \u001b[0;32m~/pylcaio/src/pylcaio.py:2031\u001b[0m, in \u001b[0;36mAnalysis.calc_lifecycle\u001b[0;34m(self)\u001b[0m\n\u001b[1;32m   2026\u001b[0m     \u001b[39mself\u001b[39m\u001b[39m.\u001b[39mD \u001b[39m=\u001b[39m pd\u001b[39m.\u001b[39mDataFrame(scipy\u001b[39m.\u001b[39msparse\u001b[39m.\u001b[39mvstack([\u001b[39mself\u001b[39m\u001b[39m.\u001b[39mC\u001b[39m.\u001b[39mdot(\u001b[39mself\u001b[39m\u001b[39m.\u001b[39mtotal_emissions_not_regio),\n\u001b[1;32m   2027\u001b[0m                                                \u001b[39mself\u001b[39m\u001b[39m.\u001b[39mC_regio\u001b[39m.\u001b[39mdot(\u001b[39mself\u001b[39m\u001b[39m.\u001b[39mtotal_emissions_regio)])\u001b[39m.\u001b[39mtodense(),\n\u001b[1;32m   2028\u001b[0m                           index\u001b[39m=\u001b[39m\u001b[39mself\u001b[39m\u001b[39m.\u001b[39mnon_regio_impacts_index\u001b[39m+\u001b[39m\u001b[39mself\u001b[39m\u001b[39m.\u001b[39mregio_impacts_index,\n\u001b[1;32m   2029\u001b[0m                           columns\u001b[39m=\u001b[39m\u001b[39mself\u001b[39m\u001b[39m.\u001b[39mPRO_f[\u001b[39m'\u001b[39m\u001b[39mactivityId\u001b[39m\u001b[39m'\u001b[39m])\u001b[39m.\u001b[39mloc[:, \u001b[39mself\u001b[39m\u001b[39m.\u001b[39mhybridized_processes]\n\u001b[1;32m   2030\u001b[0m \u001b[39melse\u001b[39;00m:\n\u001b[0;32m-> 2031\u001b[0m     \u001b[39mself\u001b[39m\u001b[39m.\u001b[39mtotal_emissions \u001b[39m=\u001b[39m scipy\u001b[39m.\u001b[39msparse\u001b[39m.\u001b[39mvstack([\u001b[39mself\u001b[39m\u001b[39m.\u001b[39mF_f\u001b[39m.\u001b[39mdot(\u001b[39mself\u001b[39m\u001b[39m.\u001b[39mLp), \u001b[39mself\u001b[39;49m\u001b[39m.\u001b[39;49mF_io\u001b[39m.\u001b[39;49mdot(\u001b[39mself\u001b[39;49m\u001b[39m.\u001b[39;49mLio)\u001b[39m.\u001b[39;49mdot(\n\u001b[1;32m   2032\u001b[0m         \u001b[39mself\u001b[39;49m\u001b[39m.\u001b[39;49mA_io_f)\u001b[39m.\u001b[39mdot(\u001b[39mself\u001b[39m\u001b[39m.\u001b[39mLp)])\n\u001b[1;32m   2033\u001b[0m     \u001b[39mself\u001b[39m\u001b[39m.\u001b[39mD \u001b[39m=\u001b[39m pd\u001b[39m.\u001b[39mDataFrame(\n\u001b[1;32m   2034\u001b[0m         (\u001b[39mself\u001b[39m\u001b[39m.\u001b[39mC\u001b[39m.\u001b[39mdot(\u001b[39mself\u001b[39m\u001b[39m.\u001b[39mtotal_emissions))\u001b[39m.\u001b[39mtodense(),\n\u001b[1;32m   2035\u001b[0m         index\u001b[39m=\u001b[39m\u001b[39mself\u001b[39m\u001b[39m.\u001b[39mC_index, columns\u001b[39m=\u001b[39m\u001b[39mself\u001b[39m\u001b[39m.\u001b[39mPRO_f[\u001b[39m'\u001b[39m\u001b[39mactivityName\u001b[39m\u001b[39m'\u001b[39m])\u001b[39m.\u001b[39mloc[:, \u001b[39mself\u001b[39m\u001b[39m.\u001b[39mhybridized_processes]\n\u001b[1;32m   2036\u001b[0m \u001b[39mprint\u001b[39m(\u001b[39m'\u001b[39m\u001b[39mCalculations done! Results are contained in self.D\u001b[39m\u001b[39m'\u001b[39m)\n",
      "File \u001b[0;32m~/miniconda3/envs/hybridization/lib/python3.10/site-packages/scipy/sparse/_base.py:416\u001b[0m, in \u001b[0;36mspmatrix.dot\u001b[0;34m(self, other)\u001b[0m\n\u001b[1;32m    414\u001b[0m     \u001b[39mreturn\u001b[39;00m \u001b[39mself\u001b[39m \u001b[39m*\u001b[39m other\n\u001b[1;32m    415\u001b[0m \u001b[39melse\u001b[39;00m:\n\u001b[0;32m--> 416\u001b[0m     \u001b[39mreturn\u001b[39;00m \u001b[39mself\u001b[39;49m \u001b[39m@\u001b[39;49m other\n",
      "File \u001b[0;32m~/miniconda3/envs/hybridization/lib/python3.10/site-packages/scipy/sparse/_base.py:630\u001b[0m, in \u001b[0;36mspmatrix.__matmul__\u001b[0;34m(self, other)\u001b[0m\n\u001b[1;32m    627\u001b[0m \u001b[39mif\u001b[39;00m isscalarlike(other):\n\u001b[1;32m    628\u001b[0m     \u001b[39mraise\u001b[39;00m \u001b[39mValueError\u001b[39;00m(\u001b[39m\"\u001b[39m\u001b[39mScalar operands are not allowed, \u001b[39m\u001b[39m\"\u001b[39m\n\u001b[1;32m    629\u001b[0m                      \u001b[39m\"\u001b[39m\u001b[39muse \u001b[39m\u001b[39m'\u001b[39m\u001b[39m*\u001b[39m\u001b[39m'\u001b[39m\u001b[39m instead\u001b[39m\u001b[39m\"\u001b[39m)\n\u001b[0;32m--> 630\u001b[0m \u001b[39mreturn\u001b[39;00m \u001b[39mself\u001b[39;49m\u001b[39m.\u001b[39;49m_mul_dispatch(other)\n",
      "File \u001b[0;32m~/miniconda3/envs/hybridization/lib/python3.10/site-packages/scipy/sparse/_base.py:577\u001b[0m, in \u001b[0;36mspmatrix._mul_dispatch\u001b[0;34m(self, other)\u001b[0m\n\u001b[1;32m    572\u001b[0m \u001b[39melif\u001b[39;00m other\u001b[39m.\u001b[39mndim \u001b[39m==\u001b[39m \u001b[39m2\u001b[39m:\n\u001b[1;32m    573\u001b[0m     \u001b[39m##\u001b[39;00m\n\u001b[1;32m    574\u001b[0m     \u001b[39m# dense 2D array or matrix (\"multivector\")\u001b[39;00m\n\u001b[1;32m    576\u001b[0m     \u001b[39mif\u001b[39;00m other\u001b[39m.\u001b[39mshape[\u001b[39m0\u001b[39m] \u001b[39m!=\u001b[39m \u001b[39mself\u001b[39m\u001b[39m.\u001b[39mshape[\u001b[39m1\u001b[39m]:\n\u001b[0;32m--> 577\u001b[0m         \u001b[39mraise\u001b[39;00m \u001b[39mValueError\u001b[39;00m(\u001b[39m'\u001b[39m\u001b[39mdimension mismatch\u001b[39m\u001b[39m'\u001b[39m)\n\u001b[1;32m    579\u001b[0m     result \u001b[39m=\u001b[39m \u001b[39mself\u001b[39m\u001b[39m.\u001b[39m_mul_multivector(np\u001b[39m.\u001b[39masarray(other))\n\u001b[1;32m    581\u001b[0m     \u001b[39mif\u001b[39;00m \u001b[39misinstance\u001b[39m(other, np\u001b[39m.\u001b[39mmatrix):\n",
      "\u001b[0;31mValueError\u001b[0m: dimension mismatch"
     ]
    }
   ],
   "source": [
    "%%time\n",
    "analysis_object.calc_lifecycle()"
   ]
  }
 ],
 "metadata": {
  "kernelspec": {
   "display_name": "Python 3.10.6 ('hybridization': conda)",
   "language": "python",
   "name": "python3"
  },
  "language_info": {
   "codemirror_mode": {
    "name": "ipython",
    "version": 3
   },
   "file_extension": ".py",
   "mimetype": "text/x-python",
   "name": "python",
   "nbconvert_exporter": "python",
   "pygments_lexer": "ipython3",
   "version": "3.8.13"
  },
  "orig_nbformat": 4,
  "vscode": {
   "interpreter": {
    "hash": "238e8c5baa9133d16a7cbc63d75f9f668e90e2677c7196b282498abda24b1689"
   }
  }
 },
 "nbformat": 4,
 "nbformat_minor": 2
}
