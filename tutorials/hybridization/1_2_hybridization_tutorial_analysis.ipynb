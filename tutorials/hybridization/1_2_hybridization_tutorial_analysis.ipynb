{
 "cells": [
  {
   "cell_type": "markdown",
   "metadata": {},
   "source": [
    "## 0.0 setup\n",
    "\n",
    "1. follow the setup instructions in `1_0_hybridization_setup.ipynb`\n",
    "\n",
    "2. create directories and copy database files from the shared drive (`/srv/data/autumn_school/hybridization/`)"
   ]
  },
  {
   "cell_type": "code",
   "execution_count": 1,
   "metadata": {},
   "outputs": [],
   "source": [
    "!rm -rf ~/hybridization_data/databases_hybrid_from_shared_drive \n",
    "!mkdir -p ~/hybridization_data/databases_hybrid_from_shared_drive\n",
    "!mkdir -p ~/hybridization_data/databases_hybrid\n",
    "!cp -a /srv/data/autumn_school/hybridization/databases_hybrid/* ~/hybridization_data/databases_hybrid_from_shared_drive"
   ]
  },
  {
   "cell_type": "markdown",
   "metadata": {},
   "source": [
    "## 0.1. imports\n",
    "### 0.1.1. regular imports"
   ]
  },
  {
   "cell_type": "code",
   "execution_count": 2,
   "metadata": {},
   "outputs": [
    {
     "name": "stdout",
     "output_type": "stream",
     "text": [
      "Using environment variable BRIGHTWAY2_DIR for data directory:\n",
      "/home/weinold/bw_data\n"
     ]
    }
   ],
   "source": [
    "# i/o\n",
    "import sys\n",
    "import os\n",
    "from pathlib import Path\n",
    "import gzip\n",
    "import pickle\n",
    "# configuration\n",
    "import yaml\n",
    "# lca\n",
    "import brightway2 as bw\n",
    "import ecospold2matrix as e2m\n",
    "import pymrio\n",
    "# data science\n",
    "import pandas as pd"
   ]
  },
  {
   "cell_type": "markdown",
   "metadata": {},
   "source": [
    "### 0.1.2. local imports"
   ]
  },
  {
   "cell_type": "code",
   "execution_count": 3,
   "metadata": {},
   "outputs": [],
   "source": [
    "sys.path.append(os.path.join(Path.home(), 'pylcaio', 'src')) # required for local import of pylcaio\n",
    "import pylcaio"
   ]
  },
  {
   "cell_type": "markdown",
   "metadata": {},
   "source": [
    "## 0.2. file paths\n",
    "### 0.2.1. directories"
   ]
  },
  {
   "cell_type": "code",
   "execution_count": 4,
   "metadata": {},
   "outputs": [],
   "source": [
    "%%capture\n",
    "print(path_dir_databases_hybrid := os.path.join(Path.home(), 'hybridization_data/databases_hybrid'))\n",
    "print(path_dir_databases_hybrid_from_shared_drive := os.path.join(Path.home(), 'hybridization_data/databases_hybrid_from_shared_drive'))"
   ]
  },
  {
   "cell_type": "markdown",
   "metadata": {},
   "source": [
    "### 0.2.2. databases"
   ]
  },
  {
   "cell_type": "code",
   "execution_count": 5,
   "metadata": {},
   "outputs": [],
   "source": [
    "%%capture\n",
    "print(path_file_hybrid := os.path.join(path_dir_databases_hybrid, 'hybrid_ecoinvent_3_5_exiobase_monetary_pxp_2012.pickle'))\n",
    "print(path_file_hybrid_from_shared_drive := os.path.join(path_dir_databases_hybrid_from_shared_drive, 'pylcaio_class_instance_after_hybrid.pkl'))"
   ]
  },
  {
   "cell_type": "markdown",
   "metadata": {},
   "source": [
    "## 1.1. import hybrid database\n",
    "\n",
    "⚠️ if you would like to use the hybrid database from the shared drive (`/srv/data/autumn_school/`), set \n",
    "\n",
    "```\n",
    "load_from_shared_drive: bool = True\n",
    "```\n",
    "\n",
    "⚠️ if you would like to use the hybrid databased created (by yourself) in the notebook `1_1_hybridiation_tutorial_hybridization.ipynb`, set\n",
    "\n",
    "```\n",
    "load_from_shared_drive: bool = False\n",
    "```"
   ]
  },
  {
   "cell_type": "code",
   "execution_count": 6,
   "metadata": {},
   "outputs": [],
   "source": [
    "load_from_shared_drive: bool = False"
   ]
  },
  {
   "cell_type": "code",
   "execution_count": 8,
   "metadata": {},
   "outputs": [
    {
     "ename": "UnpicklingError",
     "evalue": "invalid load key, '\\x1f'.",
     "output_type": "error",
     "traceback": [
      "\u001b[0;31m---------------------------------------------------------------------------\u001b[0m",
      "\u001b[0;31mUnpicklingError\u001b[0m                           Traceback (most recent call last)",
      "Cell \u001b[0;32mIn [8], line 3\u001b[0m\n\u001b[1;32m      1\u001b[0m \u001b[39mif\u001b[39;00m load_from_shared_drive \u001b[39m==\u001b[39m \u001b[39mFalse\u001b[39;00m:\n\u001b[1;32m      2\u001b[0m     \u001b[39mwith\u001b[39;00m \u001b[39mopen\u001b[39m(path_file_hybrid, \u001b[39m'\u001b[39m\u001b[39mrb\u001b[39m\u001b[39m'\u001b[39m) \u001b[39mas\u001b[39;00m filestream:\n\u001b[0;32m----> 3\u001b[0m         lcaio_object_after_hybridization: pymrio\u001b[39m.\u001b[39mcore\u001b[39m.\u001b[39mmriosystem\u001b[39m.\u001b[39mIOSystem \u001b[39m=\u001b[39m pd\u001b[39m.\u001b[39;49mread_pickle(filestream)\n\u001b[1;32m      4\u001b[0m \u001b[39mif\u001b[39;00m load_from_shared_drive \u001b[39m==\u001b[39m \u001b[39mTrue\u001b[39;00m:\n\u001b[1;32m      5\u001b[0m     \u001b[39mwith\u001b[39;00m \u001b[39mopen\u001b[39m(path_file_hybrid_from_shared_drive, \u001b[39m'\u001b[39m\u001b[39mrb\u001b[39m\u001b[39m'\u001b[39m) \u001b[39mas\u001b[39;00m filestream:\n",
      "File \u001b[0;32m~/miniconda3/envs/hybridization/lib/python3.10/site-packages/pandas/io/pickle.py:208\u001b[0m, in \u001b[0;36mread_pickle\u001b[0;34m(filepath_or_buffer, compression, storage_options)\u001b[0m\n\u001b[1;32m    205\u001b[0m     \u001b[39mwith\u001b[39;00m warnings\u001b[39m.\u001b[39mcatch_warnings(record\u001b[39m=\u001b[39m\u001b[39mTrue\u001b[39;00m):\n\u001b[1;32m    206\u001b[0m         \u001b[39m# We want to silence any warnings about, e.g. moved modules.\u001b[39;00m\n\u001b[1;32m    207\u001b[0m         warnings\u001b[39m.\u001b[39msimplefilter(\u001b[39m\"\u001b[39m\u001b[39mignore\u001b[39m\u001b[39m\"\u001b[39m, \u001b[39mWarning\u001b[39;00m)\n\u001b[0;32m--> 208\u001b[0m         \u001b[39mreturn\u001b[39;00m pickle\u001b[39m.\u001b[39;49mload(handles\u001b[39m.\u001b[39;49mhandle)\n\u001b[1;32m    209\u001b[0m \u001b[39mexcept\u001b[39;00m excs_to_catch:\n\u001b[1;32m    210\u001b[0m     \u001b[39m# e.g.\u001b[39;00m\n\u001b[1;32m    211\u001b[0m     \u001b[39m#  \"No module named 'pandas.core.sparse.series'\"\u001b[39;00m\n\u001b[1;32m    212\u001b[0m     \u001b[39m#  \"Can't get attribute '__nat_unpickle' on <module 'pandas._libs.tslib\"\u001b[39;00m\n\u001b[1;32m    213\u001b[0m     \u001b[39mreturn\u001b[39;00m pc\u001b[39m.\u001b[39mload(handles\u001b[39m.\u001b[39mhandle, encoding\u001b[39m=\u001b[39m\u001b[39mNone\u001b[39;00m)\n",
      "\u001b[0;31mUnpicklingError\u001b[0m: invalid load key, '\\x1f'."
     ]
    }
   ],
   "source": [
    "if load_from_shared_drive == False:\n",
    "    with open(path_file_hybrid, 'rb') as filestream:\n",
    "        lcaio_object_after_hybridization: pymrio.core.mriosystem.IOSystem = pd.read_pickle(filestream)\n",
    "if load_from_shared_drive == True:\n",
    "    with open(path_file_hybrid_from_shared_drive, 'rb') as filestream:\n",
    "        lcaio_object_after_hybridization: pymrio.core.mriosystem.IOSystem = pd.read_pickle(filestream)"
   ]
  },
  {
   "cell_type": "markdown",
   "metadata": {},
   "source": [
    "## 2.1. analysis"
   ]
  },
  {
   "cell_type": "code",
   "execution_count": 10,
   "metadata": {},
   "outputs": [
    {
     "ename": "KeyError",
     "evalue": "'method'",
     "output_type": "error",
     "traceback": [
      "\u001b[0;31m---------------------------------------------------------------------------\u001b[0m",
      "\u001b[0;31mKeyError\u001b[0m                                  Traceback (most recent call last)",
      "File \u001b[0;32m~/pylcaio/src/pylcaio.py:1915\u001b[0m, in \u001b[0;36mAnalysis.__init__\u001b[0;34m(self, path_to_hybrid_system)\u001b[0m\n\u001b[1;32m   1914\u001b[0m \u001b[39mtry\u001b[39;00m :\n\u001b[0;32m-> 1915\u001b[0m     \u001b[39mself\u001b[39m\u001b[39m.\u001b[39mC \u001b[39m=\u001b[39m pd\u001b[39m.\u001b[39mconcat([pd\u001b[39m.\u001b[39mDataFrame(\u001b[39mself\u001b[39m\u001b[39m.\u001b[39mC_f\u001b[39m.\u001b[39mtodense(), index\u001b[39m=\u001b[39m\u001b[39mself\u001b[39;49m\u001b[39m.\u001b[39;49mIMP[\u001b[39m'\u001b[39;49m\u001b[39mmethod\u001b[39;49m\u001b[39m'\u001b[39;49m], columns\u001b[39m=\u001b[39m\u001b[39mself\u001b[39m\u001b[39m.\u001b[39mSTR[\u001b[39m'\u001b[39m\u001b[39mMATRIXID\u001b[39m\u001b[39m'\u001b[39m]),\n\u001b[1;32m   1916\u001b[0m                pd\u001b[39m.\u001b[39mDataFrame(\u001b[39mself\u001b[39m\u001b[39m.\u001b[39mC_io\u001b[39m.\u001b[39mtodense(), index\u001b[39m=\u001b[39m\u001b[39mself\u001b[39m\u001b[39m.\u001b[39mimpact_categories_IO,\n\u001b[1;32m   1917\u001b[0m                             columns\u001b[39m=\u001b[39m\u001b[39mself\u001b[39m\u001b[39m.\u001b[39mflows_of_IO)])\u001b[39m.\u001b[39mfillna(\u001b[39m0\u001b[39m)\n\u001b[1;32m   1918\u001b[0m \u001b[39mexcept\u001b[39;00m \u001b[39mKeyError\u001b[39;00m:\n",
      "\u001b[0;31mKeyError\u001b[0m: 'method'",
      "\nDuring handling of the above exception, another exception occurred:\n",
      "\u001b[0;31mKeyError\u001b[0m                                  Traceback (most recent call last)",
      "Cell \u001b[0;32mIn [10], line 1\u001b[0m\n\u001b[0;32m----> 1\u001b[0m Analysis \u001b[39m=\u001b[39m pylcaio\u001b[39m.\u001b[39;49mAnalysis(path_file_hybrid)\n",
      "File \u001b[0;32m~/pylcaio/src/pylcaio.py:1919\u001b[0m, in \u001b[0;36mAnalysis.__init__\u001b[0;34m(self, path_to_hybrid_system)\u001b[0m\n\u001b[1;32m   1915\u001b[0m     \u001b[39mself\u001b[39m\u001b[39m.\u001b[39mC \u001b[39m=\u001b[39m pd\u001b[39m.\u001b[39mconcat([pd\u001b[39m.\u001b[39mDataFrame(\u001b[39mself\u001b[39m\u001b[39m.\u001b[39mC_f\u001b[39m.\u001b[39mtodense(), index\u001b[39m=\u001b[39m\u001b[39mself\u001b[39m\u001b[39m.\u001b[39mIMP[\u001b[39m'\u001b[39m\u001b[39mmethod\u001b[39m\u001b[39m'\u001b[39m], columns\u001b[39m=\u001b[39m\u001b[39mself\u001b[39m\u001b[39m.\u001b[39mSTR[\u001b[39m'\u001b[39m\u001b[39mMATRIXID\u001b[39m\u001b[39m'\u001b[39m]),\n\u001b[1;32m   1916\u001b[0m                pd\u001b[39m.\u001b[39mDataFrame(\u001b[39mself\u001b[39m\u001b[39m.\u001b[39mC_io\u001b[39m.\u001b[39mtodense(), index\u001b[39m=\u001b[39m\u001b[39mself\u001b[39m\u001b[39m.\u001b[39mimpact_categories_IO,\n\u001b[1;32m   1917\u001b[0m                             columns\u001b[39m=\u001b[39m\u001b[39mself\u001b[39m\u001b[39m.\u001b[39mflows_of_IO)])\u001b[39m.\u001b[39mfillna(\u001b[39m0\u001b[39m)\n\u001b[1;32m   1918\u001b[0m \u001b[39mexcept\u001b[39;00m \u001b[39mKeyError\u001b[39;00m:\n\u001b[0;32m-> 1919\u001b[0m     \u001b[39mself\u001b[39m\u001b[39m.\u001b[39mC \u001b[39m=\u001b[39m pd\u001b[39m.\u001b[39mconcat([pd\u001b[39m.\u001b[39mDataFrame(\u001b[39mself\u001b[39m\u001b[39m.\u001b[39mC_f\u001b[39m.\u001b[39mtodense(), index\u001b[39m=\u001b[39m\u001b[39mself\u001b[39;49m\u001b[39m.\u001b[39;49mIMP[\u001b[39m'\u001b[39;49m\u001b[39mmethod\u001b[39;49m\u001b[39m'\u001b[39;49m], columns\u001b[39m=\u001b[39m\u001b[39mself\u001b[39m\u001b[39m.\u001b[39mSTR[\u001b[39m'\u001b[39m\u001b[39mMATRIXID\u001b[39m\u001b[39m'\u001b[39m]),\n\u001b[1;32m   1920\u001b[0m                pd\u001b[39m.\u001b[39mDataFrame(\u001b[39mself\u001b[39m\u001b[39m.\u001b[39mC_io\u001b[39m.\u001b[39mtodense(), index\u001b[39m=\u001b[39m\u001b[39mself\u001b[39m\u001b[39m.\u001b[39mimpact_categories_IO,\n\u001b[1;32m   1921\u001b[0m                             columns\u001b[39m=\u001b[39m\u001b[39mself\u001b[39m\u001b[39m.\u001b[39mflows_of_IO)])\u001b[39m.\u001b[39mfillna(\u001b[39m0\u001b[39m)\n\u001b[1;32m   1922\u001b[0m \u001b[39mself\u001b[39m\u001b[39m.\u001b[39mC_index \u001b[39m=\u001b[39m \u001b[39mself\u001b[39m\u001b[39m.\u001b[39mC\u001b[39m.\u001b[39mindex\u001b[39m.\u001b[39mtolist()\n\u001b[1;32m   1923\u001b[0m \u001b[39mself\u001b[39m\u001b[39m.\u001b[39mC \u001b[39m=\u001b[39m back_to_sparse(\u001b[39mself\u001b[39m\u001b[39m.\u001b[39mC)\n",
      "\u001b[0;31mKeyError\u001b[0m: 'method'"
     ]
    }
   ],
   "source": [
    "Analysis = pylcaio.Analysis(path_file_hybrid)"
   ]
  }
 ],
 "metadata": {
  "kernelspec": {
   "display_name": "Python 3.10.6 ('hybridization': conda)",
   "language": "python",
   "name": "python3"
  },
  "language_info": {
   "codemirror_mode": {
    "name": "ipython",
    "version": 3
   },
   "file_extension": ".py",
   "mimetype": "text/x-python",
   "name": "python",
   "nbconvert_exporter": "python",
   "pygments_lexer": "ipython3",
   "version": "3.10.6"
  },
  "orig_nbformat": 4,
  "vscode": {
   "interpreter": {
    "hash": "238e8c5baa9133d16a7cbc63d75f9f668e90e2677c7196b282498abda24b1689"
   }
  }
 },
 "nbformat": 4,
 "nbformat_minor": 2
}
