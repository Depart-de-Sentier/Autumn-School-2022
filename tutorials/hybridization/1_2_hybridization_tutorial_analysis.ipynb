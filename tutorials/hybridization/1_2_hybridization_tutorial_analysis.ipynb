{
 "cells": [
  {
   "cell_type": "markdown",
   "metadata": {},
   "source": [
    "## 0.0 setup\n",
    "\n",
    "1. follow the setup instructions in `1_0_hybridization_setup.ipynb`\n",
    "\n",
    "2. create directories and copy database files from the shared drive (`/srv/data/autumn_school/hybridization/`)"
   ]
  },
  {
   "cell_type": "code",
   "execution_count": 1,
   "metadata": {},
   "outputs": [],
   "source": [
    "!rm -rf ~/hybridization_data/databases_hybrid_from_shared_drive \n",
    "!mkdir -p ~/hybridization_data/databases_hybrid_from_shared_drive\n",
    "!mkdir -p ~/hybridization_data/databases_hybrid\n",
    "!cp -a /srv/data/autumn_school/hybridization/databases_hybrid_from_shared_drive/* ~/hybridization_data/databases_hybrid_from_shared_drive"
   ]
  },
  {
   "cell_type": "markdown",
   "metadata": {},
   "source": [
    "## 0.1. imports\n",
    "### 0.1.1. regular imports"
   ]
  },
  {
   "cell_type": "code",
   "execution_count": 2,
   "metadata": {},
   "outputs": [
    {
     "name": "stdout",
     "output_type": "stream",
     "text": [
      "Using environment variable BRIGHTWAY2_DIR for data directory:\n",
      "/home/weinold/bw_data\n"
     ]
    }
   ],
   "source": [
    "# i/o\n",
    "import sys\n",
    "import os\n",
    "from pathlib import Path\n",
    "import gzip\n",
    "import pickle\n",
    "# configuration\n",
    "import yaml\n",
    "# lca\n",
    "import brightway2 as bw\n",
    "import ecospold2matrix as e2m\n",
    "import pymrio\n",
    "# data science\n",
    "import pandas as pd"
   ]
  },
  {
   "cell_type": "markdown",
   "metadata": {},
   "source": [
    "### 0.1.2. local imports"
   ]
  },
  {
   "cell_type": "code",
   "execution_count": 3,
   "metadata": {},
   "outputs": [],
   "source": [
    "sys.path.append(os.path.join(Path.home(), 'pylcaio', 'src')) # required for local import of pylcaio\n",
    "import pylcaio"
   ]
  },
  {
   "cell_type": "markdown",
   "metadata": {},
   "source": [
    "## 0.2. file paths\n",
    "### 0.2.1. directories"
   ]
  },
  {
   "cell_type": "code",
   "execution_count": 4,
   "metadata": {},
   "outputs": [],
   "source": [
    "%%capture\n",
    "print(path_dir_databases_raw := os.path.join(Path.home(), 'hybridization_data/databases_raw'))\n",
    "print(path_dir_databases_hybrid := os.path.join(Path.home(), 'hybridization_data/databases_hybrid'))\n",
    "print(path_dir_databases_hybrid_from_shared_drive := os.path.join(Path.home(), 'hybridization_data/databases_hybrid_from_shared_drive'))"
   ]
  },
  {
   "cell_type": "markdown",
   "metadata": {},
   "source": [
    "### 0.2.2. databases"
   ]
  },
  {
   "cell_type": "code",
   "execution_count": 5,
   "metadata": {},
   "outputs": [],
   "source": [
    "%%capture\n",
    "print(path_dir_ecoinvent_input := os.path.join(path_dir_databases_raw, 'ecoinvent-3.5-cutoff'))\n",
    "print(path_file_hybrid_from_shared_drive := os.path.join(path_dir_databases_hybrid_from_shared_drive, 'pylcaio_class_instance_after_hybrid_ecoinvent_3_8.pkl'))\n",
    "print(path_file_hybrid_analysis_from_shared_drive := os.path.join(path_dir_databases_hybrid_from_shared_drive, 'pylcaio_class_instance_after_analysis_ecoinvent_3_8.pkl'))"
   ]
  },
  {
   "cell_type": "markdown",
   "metadata": {},
   "source": [
    "## 1.1. analysis"
   ]
  },
  {
   "cell_type": "code",
   "execution_count": null,
   "metadata": {},
   "outputs": [],
   "source": [
    "with open(path_file_hybrid_analysis_from_shared_drive, 'rb') as filestream:\n",
    "    analysis_object: pymrio.core.mriosystem.IOSystem = pd.read_pickle(filestream)"
   ]
  },
  {
   "cell_type": "code",
   "execution_count": 7,
   "metadata": {},
   "outputs": [],
   "source": [
    "# this takes significant resources, you should instead load the relevant pickle file\n",
    "#%%time\n",
    "#analysis_object = pylcaio.Analysis(path_file_hybrid_from_shared_drive)\n",
    "#analysis_object.calc_lifecycle()"
   ]
  },
  {
   "cell_type": "code",
   "execution_count": null,
   "metadata": {},
   "outputs": [],
   "source": [
    "analysis_object.navigate_through_PRO_f(\n",
    "    product = 'electricity',\n",
    "    geography = 'FR',\n",
    "    activity = 'hydro'\n",
    ")"
   ]
  },
  {
   "cell_type": "code",
   "execution_count": null,
   "metadata": {},
   "outputs": [],
   "source": [
    "process_only = analysis_object.C_f.dot(analysis_object.F_f.dot(analysis_object.Lp))\n",
    "process_only = pd.DataFrame(process_only.todense(),\n",
    "index=analysis_object.C_index, columns=analysis_object.PRO_f['activityName']).loc[:, analysis_object.hybridized_processes]"
   ]
  },
  {
   "cell_type": "markdown",
   "metadata": {},
   "source": [
    "### 1.1.1. compare process-only and hybrid results"
   ]
  },
  {
   "cell_type": "code",
   "execution_count": null,
   "metadata": {},
   "outputs": [],
   "source": [
    "uuid = 'b6095722-8eae-4102-b014-4386412d42e1_66c93e71-f32b-4591-901c-55395db5c132'\n",
    "(analysis.D.loc[:,uuid]-process_only.loc[:,uuid])/process_only.loc[:,uuid]*100"
   ]
  },
  {
   "cell_type": "markdown",
   "metadata": {},
   "source": [
    "## 2.1. export to `brightway` (currently broken)\n",
    "\n",
    "compare GitHub issue in the `bw_hybrid` repo: [`export_to_brightway2` throws error `InvalidExchange`](https://github.com/michaelweinold/bw_hybrid/issues/26)"
   ]
  },
  {
   "cell_type": "code",
   "execution_count": 8,
   "metadata": {},
   "outputs": [
    {
     "name": "stdout",
     "output_type": "stream",
     "text": [
      "Creating default biosphere\n",
      "\n",
      "Applying strategy: normalize_units\n",
      "Applying strategy: drop_unspecified_subcategories\n",
      "Applying strategy: ensure_categories_are_tuples\n",
      "Applied 3 strategies in 0.00 seconds\n",
      "Warning: No valid output stream.\n",
      "Title: Writing activities to SQLite3 database:\n",
      "  Started: 10/22/2022 15:27:18\n",
      "  Finished: 10/22/2022 15:27:18\n",
      "  Total time elapsed: 00:00:00\n",
      "  CPU %: 100.40\n",
      "  Memory %: 0.57\n",
      "Created database: biosphere3\n",
      "Creating default LCIA methods\n",
      "\n",
      "Wrote 762 LCIA methods with 227223 characterization factors\n",
      "Creating core data migrations\n",
      "\n",
      "Extracting XML data from 0 datasets\n",
      "Extracted 0 datasets in 0.17 seconds\n",
      "Applying strategy: normalize_units\n",
      "Applying strategy: update_ecoinvent_locations\n",
      "Applying strategy: remove_zero_amount_coproducts\n",
      "Applying strategy: remove_zero_amount_inputs_with_no_activity\n",
      "Applying strategy: remove_unnamed_parameters\n",
      "Applying strategy: es2_assign_only_product_with_amount_as_reference_product\n",
      "Applying strategy: assign_single_product_as_activity\n",
      "Applying strategy: create_composite_code\n",
      "Applying strategy: drop_unspecified_subcategories\n",
      "Applying strategy: fix_ecoinvent_flows_pre35\n",
      "Applying strategy: drop_temporary_outdated_biosphere_flows\n",
      "Applying strategy: link_biosphere_by_flow_uuid\n",
      "Applying strategy: link_internal_technosphere_by_composite_code\n",
      "Applying strategy: delete_exchanges_missing_activity\n",
      "Applying strategy: delete_ghost_exchanges\n",
      "Applying strategy: remove_uncertainty_from_negative_loss_exchanges\n",
      "Applying strategy: fix_unreasonably_high_lognormal_uncertainties\n",
      "Applying strategy: set_lognormal_loc_value\n",
      "Applying strategy: convert_activity_parameters_to_list\n",
      "Applying strategy: add_cpc_classification_from_single_reference_product\n",
      "Applying strategy: delete_none_synonyms\n",
      "Applied 21 strategies in 0.00 seconds\n"
     ]
    },
    {
     "ename": "WrongDatabase",
     "evalue": "Activity database must be hybrid-ecoinvent, but set() was also found",
     "output_type": "error",
     "traceback": [
      "\u001b[0;31m---------------------------------------------------------------------------\u001b[0m",
      "\u001b[0;31mWrongDatabase\u001b[0m                             Traceback (most recent call last)",
      "File \u001b[0;32m<timed eval>:1\u001b[0m, in \u001b[0;36m<module>\u001b[0;34m\u001b[0m\n",
      "File \u001b[0;32m~/pylcaio/src/pylcaio.py:2174\u001b[0m, in \u001b[0;36mAnalysis.export_to_brightway2\u001b[0;34m(self, bw2_project_name, created_database_name, path_to_ecoinvent_ecospold_datasets, aggregated)\u001b[0m\n\u001b[1;32m   2172\u001b[0m eco_importer \u001b[39m=\u001b[39m SingleOutputEcospold2Importer(path_to_ecoinvent_ecospold_datasets, \u001b[39m'\u001b[39m\u001b[39mhybrid-ecoinvent\u001b[39m\u001b[39m'\u001b[39m)\n\u001b[1;32m   2173\u001b[0m eco_importer\u001b[39m.\u001b[39mapply_strategies()\n\u001b[0;32m-> 2174\u001b[0m eco_importer\u001b[39m.\u001b[39;49mwrite_database()\n\u001b[1;32m   2176\u001b[0m \u001b[39mif\u001b[39;00m \u001b[39mnot\u001b[39;00m aggregated:\n\u001b[1;32m   2177\u001b[0m     \u001b[39m# importing exiobase into the project\u001b[39;00m\n\u001b[1;32m   2178\u001b[0m     \u001b[39mself\u001b[39m\u001b[39m.\u001b[39mimport_exiobase_into_brightway2()\n",
      "File \u001b[0;32m~/miniconda3/envs/hybridization/lib/python3.8/site-packages/bw2io/importers/base_lci.py:237\u001b[0m, in \u001b[0;36mLCIImporter.write_database\u001b[0;34m(self, data, delete_existing, backend, activate_parameters, **kwargs)\u001b[0m\n\u001b[1;32m    233\u001b[0m \u001b[39mif\u001b[39;00m {o[\u001b[39m\"\u001b[39m\u001b[39mdatabase\u001b[39m\u001b[39m\"\u001b[39m] \u001b[39mfor\u001b[39;00m o \u001b[39min\u001b[39;00m data} \u001b[39m!=\u001b[39m {\u001b[39mself\u001b[39m\u001b[39m.\u001b[39mdb_name}:\n\u001b[1;32m    234\u001b[0m     error \u001b[39m=\u001b[39m \u001b[39m\"\u001b[39m\u001b[39mActivity database must be \u001b[39m\u001b[39m{}\u001b[39;00m\u001b[39m, but \u001b[39m\u001b[39m{}\u001b[39;00m\u001b[39m was also found\u001b[39m\u001b[39m\"\u001b[39m\u001b[39m.\u001b[39mformat(\n\u001b[1;32m    235\u001b[0m         \u001b[39mself\u001b[39m\u001b[39m.\u001b[39mdb_name, {o[\u001b[39m\"\u001b[39m\u001b[39mdatabase\u001b[39m\u001b[39m\"\u001b[39m] \u001b[39mfor\u001b[39;00m o \u001b[39min\u001b[39;00m data}\u001b[39m.\u001b[39mdifference({\u001b[39mself\u001b[39m\u001b[39m.\u001b[39mdb_name})\n\u001b[1;32m    236\u001b[0m     )\n\u001b[0;32m--> 237\u001b[0m     \u001b[39mraise\u001b[39;00m WrongDatabase(error)\n\u001b[1;32m    238\u001b[0m \u001b[39mif\u001b[39;00m \u001b[39mlen\u001b[39m({o[\u001b[39m\"\u001b[39m\u001b[39mcode\u001b[39m\u001b[39m\"\u001b[39m] \u001b[39mfor\u001b[39;00m o \u001b[39min\u001b[39;00m data}) \u001b[39m<\u001b[39m \u001b[39mlen\u001b[39m(data):\n\u001b[1;32m    239\u001b[0m     seen, duplicates \u001b[39m=\u001b[39m \u001b[39mset\u001b[39m(), []\n",
      "\u001b[0;31mWrongDatabase\u001b[0m: Activity database must be hybrid-ecoinvent, but set() was also found"
     ]
    }
   ],
   "source": [
    "%%time\n",
    "analysis_object.export_to_brightway2(\n",
    "    bw2_project_name = 'banana',\n",
    "    created_database_name = 'apple',\n",
    "    path_to_ecoinvent_ecospold_datasets = path_dir_ecoinvent_input,\n",
    "    aggregated = True\n",
    ")"
   ]
  },
  {
   "cell_type": "code",
   "execution_count": null,
   "metadata": {},
   "outputs": [],
   "source": []
  }
 ],
 "metadata": {
  "kernelspec": {
   "display_name": "Python 3.10.6 ('hybridization': conda)",
   "language": "python",
   "name": "python3"
  },
  "language_info": {
   "codemirror_mode": {
    "name": "ipython",
    "version": 3
   },
   "file_extension": ".py",
   "mimetype": "text/x-python",
   "name": "python",
   "nbconvert_exporter": "python",
   "pygments_lexer": "ipython3",
   "version": "3.8.13"
  },
  "orig_nbformat": 4,
  "vscode": {
   "interpreter": {
    "hash": "238e8c5baa9133d16a7cbc63d75f9f668e90e2677c7196b282498abda24b1689"
   }
  }
 },
 "nbformat": 4,
 "nbformat_minor": 2
}
