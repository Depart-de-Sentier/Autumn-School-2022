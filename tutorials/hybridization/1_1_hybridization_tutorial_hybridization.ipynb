{
 "cells": [
  {
   "cell_type": "markdown",
   "metadata": {},
   "source": [
    "## 0.0. setup\n",
    "\n",
    "1. follow the setup instructions in `1_0_hybridization_setup.ipynb`\n",
    "\n",
    "2. create directories"
   ]
  },
  {
   "cell_type": "code",
   "execution_count": 1,
   "metadata": {},
   "outputs": [],
   "source": [
    "!mkdir -p ~/hybridization_data/databases_hybrid"
   ]
  },
  {
   "cell_type": "markdown",
   "metadata": {},
   "source": [
    "## 0.1. imports\n",
    "### 0.1.1. regular imports"
   ]
  },
  {
   "cell_type": "code",
   "execution_count": 2,
   "metadata": {},
   "outputs": [
    {
     "name": "stdout",
     "output_type": "stream",
     "text": [
      "Using environment variable BRIGHTWAY2_DIR for data directory:\n",
      "/home/weinold/bw_data\n"
     ]
    }
   ],
   "source": [
    "# i/o\n",
    "import sys\n",
    "import os\n",
    "from pathlib import Path\n",
    "import gzip\n",
    "import pickle\n",
    "# configuration\n",
    "import yaml\n",
    "# lca\n",
    "import brightway2 as bw\n",
    "import ecospold2matrix as e2m\n",
    "import pymrio\n",
    "# data science\n",
    "import pandas as pd\n",
    "# deep copy\n",
    "import copy"
   ]
  },
  {
   "cell_type": "markdown",
   "metadata": {},
   "source": [
    "### 0.1.2. local imports"
   ]
  },
  {
   "cell_type": "code",
   "execution_count": 3,
   "metadata": {},
   "outputs": [],
   "source": [
    "sys.path.append(os.path.join(Path.home(), 'pylcaio', 'src')) # required for local import of pylcaio\n",
    "import pylcaio"
   ]
  },
  {
   "cell_type": "markdown",
   "metadata": {},
   "source": [
    "## 0.2. file paths\n",
    "### 0.2.1. directories"
   ]
  },
  {
   "cell_type": "code",
   "execution_count": 4,
   "metadata": {},
   "outputs": [],
   "source": [
    "%%capture\n",
    "print(path_dir_databases_pickle := os.path.join(Path.home(), 'hybridization_data/databases_pickle'))\n",
    "print(path_dir_databases_hybrid := os.path.join(Path.home(), 'hybridization_data/databases_hybrid'))"
   ]
  },
  {
   "cell_type": "markdown",
   "metadata": {},
   "source": [
    "### 0.2.2. databases"
   ]
  },
  {
   "cell_type": "code",
   "execution_count": 5,
   "metadata": {},
   "outputs": [],
   "source": [
    "%%capture\n",
    "# Exiobase\n",
    "print(path_file_exiobase := os.path.join(path_dir_databases_pickle, 'exiobase_monetary_pxp_2012.pickle'))\n",
    "# Ecoinvent\n",
    "print(path_file_ecoinvent := os.path.join(path_dir_databases_pickle, 'ecoinvent_3_5_cutoffPandas_symmNorm.gz.pickle'))\n",
    "# Hybrid\n",
    "print(name_file_hybrid := 'hybrid_ecoinvent_3_5_exiobase_monetary_pxp_2012.pickle')\n",
    "print(path_file_hybrid := os.path.join(path_dir_databases_hybrid, name_file_hybrid))"
   ]
  },
  {
   "cell_type": "markdown",
   "metadata": {},
   "source": [
    "## 0.3. load `pickle` files"
   ]
  },
  {
   "cell_type": "code",
   "execution_count": 6,
   "metadata": {},
   "outputs": [],
   "source": [
    "with gzip.open(path_file_ecoinvent, 'rb') as filestream:\n",
    "    ecoinvent: dict = pd.read_pickle(filestream)"
   ]
  },
  {
   "cell_type": "code",
   "execution_count": 7,
   "metadata": {},
   "outputs": [],
   "source": [
    "with open(path_file_exiobase, 'rb') as filestream:\n",
    "    exiobase: pymrio.core.mriosystem.IOSystem = pd.read_pickle(filestream)"
   ]
  },
  {
   "cell_type": "markdown",
   "metadata": {},
   "source": [
    "## 1.1. `pylcaio` hybridization"
   ]
  },
  {
   "cell_type": "markdown",
   "metadata": {},
   "source": [
    "### 1.1.1. hybridization"
   ]
  },
  {
   "cell_type": "code",
   "execution_count": 8,
   "metadata": {},
   "outputs": [],
   "source": [
    "database_loader: pylcaio.DatabaseLoader  = pylcaio.DatabaseLoader(\n",
    "    lca_database_processed = ecoinvent,\n",
    "    io_database_processed = exiobase,\n",
    "    lca_database_name_and_version = 'ecoinvent3.5',\n",
    "    io_database_name_and_version = 'exiobase3'\n",
    ")"
   ]
  },
  {
   "cell_type": "code",
   "execution_count": 9,
   "metadata": {},
   "outputs": [
    {
     "name": "stdout",
     "output_type": "stream",
     "text": [
      "No path for the capital folder was provided. Capitals will not be endogenized\n"
     ]
    }
   ],
   "source": [
    "lcaio_object: pylcaio.LCAIO = database_loader.combine_ecoinvent_exiobase(\n",
    "    complete_extensions = False,\n",
    "    impact_world = False,\n",
    "    regionalized = False\n",
    ")"
   ]
  },
  {
   "cell_type": "code",
   "execution_count": 10,
   "metadata": {},
   "outputs": [
    {
     "name": "stdout",
     "output_type": "stream",
     "text": [
      "Indentifying Rest of World regions...\n",
      "Updating electricity prices...\n",
      "Calculating productions volumes...\n",
      "Adjusting low production volume processes...\n",
      "Extending inventory...\n",
      "Building H matrix...\n"
     ]
    },
    {
     "name": "stderr",
     "output_type": "stream",
     "text": [
      "/home/weinold/pylcaio/src/pylcaio.py:874: FutureWarning: The frame.append method is deprecated and will be removed from pandas in a future version. Use pandas.concat instead.\n",
      "  self.H = self.H.append([self.H] * (self.number_of_countries_IO + self.number_of_RoW_IO - 1))\n"
     ]
    },
    {
     "name": "stdout",
     "output_type": "stream",
     "text": [
      "Building geography concordance...\n",
      "Filter H matrix...\n",
      "Build Cut-off matrix...\n",
      "Add processes with 'priceless scaling' to Cut-off matrix...\n"
     ]
    }
   ],
   "source": [
    "lcaio_object = copy.deepcopy(lcaio_object) # to avoid errors when re-running cells\n",
    "lcaio_object.hybridize(\n",
    "    price_neutral_cut_off_matrix = 'STAM',\n",
    "    capitals = False,\n",
    "    priceless_scaling = True\n",
    ")"
   ]
  },
  {
   "cell_type": "markdown",
   "metadata": {},
   "source": [
    "### 1.1.2. save files"
   ]
  },
  {
   "cell_type": "code",
   "execution_count": 11,
   "metadata": {},
   "outputs": [
    {
     "name": "stdout",
     "output_type": "stream",
     "text": [
      "Database saved to /home/weinold/hybridization_data/databases_hybrid/hybrid_ecoinvent_3_5_exiobase_monetary_pxp_2012.pickle\n",
      "Description file saved to /home/weinold/hybridization_data/databases_hybrid/description_hybrid_ecoinvent_3_5_exiobase_monetary_pxp_2012.txt\n"
     ]
    }
   ],
   "source": [
    "lcaio_object.save_system( # this method must be used, otherwise pickle files cannot be read correcly by pylcaio.Analysis\n",
    "    file_name = name_file_hybrid,\n",
    "    file_path = path_dir_databases_hybrid,\n",
    "    format = 'pickle'\n",
    ")"
   ]
  },
  {
   "cell_type": "markdown",
   "metadata": {},
   "source": [
    "## X.1. investigation"
   ]
  },
  {
   "cell_type": "code",
   "execution_count": 12,
   "metadata": {},
   "outputs": [
    {
     "data": {
      "text/html": [
       "<div>\n",
       "<style scoped>\n",
       "    .dataframe tbody tr th:only-of-type {\n",
       "        vertical-align: middle;\n",
       "    }\n",
       "\n",
       "    .dataframe tbody tr th {\n",
       "        vertical-align: top;\n",
       "    }\n",
       "\n",
       "    .dataframe thead th {\n",
       "        text-align: right;\n",
       "    }\n",
       "</style>\n",
       "<table border=\"1\" class=\"dataframe\">\n",
       "  <thead>\n",
       "    <tr style=\"text-align: right;\">\n",
       "      <th></th>\n",
       "    </tr>\n",
       "  </thead>\n",
       "  <tbody>\n",
       "  </tbody>\n",
       "</table>\n",
       "</div>"
      ],
      "text/plain": [
       "Empty DataFrame\n",
       "Columns: []\n",
       "Index: []"
      ]
     },
     "execution_count": 12,
     "metadata": {},
     "output_type": "execute_result"
    }
   ],
   "source": [
    "lcaio_object.K_io"
   ]
  },
  {
   "cell_type": "code",
   "execution_count": 13,
   "metadata": {},
   "outputs": [
    {
     "data": {
      "text/html": [
       "<div>\n",
       "<style scoped>\n",
       "    .dataframe tbody tr th:only-of-type {\n",
       "        vertical-align: middle;\n",
       "    }\n",
       "\n",
       "    .dataframe tbody tr th {\n",
       "        vertical-align: top;\n",
       "    }\n",
       "\n",
       "    .dataframe thead th {\n",
       "        text-align: right;\n",
       "    }\n",
       "</style>\n",
       "<table border=\"1\" class=\"dataframe\">\n",
       "  <thead>\n",
       "    <tr style=\"text-align: right;\">\n",
       "      <th></th>\n",
       "      <th>method</th>\n",
       "      <th>category</th>\n",
       "      <th>indicator</th>\n",
       "      <th>impact_score_unit</th>\n",
       "    </tr>\n",
       "    <tr>\n",
       "      <th>impact_label</th>\n",
       "      <th></th>\n",
       "      <th></th>\n",
       "      <th></th>\n",
       "      <th></th>\n",
       "    </tr>\n",
       "  </thead>\n",
       "  <tbody>\n",
       "    <tr>\n",
       "      <th>EDIP; environmental impact; global warming, GWP 100a; kg CO2-Eq</th>\n",
       "      <td>EDIP</td>\n",
       "      <td>environmental impact</td>\n",
       "      <td>global warming, GWP 100a</td>\n",
       "      <td>kg CO2-Eq</td>\n",
       "    </tr>\n",
       "    <tr>\n",
       "      <th>EDIP; environmental impact; global warming, GWP 20a; kg CO2-Eq</th>\n",
       "      <td>EDIP</td>\n",
       "      <td>environmental impact</td>\n",
       "      <td>global warming, GWP 20a</td>\n",
       "      <td>kg CO2-Eq</td>\n",
       "    </tr>\n",
       "    <tr>\n",
       "      <th>EDIP; environmental impact; global warming, GWP 500a; kg CO2-Eq</th>\n",
       "      <td>EDIP</td>\n",
       "      <td>environmental impact</td>\n",
       "      <td>global warming, GWP 500a</td>\n",
       "      <td>kg CO2-Eq</td>\n",
       "    </tr>\n",
       "    <tr>\n",
       "      <th>EDIP; environmental impact; photochemical ozone formation, high NOx POCP; kg ethyle.</th>\n",
       "      <td>EDIP</td>\n",
       "      <td>environmental impact</td>\n",
       "      <td>photochemical ozone formation, high NOx POCP</td>\n",
       "      <td>kg ethyle.</td>\n",
       "    </tr>\n",
       "    <tr>\n",
       "      <th>EDIP; environmental impact; photochemical ozone formation, low NOx POCP; kg ethyle.</th>\n",
       "      <td>EDIP</td>\n",
       "      <td>environmental impact</td>\n",
       "      <td>photochemical ozone formation, low NOx POCP</td>\n",
       "      <td>kg ethyle.</td>\n",
       "    </tr>\n",
       "    <tr>\n",
       "      <th>...</th>\n",
       "      <td>...</td>\n",
       "      <td>...</td>\n",
       "      <td>...</td>\n",
       "      <td>...</td>\n",
       "    </tr>\n",
       "    <tr>\n",
       "      <th>selected LCI results; water; BOD; kg</th>\n",
       "      <td>selected LCI results</td>\n",
       "      <td>water</td>\n",
       "      <td>BOD</td>\n",
       "      <td>kg</td>\n",
       "    </tr>\n",
       "    <tr>\n",
       "      <th>EPS 2000; total; emissions into water; ELU</th>\n",
       "      <td>EPS 2000</td>\n",
       "      <td>total</td>\n",
       "      <td>emissions into water</td>\n",
       "      <td>ELU</td>\n",
       "    </tr>\n",
       "    <tr>\n",
       "      <th>selected LCI results, additional; water, radioactive; tritium; kBq</th>\n",
       "      <td>selected LCI results, additional</td>\n",
       "      <td>water, radioactive</td>\n",
       "      <td>tritium</td>\n",
       "      <td>kBq</td>\n",
       "    </tr>\n",
       "    <tr>\n",
       "      <th>ecological scarcity 2006; total; emission into groundwater; UBP</th>\n",
       "      <td>ecological scarcity 2006</td>\n",
       "      <td>total</td>\n",
       "      <td>emission into groundwater</td>\n",
       "      <td>UBP</td>\n",
       "    </tr>\n",
       "    <tr>\n",
       "      <th>selected LCI results, additional; water, radioactive; radium; kBq</th>\n",
       "      <td>selected LCI results, additional</td>\n",
       "      <td>water, radioactive</td>\n",
       "      <td>radium</td>\n",
       "      <td>kBq</td>\n",
       "    </tr>\n",
       "  </tbody>\n",
       "</table>\n",
       "<p>879 rows × 4 columns</p>\n",
       "</div>"
      ],
      "text/plain": [
       "                                                                              method  \\\n",
       "impact_label                                                                           \n",
       "EDIP; environmental impact; global warming, GWP...                              EDIP   \n",
       "EDIP; environmental impact; global warming, GWP...                              EDIP   \n",
       "EDIP; environmental impact; global warming, GWP...                              EDIP   \n",
       "EDIP; environmental impact; photochemical ozone...                              EDIP   \n",
       "EDIP; environmental impact; photochemical ozone...                              EDIP   \n",
       "...                                                                              ...   \n",
       "selected LCI results; water; BOD; kg                            selected LCI results   \n",
       "EPS 2000; total; emissions into water; ELU                                  EPS 2000   \n",
       "selected LCI results, additional; water, radioa...  selected LCI results, additional   \n",
       "ecological scarcity 2006; total; emission into ...          ecological scarcity 2006   \n",
       "selected LCI results, additional; water, radioa...  selected LCI results, additional   \n",
       "\n",
       "                                                                category  \\\n",
       "impact_label                                                               \n",
       "EDIP; environmental impact; global warming, GWP...  environmental impact   \n",
       "EDIP; environmental impact; global warming, GWP...  environmental impact   \n",
       "EDIP; environmental impact; global warming, GWP...  environmental impact   \n",
       "EDIP; environmental impact; photochemical ozone...  environmental impact   \n",
       "EDIP; environmental impact; photochemical ozone...  environmental impact   \n",
       "...                                                                  ...   \n",
       "selected LCI results; water; BOD; kg                               water   \n",
       "EPS 2000; total; emissions into water; ELU                         total   \n",
       "selected LCI results, additional; water, radioa...    water, radioactive   \n",
       "ecological scarcity 2006; total; emission into ...                 total   \n",
       "selected LCI results, additional; water, radioa...    water, radioactive   \n",
       "\n",
       "                                                                                       indicator  \\\n",
       "impact_label                                                                                       \n",
       "EDIP; environmental impact; global warming, GWP...                      global warming, GWP 100a   \n",
       "EDIP; environmental impact; global warming, GWP...                       global warming, GWP 20a   \n",
       "EDIP; environmental impact; global warming, GWP...                      global warming, GWP 500a   \n",
       "EDIP; environmental impact; photochemical ozone...  photochemical ozone formation, high NOx POCP   \n",
       "EDIP; environmental impact; photochemical ozone...   photochemical ozone formation, low NOx POCP   \n",
       "...                                                                                          ...   \n",
       "selected LCI results; water; BOD; kg                                                         BOD   \n",
       "EPS 2000; total; emissions into water; ELU                                  emissions into water   \n",
       "selected LCI results, additional; water, radioa...                                       tritium   \n",
       "ecological scarcity 2006; total; emission into ...                     emission into groundwater   \n",
       "selected LCI results, additional; water, radioa...                                        radium   \n",
       "\n",
       "                                                   impact_score_unit  \n",
       "impact_label                                                          \n",
       "EDIP; environmental impact; global warming, GWP...         kg CO2-Eq  \n",
       "EDIP; environmental impact; global warming, GWP...         kg CO2-Eq  \n",
       "EDIP; environmental impact; global warming, GWP...         kg CO2-Eq  \n",
       "EDIP; environmental impact; photochemical ozone...        kg ethyle.  \n",
       "EDIP; environmental impact; photochemical ozone...        kg ethyle.  \n",
       "...                                                              ...  \n",
       "selected LCI results; water; BOD; kg                              kg  \n",
       "EPS 2000; total; emissions into water; ELU                       ELU  \n",
       "selected LCI results, additional; water, radioa...               kBq  \n",
       "ecological scarcity 2006; total; emission into ...               UBP  \n",
       "selected LCI results, additional; water, radioa...               kBq  \n",
       "\n",
       "[879 rows x 4 columns]"
      ]
     },
     "execution_count": 13,
     "metadata": {},
     "output_type": "execute_result"
    }
   ],
   "source": [
    "lcaio_object.IMP"
   ]
  },
  {
   "cell_type": "code",
   "execution_count": 14,
   "metadata": {},
   "outputs": [
    {
     "data": {
      "text/html": [
       "<div>\n",
       "<style scoped>\n",
       "    .dataframe tbody tr th:only-of-type {\n",
       "        vertical-align: middle;\n",
       "    }\n",
       "\n",
       "    .dataframe tbody tr th {\n",
       "        vertical-align: top;\n",
       "    }\n",
       "\n",
       "    .dataframe thead th {\n",
       "        text-align: right;\n",
       "    }\n",
       "</style>\n",
       "<table border=\"1\" class=\"dataframe\">\n",
       "  <thead>\n",
       "    <tr style=\"text-align: right;\">\n",
       "      <th></th>\n",
       "      <th>id</th>\n",
       "      <th>name</th>\n",
       "      <th>unit</th>\n",
       "      <th>cas</th>\n",
       "      <th>comp</th>\n",
       "      <th>subcomp</th>\n",
       "    </tr>\n",
       "    <tr>\n",
       "      <th>id</th>\n",
       "      <th></th>\n",
       "      <th></th>\n",
       "      <th></th>\n",
       "      <th></th>\n",
       "      <th></th>\n",
       "      <th></th>\n",
       "    </tr>\n",
       "  </thead>\n",
       "  <tbody>\n",
       "    <tr>\n",
       "      <th>d21da01e-f96f-4db5-9746-7b70db8a1f2c</th>\n",
       "      <td>d21da01e-f96f-4db5-9746-7b70db8a1f2c</td>\n",
       "      <td>1,4-Butanediol</td>\n",
       "      <td>kg</td>\n",
       "      <td>000110-63-4</td>\n",
       "      <td>air</td>\n",
       "      <td>low population density, long-term</td>\n",
       "    </tr>\n",
       "    <tr>\n",
       "      <th>90653a29-2f53-4b1b-88bd-9ae2fe64a8d6</th>\n",
       "      <td>90653a29-2f53-4b1b-88bd-9ae2fe64a8d6</td>\n",
       "      <td>1,4-Butanediol</td>\n",
       "      <td>kg</td>\n",
       "      <td>000110-63-4</td>\n",
       "      <td>air</td>\n",
       "      <td>lower stratosphere + upper troposphere</td>\n",
       "    </tr>\n",
       "    <tr>\n",
       "      <th>83bafcf1-2f2e-4a32-89a0-f1f16ca10626</th>\n",
       "      <td>83bafcf1-2f2e-4a32-89a0-f1f16ca10626</td>\n",
       "      <td>1,4-Butanediol</td>\n",
       "      <td>kg</td>\n",
       "      <td>000110-63-4</td>\n",
       "      <td>air</td>\n",
       "      <td>non-urban air or from high stacks</td>\n",
       "    </tr>\n",
       "    <tr>\n",
       "      <th>09db39be-d9a6-4fc3-8d25-1f80b23e9131</th>\n",
       "      <td>09db39be-d9a6-4fc3-8d25-1f80b23e9131</td>\n",
       "      <td>1,4-Butanediol</td>\n",
       "      <td>kg</td>\n",
       "      <td>000110-63-4</td>\n",
       "      <td>air</td>\n",
       "      <td>unspecified</td>\n",
       "    </tr>\n",
       "    <tr>\n",
       "      <th>38a622c6-f086-4763-a952-7c6b3b1c42ba</th>\n",
       "      <td>38a622c6-f086-4763-a952-7c6b3b1c42ba</td>\n",
       "      <td>1,4-Butanediol</td>\n",
       "      <td>kg</td>\n",
       "      <td>000110-63-4</td>\n",
       "      <td>air</td>\n",
       "      <td>urban air close to ground</td>\n",
       "    </tr>\n",
       "    <tr>\n",
       "      <th>...</th>\n",
       "      <td>...</td>\n",
       "      <td>...</td>\n",
       "      <td>...</td>\n",
       "      <td>...</td>\n",
       "      <td>...</td>\n",
       "      <td>...</td>\n",
       "    </tr>\n",
       "    <tr>\n",
       "      <th>e9eb024b-6fba-4dce-b280-9415b2ba4695</th>\n",
       "      <td>e9eb024b-6fba-4dce-b280-9415b2ba4695</td>\n",
       "      <td>t-Butylamine</td>\n",
       "      <td>kg</td>\n",
       "      <td>000075-64-9</td>\n",
       "      <td>water</td>\n",
       "      <td>ground-</td>\n",
       "    </tr>\n",
       "    <tr>\n",
       "      <th>d0aaa60f-40d9-4c12-a486-954333aa549f</th>\n",
       "      <td>d0aaa60f-40d9-4c12-a486-954333aa549f</td>\n",
       "      <td>t-Butylamine</td>\n",
       "      <td>kg</td>\n",
       "      <td>000075-64-9</td>\n",
       "      <td>water</td>\n",
       "      <td>ground-, long-term</td>\n",
       "    </tr>\n",
       "    <tr>\n",
       "      <th>cc415ec5-ef9b-4239-b423-32906818e457</th>\n",
       "      <td>cc415ec5-ef9b-4239-b423-32906818e457</td>\n",
       "      <td>t-Butylamine</td>\n",
       "      <td>kg</td>\n",
       "      <td>000075-64-9</td>\n",
       "      <td>water</td>\n",
       "      <td>ocean</td>\n",
       "    </tr>\n",
       "    <tr>\n",
       "      <th>a66849fd-060a-40b5-bd9d-04caa632b75c</th>\n",
       "      <td>a66849fd-060a-40b5-bd9d-04caa632b75c</td>\n",
       "      <td>t-Butylamine</td>\n",
       "      <td>kg</td>\n",
       "      <td>000075-64-9</td>\n",
       "      <td>water</td>\n",
       "      <td>surface water</td>\n",
       "    </tr>\n",
       "    <tr>\n",
       "      <th>365dffb2-9e7a-44fa-a512-8c851fc7094c</th>\n",
       "      <td>365dffb2-9e7a-44fa-a512-8c851fc7094c</td>\n",
       "      <td>t-Butylamine</td>\n",
       "      <td>kg</td>\n",
       "      <td>000075-64-9</td>\n",
       "      <td>water</td>\n",
       "      <td>unspecified</td>\n",
       "    </tr>\n",
       "  </tbody>\n",
       "</table>\n",
       "<p>4243 rows × 6 columns</p>\n",
       "</div>"
      ],
      "text/plain": [
       "                                                                        id  \\\n",
       "id                                                                           \n",
       "d21da01e-f96f-4db5-9746-7b70db8a1f2c  d21da01e-f96f-4db5-9746-7b70db8a1f2c   \n",
       "90653a29-2f53-4b1b-88bd-9ae2fe64a8d6  90653a29-2f53-4b1b-88bd-9ae2fe64a8d6   \n",
       "83bafcf1-2f2e-4a32-89a0-f1f16ca10626  83bafcf1-2f2e-4a32-89a0-f1f16ca10626   \n",
       "09db39be-d9a6-4fc3-8d25-1f80b23e9131  09db39be-d9a6-4fc3-8d25-1f80b23e9131   \n",
       "38a622c6-f086-4763-a952-7c6b3b1c42ba  38a622c6-f086-4763-a952-7c6b3b1c42ba   \n",
       "...                                                                    ...   \n",
       "e9eb024b-6fba-4dce-b280-9415b2ba4695  e9eb024b-6fba-4dce-b280-9415b2ba4695   \n",
       "d0aaa60f-40d9-4c12-a486-954333aa549f  d0aaa60f-40d9-4c12-a486-954333aa549f   \n",
       "cc415ec5-ef9b-4239-b423-32906818e457  cc415ec5-ef9b-4239-b423-32906818e457   \n",
       "a66849fd-060a-40b5-bd9d-04caa632b75c  a66849fd-060a-40b5-bd9d-04caa632b75c   \n",
       "365dffb2-9e7a-44fa-a512-8c851fc7094c  365dffb2-9e7a-44fa-a512-8c851fc7094c   \n",
       "\n",
       "                                                name unit          cas   comp  \\\n",
       "id                                                                              \n",
       "d21da01e-f96f-4db5-9746-7b70db8a1f2c  1,4-Butanediol   kg  000110-63-4    air   \n",
       "90653a29-2f53-4b1b-88bd-9ae2fe64a8d6  1,4-Butanediol   kg  000110-63-4    air   \n",
       "83bafcf1-2f2e-4a32-89a0-f1f16ca10626  1,4-Butanediol   kg  000110-63-4    air   \n",
       "09db39be-d9a6-4fc3-8d25-1f80b23e9131  1,4-Butanediol   kg  000110-63-4    air   \n",
       "38a622c6-f086-4763-a952-7c6b3b1c42ba  1,4-Butanediol   kg  000110-63-4    air   \n",
       "...                                              ...  ...          ...    ...   \n",
       "e9eb024b-6fba-4dce-b280-9415b2ba4695    t-Butylamine   kg  000075-64-9  water   \n",
       "d0aaa60f-40d9-4c12-a486-954333aa549f    t-Butylamine   kg  000075-64-9  water   \n",
       "cc415ec5-ef9b-4239-b423-32906818e457    t-Butylamine   kg  000075-64-9  water   \n",
       "a66849fd-060a-40b5-bd9d-04caa632b75c    t-Butylamine   kg  000075-64-9  water   \n",
       "365dffb2-9e7a-44fa-a512-8c851fc7094c    t-Butylamine   kg  000075-64-9  water   \n",
       "\n",
       "                                                                     subcomp  \n",
       "id                                                                            \n",
       "d21da01e-f96f-4db5-9746-7b70db8a1f2c       low population density, long-term  \n",
       "90653a29-2f53-4b1b-88bd-9ae2fe64a8d6  lower stratosphere + upper troposphere  \n",
       "83bafcf1-2f2e-4a32-89a0-f1f16ca10626       non-urban air or from high stacks  \n",
       "09db39be-d9a6-4fc3-8d25-1f80b23e9131                             unspecified  \n",
       "38a622c6-f086-4763-a952-7c6b3b1c42ba               urban air close to ground  \n",
       "...                                                                      ...  \n",
       "e9eb024b-6fba-4dce-b280-9415b2ba4695                                 ground-  \n",
       "d0aaa60f-40d9-4c12-a486-954333aa549f                      ground-, long-term  \n",
       "cc415ec5-ef9b-4239-b423-32906818e457                                   ocean  \n",
       "a66849fd-060a-40b5-bd9d-04caa632b75c                           surface water  \n",
       "365dffb2-9e7a-44fa-a512-8c851fc7094c                             unspecified  \n",
       "\n",
       "[4243 rows x 6 columns]"
      ]
     },
     "execution_count": 14,
     "metadata": {},
     "output_type": "execute_result"
    }
   ],
   "source": [
    "ecoinvent['STR']"
   ]
  },
  {
   "cell_type": "code",
   "execution_count": 15,
   "metadata": {},
   "outputs": [
    {
     "data": {
      "text/plain": [
       "dict_keys(['STR', 'IMP', 'PRO_header', 'STR_header', 'IMP_header', 'processingdata'])"
      ]
     },
     "execution_count": 15,
     "metadata": {},
     "output_type": "execute_result"
    }
   ],
   "source": [
    "ecoinvent.keys()"
   ]
  }
 ],
 "metadata": {
  "kernelspec": {
   "display_name": "Python 3.10.6 ('hybridization': conda)",
   "language": "python",
   "name": "python3"
  },
  "language_info": {
   "codemirror_mode": {
    "name": "ipython",
    "version": 3
   },
   "file_extension": ".py",
   "mimetype": "text/x-python",
   "name": "python",
   "nbconvert_exporter": "python",
   "pygments_lexer": "ipython3",
   "version": "3.10.6"
  },
  "orig_nbformat": 4,
  "vscode": {
   "interpreter": {
    "hash": "238e8c5baa9133d16a7cbc63d75f9f668e90e2677c7196b282498abda24b1689"
   }
  }
 },
 "nbformat": 4,
 "nbformat_minor": 2
}
