{
 "cells": [
  {
   "cell_type": "code",
   "execution_count": 1,
   "id": "a9eca437",
   "metadata": {},
   "outputs": [],
   "source": [
    "import bw2data as bd\n",
    "import bw2calc as bc\n",
    "import bw_processing as bwp\n",
    "from pathlib import Path\n",
    "from fs.zipfs import ZipFS\n",
    "import matplotlib.pyplot as plt\n",
    "\n",
    "# Electricity data\n",
    "fp_entso_ts = \"data/entso-timeseries.zip\"\n",
    "\n",
    "bw_project = \"Correlated and dependent sampling\"\n",
    "bd.projects.set_current(bw_project)"
   ]
  },
  {
   "cell_type": "code",
   "execution_count": 2,
   "id": "edaecfb2",
   "metadata": {},
   "outputs": [
    {
     "data": {
      "text/plain": [
       "Databases dictionary with 3 object(s):\n",
       "\tbiosphere3\n",
       "\tecoinvent 3.8 cutoff\n",
       "\tswiss residual electricity mix"
      ]
     },
     "execution_count": 2,
     "metadata": {},
     "output_type": "execute_result"
    }
   ],
   "source": [
    "# # Restore BW project\n",
    "# bi.restore_project_directory(f\"data/brightway2-project-Correlated and dependent sampling-backup.24-October-2022-08-13AM.tar.gz\")\n",
    "bd.databases"
   ]
  },
  {
   "cell_type": "markdown",
   "id": "2bf00c1b",
   "metadata": {},
   "source": [
    "# Load ENTSO-E timeseries datapackage"
   ]
  },
  {
   "cell_type": "code",
   "execution_count": 3,
   "id": "eee44fee",
   "metadata": {},
   "outputs": [],
   "source": [
    "# Note that these timeseries are given on an hourly basis for the years 2019, 2020 (leap year) and 2021. \n",
    "# First datapoint corresponds to 01.01.2019 00:00, and the last - to 31.12.2021 23:00.\n",
    "dp_entso_ts = bwp.load_datapackage(ZipFS(fp_entso_ts))\n",
    "\n",
    "data = dp_entso_ts.get_resource(\"timeseries ENTSO electricity values.data\")[0]\n",
    "indices = dp_entso_ts.get_resource(\"timeseries ENTSO electricity values.indices\")[0]\n",
    "flip = dp_entso_ts.get_resource(\"timeseries ENTSO electricity values.flip\")[0]"
   ]
  },
  {
   "cell_type": "markdown",
   "id": "ee29fce0",
   "metadata": {},
   "source": [
    "# 1. All timeseries data VS data for only one country"
   ]
  },
  {
   "cell_type": "markdown",
   "id": "7b09d0e7",
   "metadata": {},
   "source": [
    "## Select only one country"
   ]
  },
  {
   "cell_type": "code",
   "execution_count": 4,
   "id": "8e38eaf0",
   "metadata": {},
   "outputs": [
    {
     "data": {
      "text/plain": [
       "['market for electricity, high voltage' (kilowatt hour, BE, None),\n",
       " 'market for electricity, low voltage' (kilowatt hour, BE, None),\n",
       " 'market for electricity, medium voltage' (kilowatt hour, BE, None)]"
      ]
     },
     "execution_count": 4,
     "metadata": {},
     "output_type": "execute_result"
    }
   ],
   "source": [
    "ei = bd.Database(\"ecoinvent 3.8 cutoff\")\n",
    "country = \"BE\"\n",
    "markets = [act for act in ei \n",
    "           if \"market for electricity\" in act['name'] \n",
    "           and \"waste\" not in act['name']\n",
    "           and country==act['location']\n",
    "          ]\n",
    "markets"
   ]
  },
  {
   "cell_type": "code",
   "execution_count": 5,
   "id": "ae61a825",
   "metadata": {},
   "outputs": [],
   "source": [
    "# Create a mask\n",
    "mask = np.zeros(len(indices), dtype=bool)\n",
    "for m in markets:\n",
    "    mask = np.logical_or(mask, indices['col']==m.id)"
   ]
  },
  {
   "cell_type": "code",
   "execution_count": 6,
   "id": "ca5550f3",
   "metadata": {},
   "outputs": [],
   "source": [
    "# Create a datapackage for one country\n",
    "dp_entso_ts_one_country = bwp.create_datapackage(sequential=True)\n",
    "dp_entso_ts_one_country.add_persistent_array(\n",
    "    matrix='technosphere_matrix',\n",
    "    indices_array=indices[mask],\n",
    "    data_array=data[mask],\n",
    "    flip_array=flip[mask],\n",
    ")"
   ]
  },
  {
   "cell_type": "markdown",
   "id": "7b8ca1cb",
   "metadata": {},
   "source": [
    "## Run Monte Carlo for the two cases"
   ]
  },
  {
   "cell_type": "code",
   "execution_count": 18,
   "id": "bf3c5ea6",
   "metadata": {},
   "outputs": [],
   "source": [
    "ei = bd.Database(\"ecoinvent 3.8 cutoff\")\n",
    "\n",
    "ch_low = [\n",
    "    act for act in ei if act['name'] == \"market for electricity, low voltage\" and \"CH\" == act['location']\n",
    "][0]\n",
    "ipcc = ('IPCC 2013', 'climate change', 'GWP 100a')\n",
    "\n",
    "fu, data_objs, _ = bd.prepare_lca_inputs({ch_low: 1}, method=ipcc, remapping=False)\n",
    "\n",
    "iterations = 40\n",
    "seed = 5555"
   ]
  },
  {
   "cell_type": "code",
   "execution_count": 19,
   "id": "17379b8f",
   "metadata": {},
   "outputs": [
    {
     "name": "stdout",
     "output_type": "stream",
     "text": [
      "CPU times: user 2min 17s, sys: 3.97 s, total: 2min 21s\n",
      "Wall time: 30.1 s\n"
     ]
    }
   ],
   "source": [
    "%%time\n",
    "# All time series\n",
    "lca = bc.LCA(\n",
    "    demand=fu, \n",
    "    data_objs=(\n",
    "        data_objs + [dp_entso_ts]\n",
    "    ),\n",
    "    use_arrays=True,\n",
    "    use_distributions=True,\n",
    "    seed_override=seed,\n",
    ")\n",
    "lca.lci()\n",
    "lca.lcia()\n",
    "\n",
    "scores = [lca.score for _ in zip(range(iterations), lca)]"
   ]
  },
  {
   "cell_type": "code",
   "execution_count": 20,
   "id": "0acab8c7",
   "metadata": {},
   "outputs": [
    {
     "name": "stdout",
     "output_type": "stream",
     "text": [
      "CPU times: user 2min 14s, sys: 3.78 s, total: 2min 18s\n",
      "Wall time: 29.3 s\n"
     ]
    }
   ],
   "source": [
    "%%time\n",
    "# Only one country\n",
    "lca_country = bc.LCA(\n",
    "    demand=fu, \n",
    "    data_objs=(\n",
    "        data_objs + [dp_entso_ts_one_country]\n",
    "    ),\n",
    "    use_arrays=True,\n",
    "    use_distributions=True,\n",
    "    seed_override=seed,\n",
    ")\n",
    "lca_country.lci()\n",
    "lca_country.lcia()\n",
    "\n",
    "scores_country = [lca_country.score for _ in zip(range(iterations), lca_country)]"
   ]
  },
  {
   "cell_type": "markdown",
   "id": "0bbfcee5",
   "metadata": {},
   "source": [
    "## Plot LCIA scores for both cases"
   ]
  },
  {
   "cell_type": "code",
   "execution_count": 21,
   "id": "075db8f4",
   "metadata": {},
   "outputs": [
    {
     "data": {
      "image/png": "[encoded data removed]",
      "text/plain": [
       "<Figure size 432x288 with 1 Axes>"
      ]
     },
     "metadata": {
      "needs_background": "light"
     },
     "output_type": "display_data"
    }
   ],
   "source": [
    "x = np.arange(iterations)\n",
    "\n",
    "plt.plot(x, scores, \"o-\", label='All ENTSO-E')\n",
    "plt.plot(x, scores_country, 's-', label=f'Only one country: {country}')\n",
    "plt.xlabel('MC iteration')\n",
    "plt.ylabel('LCIA scores')\n",
    "plt.legend(loc=\"upper right\")\n",
    "plt.show()"
   ]
  },
  {
   "cell_type": "markdown",
   "id": "353a5069",
   "metadata": {},
   "source": [
    "# 2. All timeseries data VS data for only spring"
   ]
  },
  {
   "cell_type": "markdown",
   "id": "87d84aff",
   "metadata": {},
   "source": [
    "## Select spring data in all three years"
   ]
  },
  {
   "cell_type": "code",
   "execution_count": 11,
   "id": "3ecfa909",
   "metadata": {},
   "outputs": [
    {
     "data": {
      "text/plain": [
       "True"
      ]
     },
     "execution_count": 11,
     "metadata": {},
     "output_type": "execute_result"
    }
   ],
   "source": [
    "nmonths = 12  # month in one year\n",
    "nhours = 24\n",
    "days_2019 = 365\n",
    "days_2020 = 366  # leap year\n",
    "days_2019 = 365\n",
    "\n",
    "# So here you just need to slice the data properly, and select only March, April and May in all years,\n",
    "# given that different months and years have different number of days\n",
    "nhours_spring = nhours*(31+30+31)\n",
    "spring_start_2019 = nhours*(31+28)\n",
    "spring_start_2020 = nhours*days_2019 + nhours*(31+29)  # leap year\n",
    "spring_start_2021 = nhours*days_2019 + nhours*days_2020 + nhours*(31+28)\n",
    "\n",
    "data_spring = np.hstack([\n",
    "    data[:, spring_start_2019 : spring_start_2019 + nhours_spring],  # spring 2019\n",
    "    data[:, spring_start_2020 : spring_start_2020 + nhours_spring ],  # spring 2020\n",
    "    data[:, spring_start_2021 : spring_start_2021 + nhours_spring],  # spring 2021\n",
    "])\n",
    "data_spring.shape[1] == nhours_spring*3"
   ]
  },
  {
   "cell_type": "code",
   "execution_count": 12,
   "id": "12b4be53",
   "metadata": {},
   "outputs": [],
   "source": [
    "# Create a datapackage for spring\n",
    "dp_spring = bwp.create_datapackage(sequential=True)\n",
    "dp_spring.add_persistent_array(\n",
    "    matrix='technosphere_matrix',\n",
    "    indices_array=indices,\n",
    "    data_array=data_spring,\n",
    "    flip_array=flip,\n",
    ")"
   ]
  },
  {
   "cell_type": "markdown",
   "id": "ba22769b",
   "metadata": {},
   "source": [
    "## Run Monte Carlo for the two cases"
   ]
  },
  {
   "cell_type": "code",
   "execution_count": 13,
   "id": "0ad1cca9",
   "metadata": {},
   "outputs": [
    {
     "name": "stdout",
     "output_type": "stream",
     "text": [
      "CPU times: user 47min 27s, sys: 1min 7s, total: 48min 35s\n",
      "Wall time: 9min 8s\n"
     ]
    }
   ],
   "source": [
    "%%time\n",
    "iterations = 1000\n",
    "\n",
    "# All time series\n",
    "lca = bc.LCA(\n",
    "    demand=fu, \n",
    "    data_objs=(\n",
    "        data_objs + [dp_entso_ts]\n",
    "    ),\n",
    "    use_arrays=True,\n",
    "    use_distributions=True,\n",
    "    seed_override=seed,\n",
    ")\n",
    "lca.lci()\n",
    "lca.lcia()\n",
    "\n",
    "scores = [lca.score for _ in zip(range(iterations), lca)]"
   ]
  },
  {
   "cell_type": "code",
   "execution_count": 14,
   "id": "9958c660",
   "metadata": {},
   "outputs": [
    {
     "name": "stdout",
     "output_type": "stream",
     "text": [
      "CPU times: user 47min 38s, sys: 1min 8s, total: 48min 47s\n",
      "Wall time: 9min 8s\n"
     ]
    }
   ],
   "source": [
    "%%time\n",
    "# Only spring timeseries\n",
    "lca_spring = bc.LCA(\n",
    "    demand=fu, \n",
    "    data_objs=(\n",
    "        data_objs + [dp_spring]\n",
    "    ),\n",
    "    use_arrays=True,\n",
    "    use_distributions=True,\n",
    "    seed_override=seed,\n",
    ")\n",
    "lca_spring.lci()\n",
    "lca_spring.lcia()\n",
    "\n",
    "scores_spring = [lca_spring.score for _ in zip(range(iterations), lca_spring)]"
   ]
  },
  {
   "cell_type": "markdown",
   "id": "5a91ea04",
   "metadata": {},
   "source": [
    "# Plot histograms of LCIA scores for both cases"
   ]
  },
  {
   "cell_type": "code",
   "execution_count": 15,
   "id": "447161ce",
   "metadata": {},
   "outputs": [
    {
     "data": {
      "text/plain": [
       "<matplotlib.legend.Legend at 0x11ee825c0>"
      ]
     },
     "execution_count": 15,
     "metadata": {},
     "output_type": "execute_result"
    },
    {
     "data": {
      "image/png": "[encoded data removed]",
      "text/plain": [
       "<Figure size 432x288 with 1 Axes>"
      ]
     },
     "metadata": {
      "needs_background": "light"
     },
     "output_type": "display_data"
    }
   ],
   "source": [
    "num_bins = 60\n",
    "\n",
    "bins = np.linspace(min(scores + scores_spring), max(scores + scores_spring), num_bins, endpoint=True)\n",
    "width = (bins[1]-bins[0])*0.8\n",
    "midbins = (bins[1:]+bins[:-1])/2\n",
    "\n",
    "freq_all, _ = np.histogram(scores, bins=bins, density=False)\n",
    "freq_spr, _ = np.histogram(scores_spring, bins=bins, density=False)\n",
    "\n",
    "plt.bar(midbins, freq_all, width=width, label=\"All timeseries data\")\n",
    "plt.bar(midbins, freq_spr, width=width, label=\"Spring data\")\n",
    "plt.ylabel('LCIA scores')\n",
    "plt.ylabel('Frequency')\n",
    "plt.legend(loc=\"upper right\")"
   ]
  },
  {
   "cell_type": "code",
   "execution_count": null,
   "id": "1f25d457",
   "metadata": {},
   "outputs": [],
   "source": []
  },
  {
   "cell_type": "code",
   "execution_count": null,
   "id": "39a391c8",
   "metadata": {},
   "outputs": [],
   "source": []
  },
  {
   "cell_type": "code",
   "execution_count": null,
   "id": "dcf900fe",
   "metadata": {
    "scrolled": true
   },
   "outputs": [],
   "source": []
  }
 ],
 "metadata": {
  "kernelspec": {
   "display_name": "Python 3 (ipykernel)",
   "language": "python",
   "name": "python3"
  },
  "language_info": {
   "codemirror_mode": {
    "name": "ipython",
    "version": 3
   },
   "file_extension": ".py",
   "mimetype": "text/x-python",
   "name": "python",
   "nbconvert_exporter": "python",
   "pygments_lexer": "ipython3",
   "version": "3.10.6"
  },
  "varInspector": {
   "cols": {
    "lenName": 16,
    "lenType": 16,
    "lenVar": 40
   },
   "kernels_config": {
    "python": {
     "delete_cmd_postfix": "",
     "delete_cmd_prefix": "del ",
     "library": "var_list.py",
     "varRefreshCmd": "print(var_dic_list())"
    },
    "r": {
     "delete_cmd_postfix": ") ",
     "delete_cmd_prefix": "rm(",
     "library": "var_list.r",
     "varRefreshCmd": "cat(var_dic_list()) "
    }
   },
   "types_to_exclude": [
    "module",
    "function",
    "builtin_function_or_method",
    "instance",
    "_Feature"
   ],
   "window_display": false
  }
 },
 "nbformat": 4,
 "nbformat_minor": 5
}
