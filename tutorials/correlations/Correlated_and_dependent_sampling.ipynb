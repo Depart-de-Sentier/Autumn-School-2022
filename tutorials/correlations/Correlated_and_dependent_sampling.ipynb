{
 "cells": [
  {
   "cell_type": "markdown",
   "id": "240f5e2e",
   "metadata": {
    "slideshow": {
     "slide_type": "slide"
    }
   },
   "source": [
    "# Correlated and dependent sampling with datapackages\n",
    "\n",
    "Author: [Aleksandra Kim](https://github.com/aleksandra-kim/)\n",
    "\n",
    "Brightway 2.5 Autumn school\n",
    "\n",
    "Grosshöchstetten, Switzerland, 2022"
   ]
  },
  {
   "cell_type": "markdown",
   "id": "7297e448",
   "metadata": {
    "slideshow": {
     "slide_type": "slide"
    }
   },
   "source": [
    "# Uncertainties in life cycle assessment models\n",
    "\n",
    "<img src=\"unct_propagation.png\" width=1600 />"
   ]
  },
  {
   "cell_type": "markdown",
   "id": "c282163e",
   "metadata": {
    "slideshow": {
     "slide_type": "slide"
    }
   },
   "source": [
    "# Analytical uncertainty propagation\n",
    "\n",
    "- Variance of the output can be analytically derived knowing variances of the inputs, covariances between the inputs, and model structure.\n",
    "- Is computationally light!\n",
    "- But can only be easily derived for simple model structures.\n",
    "- And is restricted to a single measure - variance."
   ]
  },
  {
   "cell_type": "markdown",
   "id": "98f9d284",
   "metadata": {
    "slideshow": {
     "slide_type": "slide"
    }
   },
   "source": [
    "# Numerical uncertainty propagation\n",
    "- Uses Monte Carlo simulations, so LCA model will be recomputed many times with varying values of model inputs.\n",
    "- Does not assume any model structure.\n",
    "- But is computationally heavy..."
   ]
  },
  {
   "cell_type": "markdown",
   "id": "f3742be3",
   "metadata": {
    "slideshow": {
     "slide_type": "slide"
    }
   },
   "source": [
    "# Either way, it is important to account for correlations and dependencies between model inputs.\n",
    "\n",
    "#### Goal: Learn how numerical uncertainty propagation can be done with datapackages."
   ]
  },
  {
   "cell_type": "markdown",
   "id": "b3bc9b21",
   "metadata": {
    "slideshow": {
     "slide_type": "slide"
    }
   },
   "source": [
    "# Examples\n",
    "\n",
    "- Parameterized inventories\n",
    "- Carbon balancing in combustion processes -> Example\n",
    "- Implicit correlations in measurement data -> Exercise\n",
    "\n",
    "Switch to kernel `bw25`!"
   ]
  },
  {
   "cell_type": "markdown",
   "id": "67770bb3",
   "metadata": {
    "slideshow": {
     "slide_type": "slide"
    }
   },
   "source": [
    "# Contents\n",
    "\n",
    "1. [Monte Carlo simulations with datapackages ](#1_mc)\n",
    "2. [Carbon balancing example](#2_carbon)\n",
    "3. [How to add real measurements as MC samples](#3_entso)"
   ]
  },
  {
   "cell_type": "markdown",
   "id": "4138d32e",
   "metadata": {
    "slideshow": {
     "slide_type": "slide"
    }
   },
   "source": [
    "<a id='1_mc'></a>\n",
    "# 1. Monte Carlo simulations with datapackages \n",
    "\n",
    "There are two ways of running Monte Carlo in the presence of uncertainties in exchanges.\n",
    "\n",
    "Previously we looked at scenario uncertainty, let's now look at parameteric uncertainty (uncertainty in exchanges)."
   ]
  },
  {
   "cell_type": "code",
   "execution_count": null,
   "id": "1ae6b5bc",
   "metadata": {},
   "outputs": [],
   "source": [
    "# Brightway packages\n",
    "import bw2data as bd\n",
    "import bw2io as bi\n",
    "import bw2calc as bc\n",
    "import bw_processing as bwp\n",
    "\n",
    "# General packages\n",
    "import numpy as np\n",
    "import math\n",
    "from collections import defaultdict\n",
    "from fs.zipfs import ZipFS\n",
    "\n",
    "# Visualization\n",
    "import plotly.graph_objects as go\n",
    "\n",
    "# Uncertainties\n",
    "import stats_arrays as sa"
   ]
  },
  {
   "cell_type": "markdown",
   "id": "3106fa9b",
   "metadata": {},
   "source": [
    "## A. Datapackage with uncertainty distributions"
   ]
  },
  {
   "cell_type": "code",
   "execution_count": null,
   "id": "45bed47a",
   "metadata": {
    "slideshow": {
     "slide_type": "slide"
    }
   },
   "outputs": [],
   "source": [
    "# Technosphere\n",
    "t_data = np.array([\n",
    "    1,   # production of natural gas\n",
    "    1,   # production of carbon fibre\n",
    "    1,   # production of bike\n",
    "    237, # input of natural gas\n",
    "    2.5, # input of carbon fibre\n",
    "])\n",
    "t_indices = np.array([\n",
    "    (101, 101), # production of natural gas\n",
    "    (102, 102), # production of carbon fibre\n",
    "    (103, 103), # production of bike\n",
    "    (101, 102), # input of natural gas\n",
    "    (102, 103), # input of carbon fibre\n",
    "    ], \n",
    "    dtype=bwp.INDICES_DTYPE\n",
    ")\n",
    "t_flip = np.array([False, False, False, True, True]) # Numerical sign of the inputs needs to be flipped negative"
   ]
  },
  {
   "cell_type": "code",
   "execution_count": null,
   "id": "9ccbe1d0",
   "metadata": {},
   "outputs": [],
   "source": [
    "# Let's see how distributions can be specified\n",
    "bwp.UNCERTAINTY_DTYPE"
   ]
  },
  {
   "cell_type": "code",
   "execution_count": null,
   "id": "5e86f285",
   "metadata": {},
   "outputs": [],
   "source": [
    "t_distributions = np.array([\n",
    "    (sa.UndefinedUncertainty.id, 1, np.nan, np.nan, np.nan, np.nan, np.nan),\n",
    "    (sa.TriangularUncertainty.id, 1, np.nan, np.nan, 0.95, 1.2, np.nan),\n",
    "    (sa.UniformUncertainty.id, 1, np.nan, np.nan, 0.9, 1.1, np.nan),\n",
    "    (sa.NormalUncertainty.id, 237, 30, np.nan, np.nan, np.nan, np.nan),\n",
    "    (sa.NormalUncertainty.id, 2.5, 0.7, np.nan, np.nan, np.nan, np.nan),\n",
    "    ],\n",
    "    dtype=bwp.UNCERTAINTY_DTYPE\n",
    ")"
   ]
  },
  {
   "cell_type": "code",
   "execution_count": null,
   "id": "1ebcf2fe",
   "metadata": {},
   "outputs": [],
   "source": [
    "# Biosphere\n",
    "b_data = np.array([26.6])\n",
    "b_indices = np.array([\n",
    "    (201, 102), # emission of CO2\n",
    "    ], \n",
    "    dtype=bwp.INDICES_DTYPE\n",
    ")"
   ]
  },
  {
   "cell_type": "code",
   "execution_count": null,
   "id": "7de847a0",
   "metadata": {},
   "outputs": [],
   "source": [
    "# Characterization\n",
    "c_data = np.array([1])\n",
    "c_indices = np.array([\n",
    "    (201, 201), # CF of CO2\n",
    "    ], \n",
    "    dtype=bwp.INDICES_DTYPE\n",
    ")"
   ]
  },
  {
   "cell_type": "code",
   "execution_count": null,
   "id": "9b175bed",
   "metadata": {},
   "outputs": [],
   "source": [
    "dp_distributions = bwp.create_datapackage()\n",
    "dp_distributions.add_persistent_vector(\n",
    "    matrix='technosphere_matrix',\n",
    "    indices_array=t_indices,\n",
    "    data_array=t_data,\n",
    "    distributions_array=t_distributions,\n",
    "    flip_array=t_flip,\n",
    ")\n",
    "dp_distributions.add_persistent_vector(\n",
    "    matrix='biosphere_matrix',\n",
    "    indices_array=b_indices,\n",
    "    data_array=b_data,\n",
    ")\n",
    "dp_distributions.add_persistent_vector(\n",
    "    matrix='characterization_matrix',\n",
    "    indices_array=c_indices,\n",
    "    data_array=c_data,\n",
    ")"
   ]
  },
  {
   "cell_type": "code",
   "execution_count": null,
   "id": "0e209b7b",
   "metadata": {},
   "outputs": [],
   "source": [
    "bike = 103\n",
    "lca_a = bc.LCA(\n",
    "    demand={bike: 1},\n",
    "    data_objs=[dp_distributions],\n",
    "    use_distributions=True,\n",
    "    seed_override=42,\n",
    ")\n",
    "lca_a.lci()\n",
    "lca_a.lcia()\n",
    "lca_a.score"
   ]
  },
  {
   "cell_type": "code",
   "execution_count": null,
   "id": "9ab6cc94",
   "metadata": {},
   "outputs": [],
   "source": [
    "%%time\n",
    "iterations = 200\n",
    "scores_a = np.array([lca_a.score for _ in zip(range(iterations), lca_a)])\n",
    "scores_a"
   ]
  },
  {
   "cell_type": "markdown",
   "id": "be28ab1b",
   "metadata": {},
   "source": [
    "## B. Datapackage with arrays"
   ]
  },
  {
   "cell_type": "code",
   "execution_count": null,
   "id": "43585a4b",
   "metadata": {},
   "outputs": [],
   "source": [
    "t_data_array = np.array([\n",
    "    [1, 1.1, 0.9],   # production of natural gas\n",
    "    [1, 2, 1.5],   # production of carbon fibre\n",
    "    [1, 1, 1],   # production of bike\n",
    "    [230, 240, 200], # input of natural gas\n",
    "    [2.8, 2.7, 2.3], # input of carbon fibre\n",
    "])"
   ]
  },
  {
   "cell_type": "code",
   "execution_count": null,
   "id": "4cb155be",
   "metadata": {},
   "outputs": [],
   "source": [
    "dp_arrays = bwp.create_datapackage(sequential=True, seed=25323)\n",
    "dp_arrays.add_persistent_array(\n",
    "    matrix='technosphere_matrix',\n",
    "    indices_array=t_indices,\n",
    "    data_array=t_data_array,\n",
    "    flip_array=t_flip,\n",
    ")\n",
    "dp_arrays.add_persistent_vector(\n",
    "    matrix='biosphere_matrix',\n",
    "    indices_array=b_indices,\n",
    "    data_array=b_data,\n",
    ")\n",
    "dp_arrays.add_persistent_vector(\n",
    "    matrix='characterization_matrix',\n",
    "    indices_array=c_indices,\n",
    "    data_array=c_data,\n",
    ")"
   ]
  },
  {
   "cell_type": "code",
   "execution_count": null,
   "id": "a6c1cd39",
   "metadata": {},
   "outputs": [],
   "source": [
    "lca_b = bc.LCA(\n",
    "    demand={bike: 1},\n",
    "    data_objs=[dp_arrays],\n",
    "    use_distributions=False,\n",
    "    use_arrays=True,\n",
    "#     seed_override=42,  # Seed should not be used\n",
    ")\n",
    "lca_b.lci()\n",
    "lca_b.lcia()\n",
    "lca_b.score"
   ]
  },
  {
   "cell_type": "code",
   "execution_count": null,
   "id": "5e119842",
   "metadata": {
    "scrolled": true
   },
   "outputs": [],
   "source": [
    "lca_b.keep_first_iteration()\n",
    "iterations = 10\n",
    "scores_b = [lca_b.score for _ in zip(range(iterations), lca_b)]\n",
    "scores_b"
   ]
  },
  {
   "cell_type": "markdown",
   "id": "c9c2698b",
   "metadata": {},
   "source": [
    "## Plot LCIA scores"
   ]
  },
  {
   "cell_type": "code",
   "execution_count": null,
   "id": "a980833a",
   "metadata": {},
   "outputs": [],
   "source": [
    "num_bins = 60\n",
    "bins_ = np.linspace(min(scores_a), max(scores_a), num_bins, endpoint=True)\n",
    "\n",
    "freqa, _ = np.histogram(scores_a, bins=bins_, density=False)\n",
    "\n",
    "fig = go.Figure()\n",
    "fig.add_trace(\n",
    "    go.Bar(\n",
    "        x=bins_,\n",
    "        y=freqa,\n",
    "        name=\"MC with distributions\",\n",
    "        showlegend=True,\n",
    "    )\n",
    ")\n",
    "fig = fig.update_xaxes(title='LCIA scores')\n",
    "fig = fig.update_yaxes(title='Frequency')\n",
    "\n",
    "# fig.show()"
   ]
  },
  {
   "cell_type": "markdown",
   "id": "c2635a45-b237-43e2-9725-a8c8d0fa6531",
   "metadata": {},
   "source": [
    "<img src=\"mc_distribution.png\" width=1600 />"
   ]
  },
  {
   "cell_type": "markdown",
   "id": "a0d96820",
   "metadata": {
    "slideshow": {
     "slide_type": "slide"
    }
   },
   "source": [
    "<a id='2_carbon'></a>\n",
    "# 2. Carbon balancing example"
   ]
  },
  {
   "cell_type": "markdown",
   "id": "8843a172",
   "metadata": {},
   "source": [
    "## BW setup"
   ]
  },
  {
   "cell_type": "code",
   "execution_count": null,
   "id": "13927d5c",
   "metadata": {},
   "outputs": [],
   "source": [
    "bd.projects.set_current('Correlated and dependent sampling')"
   ]
  },
  {
   "cell_type": "code",
   "execution_count": null,
   "id": "64f41259",
   "metadata": {},
   "outputs": [],
   "source": [
    "# === Option 1 ===\n",
    "# Usual BW import\n",
    "\n",
    "# bi.bw2setup()\n",
    "\n",
    "# ei_path = \"/Users/akim/Documents/LCA_files/ecoinvent_38_cutoff/datasets\"\n",
    "# ei_name = \"ecoinvent 3.8 cutoff\"\n",
    "# if ei_name in bd.databases:\n",
    "#     print(\"ecoinvent database already exists\")\n",
    "# else:\n",
    "#     ei = bi.SingleOutputEcospold2Importer(ei_path, ei_name)\n",
    "#     ei.apply_strategies()\n",
    "#     assert ei.all_linked\n",
    "#     ei.write_database()\n",
    "    \n",
    "# # To backup a project use this command. Note that it will save project in your home directory!\n",
    "# bi.backup_project_directory('Correlated and dependent sampling')"
   ]
  },
  {
   "cell_type": "code",
   "execution_count": null,
   "id": "8639d8c9",
   "metadata": {},
   "outputs": [],
   "source": [
    "# === Option 2 ===\n",
    "# Restoring BW project from a backup. This option is faster and what you should be using in this class.\n",
    "\n",
    "bi.restore_project_directory(\n",
    "    f\"/srv/data/brightway2-project-Correlated and dependent sampling-backup.19-October-2022-11-08AM.tar.gz\"\n",
    ")\n",
    "# bi.restore_project_directory(\n",
    "#     f\"brightway2-project-Correlated and dependent sampling-backup.19-October-2022-11-08AM.tar.gz\"\n",
    "# )\n",
    "\n",
    "bd.databases"
   ]
  },
  {
   "cell_type": "markdown",
   "id": "6773bd85-2968-4ddd-b1f9-4d27fbe2f7b5",
   "metadata": {},
   "source": [
    "## Finding liquid fuel combustors in ecoinvent"
   ]
  },
  {
   "cell_type": "code",
   "execution_count": null,
   "id": "18ee9d93-b3be-4cb8-8933-7db49d14cf2f",
   "metadata": {},
   "outputs": [],
   "source": [
    "ei = bd.Database(\"ecoinvent 3.8 cutoff\")"
   ]
  },
  {
   "cell_type": "markdown",
   "id": "2e359844-89a9-4892-962a-cca384bb95bc",
   "metadata": {},
   "source": [
    "There are other combustion processes where fuels are measured in megajoules, these will be addressed later."
   ]
  },
  {
   "cell_type": "code",
   "execution_count": null,
   "id": "24fa74b9-b66e-427e-bb0c-e21989a85b9d",
   "metadata": {},
   "outputs": [],
   "source": [
    "flows = ('market for diesel,', 'diesel,', 'petrol,', 'market for petrol,')\n",
    "liquid_fuels = [x \n",
    "                for x in ei \n",
    "                if x['unit'] == 'kilogram'\n",
    "                and((any(x['name'].startswith(flow) for flow in flows) or x['name'] == 'market for diesel'))\n",
    "               ]\n",
    "{x['name'] for x in liquid_fuels}"
   ]
  },
  {
   "cell_type": "markdown",
   "id": "e06a6a3c-ee31-4743-ba0c-eb5802b50200",
   "metadata": {},
   "source": [
    "### Look into modelling specifics of a fuel activity"
   ]
  },
  {
   "cell_type": "code",
   "execution_count": null,
   "id": "bdc2b989-bac3-4ae3-84c1-1092ef21f07a",
   "metadata": {},
   "outputs": [],
   "source": [
    "petrol = [\n",
    "    act for act in ei if 'market for petrol, low-sulfur' in act['name'] \n",
    "    and 'Europe without Switzerland'==act['location']\n",
    "][0]\n",
    "production = list(petrol.production())[0]\n",
    "\n",
    "print(production['properties']['carbon content'])"
   ]
  },
  {
   "cell_type": "code",
   "execution_count": null,
   "id": "660322f6-e804-4cfb-a6e7-e655e0c0fce4",
   "metadata": {},
   "outputs": [],
   "source": [
    "# One of the consumers of this liquid fuel activity\n",
    "consumer_exchange = list(petrol.consumers())[0]\n",
    "consumer = consumer_exchange.output\n",
    "consumer_exchange"
   ]
  },
  {
   "cell_type": "markdown",
   "id": "cbbce5e7",
   "metadata": {},
   "source": [
    "## Carbon dioxide emissions"
   ]
  },
  {
   "cell_type": "code",
   "execution_count": null,
   "id": "faaa9d8a-f467-4ae7-8459-3481177d205a",
   "metadata": {},
   "outputs": [],
   "source": [
    "# All carbon dioxide emissions from fossil fuels in the biosphere\n",
    "co2_flows = [x for x in bd.Database('biosphere3') if x['name'] == 'Carbon dioxide, fossil']\n",
    "co2_flows"
   ]
  },
  {
   "cell_type": "code",
   "execution_count": null,
   "id": "1cdd45eb",
   "metadata": {},
   "outputs": [],
   "source": [
    "# Let's see CO2 emissions of the current consumer:\n",
    "for exc in consumer.biosphere():\n",
    "    if exc.input in co2_flows:\n",
    "        print(exc.input, exc.amount)"
   ]
  },
  {
   "cell_type": "code",
   "execution_count": null,
   "id": "56ac4222-adec-4fa2-8052-03da5ade71f9",
   "metadata": {},
   "outputs": [],
   "source": [
    "total_co2 = sum([exc['amount'] for exc in consumer.biosphere() if exc.input in co2_flows])\n",
    "total_co2"
   ]
  },
  {
   "cell_type": "code",
   "execution_count": null,
   "id": "ef9e77e7-b4c3-4f87-b3da-921c6ba9fbf6",
   "metadata": {},
   "outputs": [],
   "source": [
    "# Based on stoichiometry, the total CO2 is:\n",
    "consumer_exchange['amount'] / production['amount'] * \\\n",
    "    production['properties']['carbon content']['amount'] * (12 + 16 * 2) / 12"
   ]
  },
  {
   "cell_type": "code",
   "execution_count": null,
   "id": "97e16c68",
   "metadata": {},
   "outputs": [],
   "source": [
    "# These numbers don't match because there is a second petrol input.\n",
    "[exc for exc in consumer.technosphere() if exc.input in liquid_fuels]"
   ]
  },
  {
   "cell_type": "markdown",
   "id": "7b9a8253",
   "metadata": {},
   "source": [
    "## Carbon balancing in the static LCIA computations"
   ]
  },
  {
   "cell_type": "code",
   "execution_count": null,
   "id": "cf89f325-13d5-476d-8b1c-39966f107f17",
   "metadata": {},
   "outputs": [],
   "source": [
    "# Let's write a validation function.\n",
    "def carbon_fuel_emissions_balanced(activity, fuels, co2):\n",
    "    \"\"\"Check that in the static case, carbon balance in combustion processes is preserved.\n",
    "    \n",
    "    Returns a ``bool`.\"\"\"\n",
    "    try:\n",
    "        total_carbon = sum(\n",
    "            # Carbon content amount is fraction of mass, unitless\n",
    "            exc['amount'] * exc['properties']['carbon content']['amount'] \n",
    "            for exc in activity.technosphere() \n",
    "            if exc.input in fuels)\n",
    "    except KeyError:  # in case some of the fuels do not have carbon content information\n",
    "        return False\n",
    "    conversion = 12 / (12 + 16 * 2)\n",
    "    total_carbon_in_co2 = sum(\n",
    "        exc['amount'] * conversion\n",
    "        for exc in activity.biosphere()\n",
    "        if exc.input in co2\n",
    "    )\n",
    "    print(total_carbon, total_carbon_in_co2)\n",
    "    return math.isclose(total_carbon, total_carbon_in_co2, rel_tol=1e-06, abs_tol=1e-3)"
   ]
  },
  {
   "cell_type": "code",
   "execution_count": null,
   "id": "4a3c7954-a9ec-4d7f-a7c5-893e472ea067",
   "metadata": {},
   "outputs": [],
   "source": [
    "# Basically, if we find a consumer of liquid fuels, we should be able to estimate the amount of \n",
    "# emitted carbon dioxide. We can see that the balance is preserved in the static calculations.\n",
    "carbon_fuel_emissions_balanced(consumer, liquid_fuels, co2_flows)"
   ]
  },
  {
   "cell_type": "markdown",
   "id": "759ba706",
   "metadata": {},
   "source": [
    "## Carbon balancing in the presence of uncertainties\n",
    "\n",
    "In the presence of uncertainties, only fuels should vary, and the carbon dioxide emissions should be rescaled to satisfy the carbon balance equations. \n",
    "\n",
    "For that, let's write few functions that rescale the amount of CO2."
   ]
  },
  {
   "cell_type": "code",
   "execution_count": null,
   "id": "a90222f2-51b5-47ec-b468-39c3e7f62a08",
   "metadata": {},
   "outputs": [],
   "source": [
    "def get_samples_and_scaling_vector(activity, fuels, size=10, seed=None):\n",
    "    \"\"\"Draw ``size`` samples from technosphere exchanges for ``activity`` whose inputs are in ``fuels``.\n",
    "    \n",
    "    Returns:\n",
    "        * Numpy indices array with shape ``(len(found_exchanges)),)``\n",
    "        * Numpy flip array with shape ``(len(found_exchanges,))``\n",
    "        * Numpy data array with shape ``(size, len(found_exchanges))``\n",
    "        * Scaling vector with relative total carbon consumption and shape ``(size,)``.\n",
    "    \"\"\"\n",
    "    \n",
    "    # Find exchanges with liquid fuel inputs\n",
    "    exchanges = [exc for exc in activity.technosphere() if exc.input in fuels]\n",
    "    # Save indices and flip arrays of these exchanges to generate a datapackage later on\n",
    "    indices = np.array([(exc.input.id, exc.output.id) for exc in exchanges], dtype=bwp.INDICES_DTYPE)\n",
    "    flip = np.ones(indices.shape, dtype=bool)\n",
    "    # Generate independent samples for all liquid fuel exchanges\n",
    "    sample = sa.MCRandomNumberGenerator(\n",
    "        sa.UncertaintyBase.from_dicts(*[exc.as_dict() for exc in exchanges]), \n",
    "        seed=seed\n",
    "    ).generate(samples=size)\n",
    "    \n",
    "    # Save total carbon in the static case\n",
    "    static_total = sum(exc['amount'] * exc['properties']['carbon content']['amount'] for exc in exchanges)\n",
    "    # Save carbon content of each liquid fuel exchange\n",
    "    carbon_content = np.array([exc['properties']['carbon content']['amount'] for exc in exchanges]).reshape((-1, 1))\n",
    "    # Save total carbon in the stochastic case for all samples\n",
    "    carbon_total_per_sample = (sample * carbon_content).sum(axis=0).ravel()\n",
    "    # Compute fraction of carbon compared to the static case\n",
    "    # Scaling vector is needed to rescale carbon dioxide exchanges accordingly in the next step\n",
    "    scaling = carbon_total_per_sample / static_total\n",
    "    assert carbon_total_per_sample.shape == (size,)\n",
    "    \n",
    "    return indices, flip, sample, scaling"
   ]
  },
  {
   "cell_type": "code",
   "execution_count": null,
   "id": "045f69b2-5f76-4f73-bfbd-19091ece43a5",
   "metadata": {},
   "outputs": [],
   "source": [
    "def rescale_biosphere_exchanges_by_scaling_vector(activity, scaling, flows):\n",
    "    \"\"\"Rescale biosphere exchanges with flows ``flows`` from ``activity`` by vector ``scaling``.\n",
    "    \n",
    "    ``flows`` are biosphere flow objects, with e.g. all the CO2 flows, but also other flows such as metals, \n",
    "    volatile organics, etc. \n",
    "    Only rescales flows in ``flows`` which are present in ``activity`` exchanges.\n",
    "    \n",
    "    Assumes the static values are balanced, i.e. won't calculate CO2 emissions from carbon in \n",
    "    fuels but just rescales given values.\n",
    "\n",
    "    Returns: Numpy indices and data arrays with shape (number of exchanges found, len(scaling)).\n",
    "    Returns:\n",
    "        * Numpy indices array with shape ``(len(found_exchanges)),)``\n",
    "        * Numpy flip array with shape ``(len(found_exchanges,))``\n",
    "        * Numpy data array with shape ``(len(found_exchanges), len(factors))``\n",
    "    \"\"\"\n",
    "    indices, data = [], []\n",
    "    assert isinstance(scaling, np.ndarray) and len(scaling.shape) == 1\n",
    "    \n",
    "    for exc in activity.biosphere():\n",
    "        if exc.input in flows:\n",
    "            indices.append((exc.input.id, exc.output.id))\n",
    "            data.append(scaling * exc['amount'])\n",
    "    \n",
    "    indices = np.array(indices, dtype=bwp.INDICES_DTYPE)\n",
    "    flip = np.zeros(len(indices), dtype=bool)\n",
    "    data = np.vstack(data)\n",
    "            \n",
    "    return indices, flip, data"
   ]
  },
  {
   "cell_type": "code",
   "execution_count": null,
   "id": "ce0e3fbc",
   "metadata": {},
   "outputs": [],
   "source": [
    "nsamples = 10\n",
    "\n",
    "lf_indices, lf_flip, lf_data, lf_scaling = get_samples_and_scaling_vector(\n",
    "    consumer, liquid_fuels, size=nsamples, seed=42\n",
    ")\n",
    "\n",
    "co2_indices, co2_flip, co2_sample = rescale_biosphere_exchanges_by_scaling_vector(\n",
    "    consumer, lf_scaling, co2_flows\n",
    ")"
   ]
  },
  {
   "cell_type": "markdown",
   "id": "cb981193",
   "metadata": {},
   "source": [
    "## Create datapackage with uncertain fuels and balanced carbon"
   ]
  },
  {
   "cell_type": "code",
   "execution_count": null,
   "id": "166361dd",
   "metadata": {},
   "outputs": [],
   "source": [
    "dp_carbon = bwp.create_datapackage(sequential=True)\n",
    "dp_carbon.add_persistent_array(\n",
    "    matrix='technosphere_matrix',\n",
    "    indices_array=lf_indices,\n",
    "    data_array=lf_data,\n",
    "    flip_array=lf_flip,\n",
    ")\n",
    "dp_carbon.add_persistent_array(\n",
    "    matrix='biosphere_matrix',\n",
    "    indices_array=co2_indices,\n",
    "    data_array=co2_sample,\n",
    "    flip_array=co2_flip,\n",
    ")"
   ]
  },
  {
   "cell_type": "markdown",
   "id": "d2958f00",
   "metadata": {},
   "source": [
    "## Run Monte Carlo simulations"
   ]
  },
  {
   "cell_type": "code",
   "execution_count": null,
   "id": "0617c5b3",
   "metadata": {},
   "outputs": [],
   "source": [
    "ei = bd.Database(\"ecoinvent 3.8 cutoff\")\n",
    "\n",
    "ch_low = [\n",
    "    act for act in ei if act['name'] == \"market for electricity, low voltage\" and \"CH\" == act['location']\n",
    "][0]\n",
    "ipcc = ('IPCC 2013', 'climate change', 'GWP 100a')\n",
    "\n",
    "fu, data_objs, _ = bd.prepare_lca_inputs({ch_low: 1}, method=ipcc, remapping=False)\n",
    "lca = bc.LCA(\n",
    "    demand=fu, \n",
    "    data_objs=(\n",
    "        data_objs\n",
    "    ),\n",
    "    use_arrays=True,\n",
    "    use_distributions=True,\n",
    "    seed_override=42,\n",
    ")\n",
    "lca.lci()\n",
    "lca.lcia()"
   ]
  },
  {
   "cell_type": "code",
   "execution_count": null,
   "id": "71515b2b",
   "metadata": {},
   "outputs": [],
   "source": [
    "%%time\n",
    "iterations = 10\n",
    "scores = np.array([lca.score for _ in zip(range(iterations), lca)])\n",
    "scores"
   ]
  },
  {
   "cell_type": "code",
   "execution_count": null,
   "id": "0ba8f77c",
   "metadata": {},
   "outputs": [],
   "source": [
    "lca_carbon = bc.LCA(\n",
    "    demand=fu, \n",
    "    data_objs=(\n",
    "        data_objs + [dp_carbon]\n",
    "    ),\n",
    "    use_arrays=True,\n",
    "    use_distributions=True,\n",
    "    seed_override=42,\n",
    ")\n",
    "lca_carbon.lci()\n",
    "lca_carbon.lcia()"
   ]
  },
  {
   "cell_type": "code",
   "execution_count": null,
   "id": "2791884e",
   "metadata": {},
   "outputs": [],
   "source": [
    "%%time\n",
    "scores_carbon = np.array([lca_carbon.score for _ in zip(range(iterations), lca_carbon)])\n",
    "scores_carbon"
   ]
  },
  {
   "cell_type": "code",
   "execution_count": null,
   "id": "5bcc8b11",
   "metadata": {},
   "outputs": [],
   "source": [
    "# These differences are small, but try adding more liquid fuel consumers!\n",
    "scores_carbon - scores"
   ]
  },
  {
   "cell_type": "markdown",
   "id": "17dca584",
   "metadata": {},
   "source": [
    "## Exercise\n",
    "\n",
    "#### 1. Create datapackage with uncertain fuels and balanced carbon, but now for all activities in ecoinvent that consume liquid fuels\n",
    "#### 2. Compare LCIA scores with and without carbon balancing"
   ]
  },
  {
   "cell_type": "markdown",
   "id": "1abe21d9",
   "metadata": {},
   "source": [
    "<a id='3_entso'></a>\n",
    "# 3. How to add real measurements as Monte Carlo samples on the example of ENTSO-E electricity data\n",
    "\n",
    "ENTSO-E is a European association for the cooperation of transmission system operators (TSOs) for electricity.\n",
    "\n",
    "[ENTSO-E Transparency platform](https://transparency.entsoe.eu/) collects and publishes electricity generation, transportation and consumption data and information for the pan-European market.\n",
    "\n",
    "It is possible to export data from the Transparency platform or query it with Python client [entsoe-py](https://github.com/EnergieID/entsoe-py).\n",
    "\n",
    "In this exercise we provide time series datapackage for the years 2019-2021. We used ENTSO-E data to overwrite the low-, medium-, and high-voltage market mixes for 32 European countries.\n",
    "\n",
    "Generation categories were matched and disaggregated to ecoinvent 3.8 cutoff activities. Disaggregation was necessary in cases where ENTSO-E only listed one generation type (e.g. \"Hydro Water Reservoir\" was allocated to both alpine and non-alpine reservoirs), and was done using annual production volumes from ecoinvent as allocation factors. "
   ]
  },
  {
   "cell_type": "markdown",
   "id": "a9db804a",
   "metadata": {},
   "source": [
    "## Restore BW project\n",
    "\n",
    "It's slightly different from the previous project in that it contains `swiss residual electricity mix` database that was added, because Switzerland is modelled as a special case in ecoinvent, so it needed some corrections."
   ]
  },
  {
   "cell_type": "code",
   "execution_count": null,
   "id": "0a23674c",
   "metadata": {},
   "outputs": [],
   "source": [
    "bi.restore_project_directory(f\"/srv/data/brightway2-project-Correlated and dependent sampling-backup.24-October-2022-08-13AM.tar.gz\")\n",
    "# bi.restore_project_directory(f\"brightway2-project-Correlated and dependent sampling-backup.24-October-2022-08-13AM.tar.gz\")\n",
    "bd.projects.set_current(\"Correlated and dependent sampling\")\n",
    "bd.databases"
   ]
  },
  {
   "cell_type": "code",
   "execution_count": null,
   "id": "22572a90",
   "metadata": {},
   "outputs": [],
   "source": [
    "fp_entso_ts = \"/srv/data/entso-timeseries.zip\"\n",
    "# fp_entso_ts = \"entso-timeseries.zip\""
   ]
  },
  {
   "cell_type": "markdown",
   "id": "337b9a7e",
   "metadata": {},
   "source": [
    "## Load ENTSO-E timeseries datapackage"
   ]
  },
  {
   "cell_type": "code",
   "execution_count": null,
   "id": "28d94180",
   "metadata": {},
   "outputs": [],
   "source": [
    "dp_entso_ts = bwp.load_datapackage(ZipFS(fp_entso_ts))\n",
    "dp_entso_ts.metadata"
   ]
  },
  {
   "cell_type": "code",
   "execution_count": null,
   "id": "d361432e",
   "metadata": {},
   "outputs": [],
   "source": [
    "# Note that these timeseries are given on an hourly basis for the years 2019, 2020 (leap year) and 2021. \n",
    "# First datapoint corresponds to 01.01.2019 00:00, and the last - to 31.12.2021 23:00.\n",
    "data = dp_entso_ts.get_resource(\"timeseries ENTSO electricity values.data\")\n",
    "data[0].shape"
   ]
  },
  {
   "cell_type": "markdown",
   "id": "9d0366c3",
   "metadata": {},
   "source": [
    "## Exercise\n",
    "\n",
    "1. Run MC simulations with all timeseries data\n",
    "2. Run MC simulations with selected timeseries data, for instance with only daytime measurements or selected season. Compare LCA scores obtained from different cases by eg plotting the resulting distributions of LCIA scores, and computing their means and standard deviations. "
   ]
  },
  {
   "cell_type": "code",
   "execution_count": null,
   "id": "245250b0",
   "metadata": {},
   "outputs": [],
   "source": []
  },
  {
   "cell_type": "code",
   "execution_count": null,
   "id": "0313b727",
   "metadata": {},
   "outputs": [],
   "source": []
  }
 ],
 "metadata": {
  "celltoolbar": "Slideshow",
  "kernelspec": {
   "display_name": "Python [conda env:bw25]",
   "language": "python",
   "name": "conda-env-bw25-py"
  },
  "language_info": {
   "codemirror_mode": {
    "name": "ipython",
    "version": 3
   },
   "file_extension": ".py",
   "mimetype": "text/x-python",
   "name": "python",
   "nbconvert_exporter": "python",
   "pygments_lexer": "ipython3",
   "version": "3.10.6"
  },
  "varInspector": {
   "cols": {
    "lenName": 16,
    "lenType": 16,
    "lenVar": 40
   },
   "kernels_config": {
    "python": {
     "delete_cmd_postfix": "",
     "delete_cmd_prefix": "del ",
     "library": "var_list.py",
     "varRefreshCmd": "print(var_dic_list())"
    },
    "r": {
     "delete_cmd_postfix": ") ",
     "delete_cmd_prefix": "rm(",
     "library": "var_list.r",
     "varRefreshCmd": "cat(var_dic_list()) "
    }
   },
   "types_to_exclude": [
    "module",
    "function",
    "builtin_function_or_method",
    "instance",
    "_Feature"
   ],
   "window_display": false
  }
 },
 "nbformat": 4,
 "nbformat_minor": 5
}
