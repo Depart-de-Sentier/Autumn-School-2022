{
 "cells": [
  {
   "cell_type": "code",
   "execution_count": 1,
   "id": "723d6c19-b7b9-4af1-8f70-7ae5e60a068a",
   "metadata": {},
   "outputs": [],
   "source": [
    "import bw2data as bd\n",
    "import sqlite3"
   ]
  },
  {
   "cell_type": "code",
   "execution_count": 2,
   "id": "0d9b27be-0f7a-4aba-be0f-66b021767a4c",
   "metadata": {},
   "outputs": [],
   "source": [
    "columns = {o.name for o in bd.projects.db._database.get_columns(\"projectdataset\")}"
   ]
  },
  {
   "cell_type": "code",
   "execution_count": 10,
   "id": "f23fe78c-d353-46fb-baf8-5a4fb4cf5f33",
   "metadata": {},
   "outputs": [],
   "source": [
    "ADD_FULL_HASH_COLUMN = \"\"\"ALTER TABLE projectdataset ADD COLUMN \"full_hash\" integer default 1\"\"\"\n",
    "ADD_FULL_HASH_DEFAULT = \"\"\"\n",
    "    BEGIN;\n",
    "    CREATE TABLE \"projectdataset_schema_update\" (\n",
    "        \"id\" INTEGER NOT NULL PRIMARY KEY, \n",
    "        \"data\" BLOB NOT NULL, \n",
    "        \"name\" TEXT NOT NULL, \n",
    "        \"full_hash\"full_hash integer default 1\n",
    "    );\n",
    "    INSERT INTO \"projectdataset_schema_update\" SELECT \"id\", \"data\", \"name\", \"full_hash\" FROM \"projectdataset\";\n",
    "    ALTER TABLE \"projectdataset\" RENAME TO \"projectdataset_schema_update_backup\";\n",
    "    ALTER TABLE \"projectdataset_schema_update\" RENAME TO \"projectdataset\";\n",
    "    COMMIT;\n",
    "\"\"\""
   ]
  },
  {
   "cell_type": "code",
   "execution_count": 11,
   "id": "ccd54b98-6b9e-46af-8c8a-35c8181c5971",
   "metadata": {},
   "outputs": [],
   "source": [
    "def update_schema(SQL):\n",
    "    bd.projects.db.db.close()\n",
    "    connection = sqlite3.connect(bd.projects.db._filepath)\n",
    "    cursor = connection.cursor()\n",
    "    cursor.executescript(SQL)\n",
    "    connection.close()\n",
    "    bd.projects.db._database = bd.projects.db._create_database()"
   ]
  },
  {
   "cell_type": "code",
   "execution_count": 12,
   "id": "e60d0457-c1ff-47c4-ac47-d325d693290f",
   "metadata": {},
   "outputs": [],
   "source": [
    "if 'full_hash' in columns:\n",
    "    update_schema(ADD_FULL_HASH_DEFAULT)\n",
    "else:\n",
    "    bd.projects.db._database.execute_sql(ADD_FULL_HASH_COLUMN)"
   ]
  }
 ],
 "metadata": {
  "kernelspec": {
   "display_name": "Python [conda env:bw]",
   "language": "python",
   "name": "conda-env-bw-py"
  },
  "language_info": {
   "codemirror_mode": {
    "name": "ipython",
    "version": 3
   },
   "file_extension": ".py",
   "mimetype": "text/x-python",
   "name": "python",
   "nbconvert_exporter": "python",
   "pygments_lexer": "ipython3",
   "version": "3.10.6"
  }
 },
 "nbformat": 4,
 "nbformat_minor": 5
}
